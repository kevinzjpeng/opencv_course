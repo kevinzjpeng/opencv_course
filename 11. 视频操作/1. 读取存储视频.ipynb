{
 "cells": [
  {
   "cell_type": "markdown",
   "metadata": {},
   "source": [
    "# 视频播放\n",
    "\n"
   ]
  },
  {
   "cell_type": "code",
   "execution_count": null,
   "metadata": {},
   "outputs": [],
   "source": [
    "import traitlets\n",
    "from traitlets.config.configurable import SingletonConfigurable\n",
    "import numpy as np\n",
    "import enum\n",
    "import cv2\n",
    "import ipywidgets.widgets as widgets\n",
    "from IPython.display import display\n",
    "\n",
    "import sys\n",
    "sys.path.append('..')\n",
    "from opencv_course.video import Video"
   ]
  },
  {
   "cell_type": "code",
   "execution_count": null,
   "metadata": {},
   "outputs": [],
   "source": [
    "def bgr8_to_jpeg(value, quality=10):\n",
    "    global fps\n",
    "    scale_percent = 50       # percent of original size\n",
    "    width = int(value.shape[1] * scale_percent / 100)\n",
    "    height = int(value.shape[0] * scale_percent / 100)\n",
    "    dim = (width, height)\n",
    "    value = cv2.resize(value, dim,interpolation = cv2.INTER_AREA)\n",
    "    cv2.putText(value, \"r:{}:{} fps:{}\".format(width, height, fps), (10, 10),\n",
    "            cv2.FONT_HERSHEY_SIMPLEX, 0.35, (0, 255, 0), 1)\n",
    "    return bytes(cv2.imencode('.jpg', value)[1])\n",
    "\n",
    "\n",
    "video = Video(file='MakeUp.mp4')\n",
    "\n",
    "fps = video.fps\n",
    "\n",
    "image = widgets.Image(format='jpeg', width=640, height=360)  # this width and height doesn't necessarily have to match the camera\n",
    "\n",
    "camera_link = traitlets.dlink((video, 'value'), (image, 'value'), transform=bgr8_to_jpeg)\n",
    "\n",
    "display(image)"
   ]
  },
  {
   "cell_type": "markdown",
   "metadata": {},
   "source": [
    "# 视频储存"
   ]
  },
  {
   "cell_type": "code",
   "execution_count": null,
   "metadata": {},
   "outputs": [],
   "source": [
    "import ffmpeg\n",
    "probe = ffmpeg.probe('MakeUp.mp4')\n",
    "video_info = next(s for s in probe['streams'] if s['codec_type'] == 'video')\n",
    "scale_percent = 50  \n",
    "width = int(video_info['width']*scale_percent/100)\n",
    "height = int(video_info['height']*scale_percent/100)\n",
    "\n",
    "# Define the codec and create VideoWriter object.The output is stored in 'outpy.avi' file.\n",
    "# Define the codec and create VideoWriter object\n",
    "fourcc = cv2.VideoWriter_fourcc(*'XVID')\n",
    "out = cv2.VideoWriter('output.avi',fourcc, 20.0, (width,height))\n",
    "\n",
    "def bgr8_to_jpeg(value, quality=10):\n",
    "    global fps,out,width,height\n",
    "    dim = (width, height)\n",
    "    value = cv2.resize(value, dim,interpolation = cv2.INTER_AREA)\n",
    "    out.write(value)\n",
    "    cv2.putText(value, \"r:{}:{} fps:{}\".format(width, height, fps), (10, 10),\n",
    "            cv2.FONT_HERSHEY_SIMPLEX, 0.35, (0, 255, 0), 1)\n",
    "    \n",
    "    return bytes(cv2.imencode('.jpg', value)[1])"
   ]
  },
  {
   "cell_type": "code",
   "execution_count": null,
   "metadata": {},
   "outputs": [],
   "source": [
    "video = Video(file='MakeUp.mp4')\n",
    "\n",
    "fps = video.fps\n",
    "\n",
    "image = widgets.Image(format='jpeg', width=640, height=360)  # this width and height doesn't necessarily have to match the camera\n",
    "\n",
    "camera_link = traitlets.dlink((video, 'value'), (image, 'value'), transform=bgr8_to_jpeg)\n",
    "\n",
    "display(image)"
   ]
  },
  {
   "cell_type": "code",
   "execution_count": null,
   "metadata": {},
   "outputs": [],
   "source": [
    "out.release()\n",
    "video.unobserve_all()\n",
    "video.stop()"
   ]
  },
  {
   "cell_type": "markdown",
   "metadata": {},
   "source": [
    "# 播放修改好的视频"
   ]
  },
  {
   "cell_type": "code",
   "execution_count": null,
   "metadata": {},
   "outputs": [],
   "source": [
    "#不做任何修改\n",
    "def bgr8_to_jpeg(value, quality=10):\n",
    "    global fps\n",
    "    width = int(value.shape[1])\n",
    "    height = int(value.shape[0])\n",
    "    dim = (width, height)\n",
    "    value = cv2.resize(value, dim,interpolation = cv2.INTER_AREA)\n",
    "    value = cv2.putText(value, \"r:{}:{} fps:{}\".format(width, height, fps), (10, 10),\n",
    "            cv2.FONT_HERSHEY_SIMPLEX, 0.35, (0, 255, 0), 1)\n",
    "    return bytes(cv2.imencode('.jpg', value)[1])\n",
    "\n",
    "video = Video(file='output.avi')\n",
    "\n",
    "fps = video.fps\n",
    "\n",
    "image = widgets.Image(format='jpeg', width=640, height=360)  # this width and height doesn't necessarily have to match the camera\n",
    "\n",
    "camera_link = traitlets.dlink((video, 'value'), (image, 'value'), transform=bgr8_to_jpeg)\n",
    "\n",
    "display(image)"
   ]
  },
  {
   "cell_type": "markdown",
   "metadata": {},
   "source": [
    "# 为添加一个logo"
   ]
  },
  {
   "cell_type": "code",
   "execution_count": null,
   "metadata": {},
   "outputs": [],
   "source": [
    "def watermark(img, mask, alpha = 1):\n",
    "    h,w = img.shape[0], img.shape[1]\n",
    "    scale_ptg = 0.2\n",
    "    if w > h:\n",
    "        rate = int(w * scale_ptg) / mask.shape[1]\n",
    "    else:\n",
    "        rate = int(h * scale_ptg) / mask.shape[0]\n",
    "    mask = cv2.resize(mask, None, fx=rate, fy=rate)\n",
    "    \n",
    "    mask_h, mask_w = mask.shape[0], mask.shape[1]\n",
    "    mask_channels = cv2.split(mask)\n",
    "    dst_channels = cv2.split(img)\n",
    "    b, g, r, a = cv2.split(mask)\n",
    "\n",
    "    # 计算mask在图片的坐标\n",
    "    ul_points = (int(h * (1-scale_ptg)), int(int(w*(1-scale_ptg)) - mask_w / 2))   #左上角点\n",
    "    dr_points = (int(h * (1-scale_ptg)) + mask_h, int(int(w*(1-scale_ptg)) + mask_w / 2)) #右下角点\n",
    "    \n",
    "    for i in range(3):\n",
    "        dst_channels[i][ul_points[0] : dr_points[0], ul_points[1] : dr_points[1]] = dst_channels[i][ul_points[0] : dr_points[0], ul_points[1] : dr_points[1]] * (255.0 - a * alpha) / 255\n",
    "        dst_channels[i][ul_points[0] : dr_points[0], ul_points[1] : dr_points[1]] += np.array(mask_channels[i] * (a * alpha / 255), dtype=np.uint8)\n",
    "    dst_img = cv2.merge(dst_channels)\n",
    "    return dst_img"
   ]
  },
  {
   "cell_type": "code",
   "execution_count": null,
   "metadata": {},
   "outputs": [],
   "source": [
    "#不做任何修改\n",
    "def bgr8_to_jpeg(value, quality=10):\n",
    "    global fps, mask, width, height\n",
    "    dim = (width, height)\n",
    "    value = cv2.resize(value, dim,interpolation = cv2.INTER_AREA)\n",
    "    value = cv2.putText(value, \"r:{}:{} fps:{}\".format(width, height, fps), (10, 10),\n",
    "            cv2.FONT_HERSHEY_SIMPLEX, 0.35, (0, 255, 0), 1)\n",
    "    return bytes(cv2.imencode('.jpg', watermark(value, mask))[1])"
   ]
  },
  {
   "cell_type": "code",
   "execution_count": null,
   "metadata": {},
   "outputs": [],
   "source": [
    "import ffmpeg\n",
    "probe = ffmpeg.probe('MakeUp.mp4')\n",
    "video_info = next(s for s in probe['streams'] if s['codec_type'] == 'video')\n",
    "scale_percent = 30  \n",
    "width = int(video_info['width']*scale_percent/100)\n",
    "height = int(video_info['height']*scale_percent/100)\n",
    "\n",
    "video = Video(file='MakeUp.mp4')\n",
    "\n",
    "fps = video.fps\n",
    "mask = cv2.imread(\"logo.png\", cv2.IMREAD_UNCHANGED)\n",
    "                 \n",
    "image = widgets.Image(format='jpeg', width=640, height=360)  # this width and height doesn't necessarily have to match the camera\n",
    "\n",
    "camera_link = traitlets.dlink((video, 'value'), (image, 'value'), transform=bgr8_to_jpeg)\n",
    "\n",
    "display(image)"
   ]
  },
  {
   "cell_type": "code",
   "execution_count": null,
   "metadata": {},
   "outputs": [],
   "source": []
  }
 ],
 "metadata": {
  "kernelspec": {
   "display_name": "Python 3",
   "language": "python",
   "name": "python3"
  },
  "language_info": {
   "codemirror_mode": {
    "name": "ipython",
    "version": 3
   },
   "file_extension": ".py",
   "mimetype": "text/x-python",
   "name": "python",
   "nbconvert_exporter": "python",
   "pygments_lexer": "ipython3",
   "version": "3.6.8"
  }
 },
 "nbformat": 4,
 "nbformat_minor": 4
}
