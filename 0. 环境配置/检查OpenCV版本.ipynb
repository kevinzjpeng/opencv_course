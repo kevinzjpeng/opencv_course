{
 "cells": [
  {
   "cell_type": "markdown",
   "metadata": {},
   "source": [
    "# 检查OpenCV版本"
   ]
  },
  {
   "cell_type": "code",
   "execution_count": null,
   "metadata": {},
   "outputs": [],
   "source": [
    "import cv2 #加载OpenCV\n",
    "print(cv2.__version__) #查看当前OpenCV版本"
   ]
  },
  {
   "cell_type": "markdown",
   "metadata": {},
   "source": [
    "OpenCV 4是从OpenCV 3.4分支出来的一个版本。OpenCV 4由C++ 11编写而成，3.4切换到维护模式：仅接受错误修正和灯光功能，因此，如果您希望从opencv_contrib中获得任何新的功能，你应该选择OpenCV 4而不是3.x\n",
    "\n",
    "然而，如果你考虑的芸汐速度，因为经过3年的代码优化，OpenCV 3.4可能会更快些。"
   ]
  },
  {
   "cell_type": "code",
   "execution_count": null,
   "metadata": {},
   "outputs": [],
   "source": []
  }
 ],
 "metadata": {
  "kernelspec": {
   "display_name": "Python 3",
   "language": "python",
   "name": "python3"
  },
  "language_info": {
   "codemirror_mode": {
    "name": "ipython",
    "version": 3
   },
   "file_extension": ".py",
   "mimetype": "text/x-python",
   "name": "python",
   "nbconvert_exporter": "python",
   "pygments_lexer": "ipython3",
   "version": "3.6.8"
  }
 },
 "nbformat": 4,
 "nbformat_minor": 4
}
