{
 "cells": [
  {
   "cell_type": "markdown",
   "metadata": {},
   "source": [
    "# 在Mac上安装Python 3.7"
   ]
  },
  {
   "cell_type": "markdown",
   "metadata": {},
   "source": [
    "安装Python 3.7，可以在Python的[官方网址](https://www.python.org/downloads/)下载安装，但如果使用安装包管理工具Homebrew来安装，安装过程就会轻松很多。这篇文章就是介绍用Homebrew来安装python 3.7，其中所有代码都在Jupyter Notebook下运行，如果你要在终端运行，需要把句代码前的叹号\"!\"去掉。最后也会附上notebook的附件。"
   ]
  },
  {
   "cell_type": "markdown",
   "metadata": {},
   "source": [
    "## 查看现在的Python版本"
   ]
  },
  {
   "cell_type": "markdown",
   "metadata": {},
   "source": [
    "如果Python 2预先安装在你的Mac，你可以用以下命令来检查现在的Python版本 "
   ]
  },
  {
   "cell_type": "code",
   "execution_count": 1,
   "metadata": {},
   "outputs": [
    {
     "name": "stdout",
     "output_type": "stream",
     "text": [
      "Python 3.5.2\n"
     ]
    }
   ],
   "source": [
    "!python --version"
   ]
  },
  {
   "cell_type": "markdown",
   "metadata": {},
   "source": [
    "如果要检查一下Python 3是不是已经预先安装来，可以用python3 --version来检查Python的版本"
   ]
  },
  {
   "cell_type": "code",
   "execution_count": 2,
   "metadata": {},
   "outputs": [
    {
     "name": "stdout",
     "output_type": "stream",
     "text": [
      "Python 3.5.2\n"
     ]
    }
   ],
   "source": [
    "!python3 --version"
   ]
  },
  {
   "cell_type": "markdown",
   "metadata": {},
   "source": [
    "## 安装XCode和Homebrew"
   ]
  },
  {
   "cell_type": "markdown",
   "metadata": {},
   "source": [
    "要方便地安装Python3，可以使用Homebrew安装包管理器。但是安装Homebrew需要先安装苹果地xcode包，可以按照以下命令进行安装。安装xcode和相关依赖需要较长时间，需要点耐心。"
   ]
  },
  {
   "cell_type": "code",
   "execution_count": 3,
   "metadata": {},
   "outputs": [
    {
     "name": "stdout",
     "output_type": "stream",
     "text": [
      "xcode-select: error: command line tools are already installed, use \"Software Update\" to install updates\n"
     ]
    }
   ],
   "source": [
    "!xcode-select --install"
   ]
  },
  {
   "cell_type": "markdown",
   "metadata": {},
   "source": [
    "安装好xcode后，可以开始安装Homebrew"
   ]
  },
  {
   "cell_type": "code",
   "execution_count": null,
   "metadata": {},
   "outputs": [
    {
     "name": "stdout",
     "output_type": "stream",
     "text": [
      "\u001b[1;34m==>\u001b[1;39m This script will install:\u001b[0m\n",
      "/usr/local/bin/brew\n",
      "/usr/local/share/doc/homebrew\n",
      "/usr/local/share/man/man1/brew.1\n",
      "/usr/local/share/zsh/site-functions/_brew\n",
      "/usr/local/etc/bash_completion.d/brew\n",
      "/usr/local/Homebrew\n",
      "\n",
      "Press RETURN to continue or any other key to abort\n"
     ]
    }
   ],
   "source": [
    "!/usr/bin/ruby -e \"$(curl -fsSL https://raw.githubusercontent.com/Homebrew/install/master/install)\""
   ]
  },
  {
   "cell_type": "markdown",
   "metadata": {},
   "source": [
    "以上命令可以在[Homebrew](https://brew.sh/)主页找到, 一句命令就能完成安装。\n",
    "\n",
    "测试Homebrew是否已经安装好，可以运行以下命令."
   ]
  },
  {
   "cell_type": "code",
   "execution_count": null,
   "metadata": {},
   "outputs": [],
   "source": [
    "!brew doctor"
   ]
  },
  {
   "cell_type": "markdown",
   "metadata": {},
   "source": [
    "## 安装Python 3"
   ]
  },
  {
   "cell_type": "markdown",
   "metadata": {},
   "source": [
    "可以开始安装Python 3了，现在运行以下命令:"
   ]
  },
  {
   "cell_type": "code",
   "execution_count": null,
   "metadata": {},
   "outputs": [],
   "source": [
    "!brew install python3"
   ]
  },
  {
   "cell_type": "markdown",
   "metadata": {},
   "source": [
    "安装完成后可以通过以下命令来检查版本信息"
   ]
  },
  {
   "cell_type": "code",
   "execution_count": null,
   "metadata": {},
   "outputs": [],
   "source": [
    "!python3 --version"
   ]
  },
  {
   "cell_type": "markdown",
   "metadata": {},
   "source": [
    "现在可以在Mac终端打开一个Python 3终端(注意：如果直接在Jupyter上就会hang在那里)"
   ]
  },
  {
   "cell_type": "code",
   "execution_count": null,
   "metadata": {},
   "outputs": [],
   "source": [
    "!python3"
   ]
  },
  {
   "cell_type": "markdown",
   "metadata": {},
   "source": [
    "如果要退出终端，你可以输入exit()或者通过快捷键ctrl-D。如果你想继续使用Python 2，可以继续通过python命令来打开。"
   ]
  },
  {
   "cell_type": "code",
   "execution_count": null,
   "metadata": {},
   "outputs": [],
   "source": [
    "!python"
   ]
  },
  {
   "cell_type": "markdown",
   "metadata": {},
   "source": [
    "## 创建虚拟环境Virtual Environment"
   ]
  },
  {
   "cell_type": "markdown",
   "metadata": {},
   "source": [
    "虚拟环境的好处是你可以为不同项目建立一个独立的环境，你可以在同一台电脑用venv轻易切换Python 2.7和Python 3.7的版本。\n",
    "\n",
    "一个比较好的习惯就是把不同虚拟环境放到home目录。"
   ]
  },
  {
   "cell_type": "code",
   "execution_count": null,
   "metadata": {},
   "outputs": [],
   "source": [
    "!mkdir ~/.virtualenvs"
   ]
  },
  {
   "cell_type": "markdown",
   "metadata": {},
   "source": [
    "现在可以建立一个叫myvenv的虚拟环境"
   ]
  },
  {
   "cell_type": "code",
   "execution_count": null,
   "metadata": {},
   "outputs": [],
   "source": [
    "!python3 -m venv ~/.virtualenvs/myvenv"
   ]
  },
  {
   "cell_type": "markdown",
   "metadata": {},
   "source": [
    "这里用了python3来建立虚拟环境所以在虚拟环境里面输入pyhton就默认使用来python3，而不是Python 2.\n",
    "\n",
    "通过以下命令，我们就能激活环境"
   ]
  },
  {
   "cell_type": "code",
   "execution_count": null,
   "metadata": {},
   "outputs": [],
   "source": [
    "!source ~/.virtualenvs/myvenv/bin/activate"
   ]
  },
  {
   "cell_type": "markdown",
   "metadata": {},
   "source": [
    "在环境里，你可以通过命令 pip freeze 来检查虚拟环境里面安装来什么包。"
   ]
  },
  {
   "cell_type": "markdown",
   "metadata": {},
   "source": [
    "要终止虚拟环境，可以通过deactivate命令来结束"
   ]
  },
  {
   "cell_type": "code",
   "execution_count": null,
   "metadata": {},
   "outputs": [],
   "source": [
    "!deactivate"
   ]
  }
 ],
 "metadata": {
  "kernelspec": {
   "display_name": "Python 3",
   "language": "python",
   "name": "python3"
  },
  "language_info": {
   "codemirror_mode": {
    "name": "ipython",
    "version": 3
   },
   "file_extension": ".py",
   "mimetype": "text/x-python",
   "name": "python",
   "nbconvert_exporter": "python",
   "pygments_lexer": "ipython3",
   "version": "3.6.8"
  }
 },
 "nbformat": 4,
 "nbformat_minor": 4
}
