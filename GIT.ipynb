{
 "cells": [
  {
   "cell_type": "markdown",
   "metadata": {},
   "source": [
    "## 初始化Git"
   ]
  },
  {
   "cell_type": "code",
   "execution_count": null,
   "metadata": {},
   "outputs": [],
   "source": [
    "!git init"
   ]
  },
  {
   "cell_type": "markdown",
   "metadata": {},
   "source": [
    "## 为了解决显示中文问题，不对0x80以上字符quote"
   ]
  },
  {
   "cell_type": "code",
   "execution_count": 4,
   "metadata": {},
   "outputs": [],
   "source": [
    "#不对0x80以上的字符进行quote，解决git status/commit时中文文件名乱码\n",
    "!git config --global core.quotepath false"
   ]
  },
  {
   "cell_type": "markdown",
   "metadata": {},
   "source": [
    "## 检查Git 状态"
   ]
  },
  {
   "cell_type": "code",
   "execution_count": 1,
   "metadata": {
    "scrolled": true
   },
   "outputs": [
    {
     "name": "stdout",
     "output_type": "stream",
     "text": [
      "On branch master\n",
      "\n",
      "No commits yet\n",
      "\n",
      "Untracked files:\n",
      "  (use \"git add <file>...\" to include in what will be committed)\n",
      "\n",
      "\t\u001b[31m.gitignore\u001b[m\n",
      "\t\u001b[31m0. 环境配置/\u001b[m\n",
      "\t\u001b[31m01. 基本操作/\u001b[m\n",
      "\t\u001b[31m02. 物体检测/\u001b[m\n",
      "\t\u001b[31m03. 矫正图片角度/\u001b[m\n",
      "\t\u001b[31m04. 色彩矫正/\u001b[m\n",
      "\t\u001b[31m05. 图像分割/\u001b[m\n",
      "\t\u001b[31m06. 人脸检测/\u001b[m\n",
      "\t\u001b[31m07. 全景图/\u001b[m\n",
      "\t\u001b[31m08. 滤镜/\u001b[m\n",
      "\t\u001b[31m09. 脸操作/\u001b[m\n",
      "\t\u001b[31m10. 使用摄像头/\u001b[m\n",
      "\t\u001b[31m11. 视频操作/\u001b[m\n",
      "\t\u001b[31m12. 修改图片风格/\u001b[m\n",
      "\t\u001b[31m13. 姿势检测/\u001b[m\n",
      "\t\u001b[31m14.红绿灯（TLD）/\u001b[m\n",
      "\t\u001b[31m15.添加水印/\u001b[m\n",
      "\t\u001b[31m16. 道路跟踪/\u001b[m\n",
      "\t\u001b[31mA.approxPolyDP测试/\u001b[m\n",
      "\t\u001b[31mGIT.ipynb\u001b[m\n",
      "\t\u001b[31mREADME.md\u001b[m\n",
      "\t\u001b[31mexample/\u001b[m\n",
      "\t\u001b[31mopencv_course/\u001b[m\n",
      "\n",
      "nothing added to commit but untracked files present (use \"git add\" to track)\n"
     ]
    }
   ],
   "source": [
    "!git status"
   ]
  },
  {
   "cell_type": "markdown",
   "metadata": {},
   "source": [
    "## git add 新文件"
   ]
  },
  {
   "cell_type": "code",
   "execution_count": 3,
   "metadata": {},
   "outputs": [],
   "source": [
    "!git add *"
   ]
  },
  {
   "cell_type": "code",
   "execution_count": null,
   "metadata": {},
   "outputs": [],
   "source": [
    "!git add --ignore-removal ."
   ]
  },
  {
   "cell_type": "markdown",
   "metadata": {},
   "source": [
    "## git rm 已经删除文件"
   ]
  },
  {
   "cell_type": "code",
   "execution_count": 5,
   "metadata": {},
   "outputs": [
    {
     "name": "stdout",
     "output_type": "stream",
     "text": [
      "\n"
     ]
    }
   ],
   "source": [
    "!git status |grep deleted | cut -c \"15-\" |xargs git rm "
   ]
  },
  {
   "cell_type": "markdown",
   "metadata": {},
   "source": [
    "## git commit 文件\n",
    "需要修改comment"
   ]
  },
  {
   "cell_type": "code",
   "execution_count": 9,
   "metadata": {},
   "outputs": [
    {
     "name": "stdout",
     "output_type": "stream",
     "text": [
      "[master 0b1a423] 修复基本操作\n",
      " 10 files changed, 429 insertions(+), 583 deletions(-)\n",
      " create mode 100644 0. 环境配置/检查OpenCV版本.ipynb\n",
      " rewrite 01. 基本操作/01. 图像基础操作.ipynb (85%)\n",
      " rename 01. 基本操作/{Image Processing => }/Color Space Conversions.ipynb (100%)\n",
      " rename 01. 基本操作/{Image Processing => }/Drawing-Functions.ipynb (100%)\n",
      " rename 01. 基本操作/{Image Processing => }/Geometric Image Transformations.ipynb (100%)\n",
      " rename 01. 基本操作/{Image Processing => }/Image Filtering.ipynb (100%)\n",
      " rename 01. 基本操作/{ => image}/OpenCV_Logo.png (100%)\n",
      " rename 01. 基本操作/{Image Processing => image}/bilateral.png (100%)\n",
      " rename 01. 基本操作/{Image Processing => image}/boxfilter.jpg (100%)\n",
      " rename 01. 基本操作/{Image Processing => image}/dog.png (100%)\n"
     ]
    }
   ],
   "source": [
    "!git commit -m \"修复基本操作\""
   ]
  },
  {
   "cell_type": "markdown",
   "metadata": {},
   "source": [
    "## 再检查状态"
   ]
  },
  {
   "cell_type": "code",
   "execution_count": 4,
   "metadata": {},
   "outputs": [
    {
     "name": "stdout",
     "output_type": "stream",
     "text": [
      "# On branch master\n",
      "# Your branch is ahead of 'origin/master' by 1 commit.\n",
      "#   (use \"git push\" to publish your local commits)\n",
      "#\n",
      "nothing to commit, working directory clean\n"
     ]
    }
   ],
   "source": [
    "!git status"
   ]
  },
  {
   "cell_type": "markdown",
   "metadata": {},
   "source": [
    "## 先Git pull"
   ]
  },
  {
   "cell_type": "code",
   "execution_count": 2,
   "metadata": {},
   "outputs": [
    {
     "name": "stdout",
     "output_type": "stream",
     "text": [
      "From github.com:kevinzjpeng/opencv_course\n",
      " * branch            master     -> FETCH_HEAD\n",
      "error: The following untracked working tree files would be overwritten by merge:\n",
      "\t.gitignore\n",
      "\t0. 环境配置/在Mac安装Python 3.ipynb\n",
      "\t0. 环境配置/检查OpenCV版本.ipynb\n",
      "\t0. 环境配置/设置Jetson Nano功率.ipynb\n",
      "\t01. 基本操作/01. 图像基础操作.ipynb\n",
      "\t01. 基本操作/02.色彩空间转换.ipynb\n",
      "\t01. 基本操作/Drawing-Functions.ipynb\n",
      "\t01. 基本操作/Geometric Image Transformations.ipynb\n",
      "\t01. 基本操作/Image Filtering.ipynb\n",
      "\t01. 基本操作/image/OpenCV_Logo.png\n",
      "\t01. 基本操作/image/bilateral.png\n",
      "\t01. 基本操作/image/boxfilter.jpg\n",
      "\t01. 基本操作/image/dog.png\n",
      "\t01. 基本操作/绘画.ipynb\n",
      "\t02. 物体检测/1. 形状辨认.ipynb\n",
      "\t02. 物体检测/2. 寻找形状.ipynb\n",
      "\t02. 物体检测/3. 找Gameboy屏幕.ipynb\n",
      "\t02. 物体检测/4. 使用YoloV3来寻找物体.ipynb\n",
      "\t02. 物体检测/5. 寻找红绿灯.ipynb\n",
      "\t02. 物体检测/6. 用MobileNet寻找手机.ipynb\n",
      "\t02. 物体检测/finding_shapes_example.png\n",
      "\t02. 物体检测/gameboy.jpg\n",
      "\t02. 物体检测/phone.jpg\n",
      "\t02. 物体检测/shape.png\n",
      "\t03. 矫正图片角度/hello.png\n",
      "\t03. 矫正图片角度/矫正图片角度.ipynb\n",
      "\t04. 色彩矫正/picture1.jpg\n",
      "\t04. 色彩矫正/未命名.ipynb\n",
      "\t05. 图像分割/beauty.jpg\n",
      "\t05. 图像分割/bird.png\n",
      "\t05. 图像分割/car.jpg\n",
      "\t05. 图像分割/horse.png\n",
      "\t05. 图像分割/images/change/background-building.png\n",
      "\t05. 图像分割/images/change/background2.jpeg\n",
      "\t05. 图像分割/images/change/dog.png\n",
      "\t05. 图像分割/images/change/forest.png\n",
      "\t05. 图像分割/images/change/girl-with-hat.png\n",
      "\t05. 图像分割/images/change/girl.png\n",
      "\t05. 图像分割/images/change/girl3.jpg\n",
      "\t05. 图像分割/images/change/girl4.jpg\n",
      "\t05. 图像分割/images/change/james.png\n",
      "\t05. 图像分割/images/change/man.jpg\n",
      "\t05. 图像分割/images/greyscale/girl-with-hat.png\n",
      "\t05. 图像分割/图像分割.ipynb\n",
      "\t05. 图像分割/实时图像分割.ipynb\n",
      "\t05. 图像分割/背景变灰.ipynb\n",
      "\t05. 图像分割/背景油画化.ipynb\n",
      "\t05. 图像分割/背景虚化.ipynb\n",
      "\t05. 图像分割/背景铅笔画.ipynb\n",
      "\t05. 图像分割/自动去背景.ipynb\n",
      "\t05. 图像分割/自动替换背景.ipynb\n",
      "\t06. 人脸检测/FaceDetect.ipynb\n",
      "\t06. 人脸检测/iron_chic.jpg\n",
      "\t06. 人脸检测/rooster.jpg\n",
      "\t07. 全景图/1. 快速合并图片.ipynb\n",
      "\t07. 全景图/2. 同时使用两个摄像头.ipynb\n",
      "\t07. 全景图/2. 裁剪合成后的图片.ipynb\n",
      "\t07. 全景图/3. 全景图原理.ipynb\n",
      "\t07. 全景图/basic-by-full.ipynb\n",
      "\t07. 全景图/image/StitchingPipeline.jpg\n",
      "\t07. 全景图/image1/1.jpeg\n",
      "\t07. 全景图/image1/2.jpeg\n",
      "\t07. 全景图/image2/1.jpeg\n",
      "\t07. 全景图/image2/2.jpeg\n",
      "\t07. 全景图/image2/3.jpeg\n",
      "\t07. 全景图/result.jpg\n",
      "\t07. 全景图/result2.jpg\n",
      "\t08. 滤镜/epf-test.png\n",
      "\t08. 滤镜/fa.jpg\n",
      "\t08. 滤镜/浮雕效果.ipynb\n",
      "\t08. 滤镜/美颜（EPF边缘保留滤波）.ipynb\n",
      "\t09. 脸操作/1.脸部特征.ipynb\n",
      "\t09. 脸操作/close_eye.jpg\n",
      "\t09. 脸操作/dd.jpg\n",
      "\t09. 脸操作/face.jpg\n",
      "\t09. 脸操作/face_swapping_in_8_steps/bradley_cooper.jpg\n",
      "\t09. 脸操作/face_swapping_in_8_steps/jim_carrey.jpg\n",
      "\t09. 脸操作/face_swapping_in_8_steps/photos_face_swapping.py\n",
      "\t09. 脸操作/face_swapping_in_8_steps/realtime_face_swapping.py\n",
      "\t09. 脸操作/facial_landmarks_68markup-1024x825.jpg\n",
      "\t09. 脸操作/flag.png\n",
      "\t09. 脸操作/flag1.png\n",
      "\t09. 脸操作/flag3.png\n",
      "\t09. 脸操作/flag4.png\n",
      "\t09. 脸操作/huanzhu.jpg\n",
      "\t09. 脸操作/jin.jpg\n",
      "\t09. 脸操作/linzhiling.jpg\n",
      "\t09. 脸操作/output.jpg\n",
      "\t09. 脸操作/phone_call.jpg\n",
      "\t09. 脸操作/single_eye.jpg\n",
      "\t09. 脸操作/sleep.jpg\n",
      "\t09. 脸操作/tired.jpg\n",
      "\t09. 脸操作/two.png\n",
      "\t09. 脸操作/yangmi.jpg\n",
      "\t09. 脸操作/yangmi.png\n",
      "\t09. 脸操作/zhuyin.jpg\n",
      "\t09. 脸操作/国旗脸.ipynb\n",
      "\t09. 脸操作/平均脸.ipynb\n",
      "\t09. 脸操作/换脸.ipynb\n",
      "\t09. 脸操作/检查眼状态.ipynb\n",
      "\t10. 使用摄像头/1. 用摄像头拍摄视频.ipynb\n",
      "\t10. 使用摄像头/2. 同时使用两个摄像头.ipynb\n",
      "\t10. 使用摄像头/3. 调整视频拍摄效果.ipynb\n",
      "\t10. 使用摄像头/3. 通过色彩空间调视频效果.ipynb\n",
      "\t10. 使用摄像头/4. 视频检测眼睛状态.ipynb\n",
      "\t10. 使用摄像头/5. 视频检测眼睛状态和手机.ipynb\n",
      "\t\n",
      "Aborting\n"
     ]
    }
   ],
   "source": [
    "!git pull origin master"
   ]
  },
  {
   "cell_type": "code",
   "execution_count": null,
   "metadata": {},
   "outputs": [],
   "source": [
    "!git fetch origin master"
   ]
  },
  {
   "cell_type": "markdown",
   "metadata": {},
   "source": [
    "## Git push文件"
   ]
  },
  {
   "cell_type": "code",
   "execution_count": 11,
   "metadata": {
    "scrolled": true
   },
   "outputs": [
    {
     "name": "stdout",
     "output_type": "stream",
     "text": [
      "Enumerating objects: 10, done.\n",
      "Counting objects: 100% (10/10), done.\n",
      "Delta compression using up to 4 threads\n",
      "Compressing objects: 100% (6/6), done.\n",
      "Writing objects: 100% (6/6), 1.12 KiB | 1.12 MiB/s, done.\n",
      "Total 6 (delta 2), reused 0 (delta 0)\n",
      "remote: Resolving deltas: 100% (2/2), completed with 2 local objects.\u001b[K\n",
      "To github.com:kevinzjpeng/opencv_course.git\n",
      "   0e3ea19..0b1a423  master -> master\n"
     ]
    }
   ],
   "source": [
    "!git push origin master"
   ]
  },
  {
   "cell_type": "code",
   "execution_count": null,
   "metadata": {},
   "outputs": [],
   "source": []
  }
 ],
 "metadata": {
  "kernelspec": {
   "display_name": "Python 3",
   "language": "python",
   "name": "python3"
  },
  "language_info": {
   "codemirror_mode": {
    "name": "ipython",
    "version": 3
   },
   "file_extension": ".py",
   "mimetype": "text/x-python",
   "name": "python",
   "nbconvert_exporter": "python",
   "pygments_lexer": "ipython3",
   "version": "3.6.8"
  },
  "widgets": {
   "application/vnd.jupyter.widget-state+json": {
    "state": {},
    "version_major": 2,
    "version_minor": 0
   }
  }
 },
 "nbformat": 4,
 "nbformat_minor": 4
}
