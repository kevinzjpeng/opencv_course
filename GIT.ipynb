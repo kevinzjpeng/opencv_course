{
 "cells": [
  {
   "cell_type": "markdown",
   "metadata": {},
   "source": [
    "## 初始化Git"
   ]
  },
  {
   "cell_type": "code",
   "execution_count": 31,
   "metadata": {},
   "outputs": [
    {
     "name": "stdout",
     "output_type": "stream",
     "text": [
      "Initialized empty Git repository in /Users/kevinzjpeng/文档/课程/opencv/.git/\r\n"
     ]
    }
   ],
   "source": [
    "!git init"
   ]
  },
  {
   "cell_type": "markdown",
   "metadata": {},
   "source": [
    "## 检查Git 状态"
   ]
  },
  {
   "cell_type": "code",
   "execution_count": 32,
   "metadata": {
    "scrolled": true
   },
   "outputs": [
    {
     "name": "stdout",
     "output_type": "stream",
     "text": [
      "On branch master\r\n",
      "\r\n",
      "No commits yet\r\n",
      "\r\n",
      "Untracked files:\r\n",
      "  (use \"git add <file>...\" to include in what will be committed)\r\n",
      "\r\n",
      "\t\u001b[31m.DS_Store\u001b[m\r\n",
      "\t\u001b[31m.ipynb_checkpoints/\u001b[m\r\n",
      "\t\u001b[31mGIT.ipynb\u001b[m\r\n",
      "\t\u001b[31mOpenPose/\u001b[m\r\n",
      "\t\u001b[31m\"approxPolyDP\\346\\265\\213\\350\\257\\225/\"\u001b[m\r\n",
      "\t\u001b[31mdeep-learning-face-detection/\u001b[m\r\n",
      "\t\u001b[31mdetermining-object-color/\u001b[m\r\n",
      "\t\u001b[31m\"\\344\\272\\272\\350\\204\\270\\346\\243\\200\\346\\265\\213/\"\u001b[m\r\n",
      "\t\u001b[31m\"\\344\\275\\277\\347\\224\\250\\346\\221\\204\\345\\203\\217\\345\\244\\264/\"\u001b[m\r\n",
      "\t\u001b[31m\"\\345\\233\\276\\345\\203\\217\\345\\210\\206\\345\\211\\262/\"\u001b[m\r\n",
      "\t\u001b[31m\"\\345\\257\\273\\346\\211\\276Gameboy\\345\\261\\217\\345\\271\\225/\"\u001b[m\r\n",
      "\t\u001b[31m\"\\345\\257\\273\\346\\211\\276\\345\\275\\242\\347\\212\\266/\"\u001b[m\r\n",
      "\t\u001b[31m\"\\345\\275\\242\\347\\212\\266\\350\\276\\250\\350\\256\\244/\"\u001b[m\r\n",
      "\t\u001b[31m\"\\346\\241\\214\\347\\220\\203 \\350\\276\\250\\350\\256\\244/\"\u001b[m\r\n",
      "\t\u001b[31m\"\\347\\216\\257\\345\\242\\203\\351\\205\\215\\347\\275\\256/\"\u001b[m\r\n",
      "\t\u001b[31m\"\\347\\237\\253\\346\\255\\243\\345\\233\\276\\347\\211\\207\\350\\247\\222\\345\\272\\246/\"\u001b[m\r\n",
      "\t\u001b[31m\"\\351\\242\\234\\350\\211\\262\\350\\276\\250\\350\\256\\244/\"\u001b[m\r\n",
      "\r\n",
      "nothing added to commit but untracked files present (use \"git add\" to track)\r\n"
     ]
    }
   ],
   "source": [
    "!git status"
   ]
  },
  {
   "cell_type": "markdown",
   "metadata": {},
   "source": [
    "## 初始化Github repository"
   ]
  },
  {
   "cell_type": "code",
   "execution_count": null,
   "metadata": {},
   "outputs": [],
   "source": [
    "!git remote add origin https://github.com/kevinzjpeng/opencv_course.git"
   ]
  },
  {
   "cell_type": "code",
   "execution_count": 30,
   "metadata": {},
   "outputs": [
    {
     "name": "stdout",
     "output_type": "stream",
     "text": [
      "/Users/kevinzjpeng/文档/课程/opencv\r\n"
     ]
    }
   ],
   "source": [
    "!pwd"
   ]
  },
  {
   "cell_type": "markdown",
   "metadata": {},
   "source": [
    "## git add 新文件"
   ]
  },
  {
   "cell_type": "code",
   "execution_count": 3,
   "metadata": {},
   "outputs": [],
   "source": [
    "!git add *"
   ]
  },
  {
   "cell_type": "markdown",
   "metadata": {},
   "source": [
    "## git rm 已经删除文件"
   ]
  },
  {
   "cell_type": "code",
   "execution_count": 27,
   "metadata": {},
   "outputs": [
    {
     "name": "stdout",
     "output_type": "stream",
     "text": [
      "fatal: pathspec '../OpenCV approxPolyDP()\\346\\265\\213\\350\\257\\225.ipynb' did not match any files\r\n"
     ]
    }
   ],
   "source": [
    "!git status |grep deleted | cut -c \"14-\" |xargs git rm "
   ]
  },
  {
   "cell_type": "code",
   "execution_count": 4,
   "metadata": {},
   "outputs": [
    {
     "name": "stdout",
     "output_type": "stream",
     "text": [
      "[master 41e480a] Change folder directories\n",
      " 45 files changed, 5752 insertions(+)\n",
      " create mode 100644 opencv/GIT.ipynb\n",
      " create mode 100644 opencv/OpenPose/.DS_Store\n",
      " create mode 100644 opencv/OpenPose/OpenPose.ipynb\n",
      " create mode 100644 \"opencv/OpenPose/\\344\\270\\213\\350\\275\\275.mp4\"\n",
      " create mode 100644 \"opencv/approxPolyDP\\346\\265\\213\\350\\257\\225/.DS_Store\"\n",
      " create mode 100644 \"opencv/approxPolyDP\\346\\265\\213\\350\\257\\225/OpenCV approxPolyDP\\346\\265\\213\\350\\257\\225.ipynb\"\n",
      " create mode 100644 \"opencv/approxPolyDP\\346\\265\\213\\350\\257\\225/circle.png\"\n",
      " create mode 100644 opencv/deep-learning-face-detection/.DS_Store\n",
      " create mode 100644 opencv/deep-learning-face-detection/detect_faces.py\n",
      " create mode 100644 opencv/deep-learning-face-detection/detect_faces_video.py\n",
      " create mode 100644 opencv/determining-object-color/.DS_Store\n",
      " create mode 100644 opencv/determining-object-color/detect_color.py\n",
      " create mode 100644 opencv/determining-object-color/pyimagesearch/__init__.py\n",
      " create mode 100644 opencv/determining-object-color/pyimagesearch/colorlabeler.py\n",
      " create mode 100644 opencv/determining-object-color/pyimagesearch/shapedetector.py\n",
      " create mode 100644 \"opencv/\\344\\272\\272\\350\\204\\270\\346\\243\\200\\346\\265\\213/.DS_Store\"\n",
      " create mode 100644 \"opencv/\\344\\272\\272\\350\\204\\270\\346\\243\\200\\346\\265\\213/FaceDetect.ipynb\"\n",
      " create mode 100644 \"opencv/\\344\\272\\272\\350\\204\\270\\346\\243\\200\\346\\265\\213/deploy.prototxt.txt\"\n",
      " create mode 100644 \"opencv/\\344\\272\\272\\350\\204\\270\\346\\243\\200\\346\\265\\213/iron_chic.jpg\"\n",
      " create mode 100644 \"opencv/\\344\\272\\272\\350\\204\\270\\346\\243\\200\\346\\265\\213/res10_300x300_ssd_iter_140000.caffemodel\"\n",
      " create mode 100644 \"opencv/\\344\\272\\272\\350\\204\\270\\346\\243\\200\\346\\265\\213/rooster.jpg\"\n",
      " create mode 100644 \"opencv/\\344\\275\\277\\347\\224\\250\\346\\221\\204\\345\\203\\217\\345\\244\\264/.DS_Store\"\n",
      " create mode 100644 \"opencv/\\344\\275\\277\\347\\224\\250\\346\\221\\204\\345\\203\\217\\345\\244\\264/Camera.ipynb\"\n",
      " create mode 100644 \"opencv/\\345\\233\\276\\345\\203\\217\\345\\210\\206\\345\\211\\262/.ipynb_checkpoints/\\346\\234\\252\\345\\221\\275\\345\\220\\215-checkpoint.ipynb\"\n",
      " create mode 100644 \"opencv/\\345\\233\\276\\345\\203\\217\\345\\210\\206\\345\\211\\262/bird.png\"\n",
      " create mode 100644 \"opencv/\\345\\233\\276\\345\\203\\217\\345\\210\\206\\345\\211\\262/horse.png\"\n",
      " create mode 100644 \"opencv/\\345\\233\\276\\345\\203\\217\\345\\210\\206\\345\\211\\262/\\346\\234\\252\\345\\221\\275\\345\\220\\215.ipynb\"\n",
      " create mode 100644 \"opencv/\\345\\257\\273\\346\\211\\276Gameboy\\345\\261\\217\\345\\271\\225/.DS_Store\"\n",
      " create mode 100644 \"opencv/\\345\\257\\273\\346\\211\\276Gameboy\\345\\261\\217\\345\\271\\225/gameboy.jpg\"\n",
      " create mode 100644 \"opencv/\\345\\257\\273\\346\\211\\276Gameboy\\345\\261\\217\\345\\271\\225/\\346\\211\\276Gameboy\\345\\261\\217\\345\\271\\225.ipynb\"\n",
      " create mode 100644 \"opencv/\\345\\257\\273\\346\\211\\276\\345\\275\\242\\347\\212\\266/.DS_Store\"\n",
      " create mode 100644 \"opencv/\\345\\257\\273\\346\\211\\276\\345\\275\\242\\347\\212\\266/finding_shapes_example.png\"\n",
      " create mode 100644 \"opencv/\\345\\257\\273\\346\\211\\276\\345\\275\\242\\347\\212\\266/\\345\\257\\273\\346\\211\\276\\345\\275\\242\\347\\212\\266.ipynb\"\n",
      " create mode 100644 \"opencv/\\345\\275\\242\\347\\212\\266\\350\\276\\250\\350\\256\\244/.DS_Store\"\n",
      " create mode 100644 \"opencv/\\345\\275\\242\\347\\212\\266\\350\\276\\250\\350\\256\\244/shape.png\"\n",
      " create mode 100644 \"opencv/\\345\\275\\242\\347\\212\\266\\350\\276\\250\\350\\256\\244/\\345\\275\\242\\347\\212\\266\\350\\276\\250\\350\\256\\244.ipynb\"\n",
      " create mode 100644 \"opencv/\\346\\241\\214\\347\\220\\203 \\350\\276\\250\\350\\256\\244/snooker.png\"\n",
      " create mode 100644 \"opencv/\\347\\216\\257\\345\\242\\203\\351\\205\\215\\347\\275\\256/.DS_Store\"\n",
      " create mode 100644 \"opencv/\\347\\216\\257\\345\\242\\203\\351\\205\\215\\347\\275\\256/\\345\\234\\250Mac\\345\\256\\211\\350\\243\\205Python 3.ipynb\"\n",
      " create mode 100644 \"opencv/\\347\\237\\253\\346\\255\\243\\345\\233\\276\\347\\211\\207\\350\\247\\222\\345\\272\\246/.DS_Store\"\n",
      " create mode 100644 \"opencv/\\347\\237\\253\\346\\255\\243\\345\\233\\276\\347\\211\\207\\350\\247\\222\\345\\272\\246/hello.png\"\n",
      " create mode 100644 \"opencv/\\347\\237\\253\\346\\255\\243\\345\\233\\276\\347\\211\\207\\350\\247\\222\\345\\272\\246/\\347\\237\\253\\346\\255\\243\\345\\233\\276\\347\\211\\207\\350\\247\\222\\345\\272\\246.ipynb\"\n",
      " create mode 100644 \"opencv/\\351\\242\\234\\350\\211\\262\\350\\276\\250\\350\\256\\244/.DS_Store\"\n",
      " create mode 100644 \"opencv/\\351\\242\\234\\350\\211\\262\\350\\276\\250\\350\\256\\244/example_shapes.png\"\n",
      " create mode 100644 \"opencv/\\351\\242\\234\\350\\211\\262\\350\\276\\250\\350\\256\\244/\\351\\242\\234\\350\\211\\262\\350\\276\\250\\350\\256\\244.ipynb\"\n"
     ]
    }
   ],
   "source": [
    "!git commit -m \"Change folder directories\""
   ]
  },
  {
   "cell_type": "code",
   "execution_count": 5,
   "metadata": {},
   "outputs": [
    {
     "name": "stdout",
     "output_type": "stream",
     "text": [
      "On branch master\r\n",
      "Changes not staged for commit:\r\n",
      "  (use \"git add/rm <file>...\" to update what will be committed)\r\n",
      "  (use \"git checkout -- <file>...\" to discard changes in working directory)\r\n",
      "\r\n",
      "\t\u001b[31mdeleted:    \"../OpenCV approxPolyDP()\\346\\265\\213\\350\\257\\225.ipynb\"\u001b[m\r\n",
      "\t\u001b[31mdeleted:    ../circle.png\u001b[m\r\n",
      "\t\u001b[31mdeleted:    ../gameboy.jpg\u001b[m\r\n",
      "\t\u001b[31mdeleted:    ../hello.png\u001b[m\r\n",
      "\t\u001b[31mdeleted:    \"../\\345\\233\\233\\347\\202\\271\\345\\256\\232\\344\\275\\215.ipynb\"\u001b[m\r\n",
      "\t\u001b[31mdeleted:    \"../\\345\\234\\250Mac\\345\\256\\211\\350\\243\\205Python 3.ipynb\"\u001b[m\r\n",
      "\t\u001b[31mdeleted:    \"../\\346\\211\\276Gameboy\\345\\261\\217\\345\\271\\225.ipynb\"\u001b[m\r\n",
      "\t\u001b[31mdeleted:    \"../\\346\\234\\252\\345\\221\\275\\345\\220\\215.ipynb\"\u001b[m\r\n",
      "\r\n",
      "Untracked files:\r\n",
      "  (use \"git add <file>...\" to include in what will be committed)\r\n",
      "\r\n",
      "\t\u001b[31m../.DS_Store\u001b[m\r\n",
      "\t\u001b[31m../.ipynb_checkpoints/\u001b[m\r\n",
      "\t\u001b[31m.DS_Store\u001b[m\r\n",
      "\t\u001b[31m.ipynb_checkpoints/\u001b[m\r\n",
      "\r\n",
      "no changes added to commit (use \"git add\" and/or \"git commit -a\")\r\n"
     ]
    }
   ],
   "source": [
    "!git status"
   ]
  },
  {
   "cell_type": "code",
   "execution_count": 13,
   "metadata": {},
   "outputs": [
    {
     "name": "stdout",
     "output_type": "stream",
     "text": [
      "total 992\r\n",
      "-rw-r--r--   1 kevinzjpeng  staff    7186  8  8 21:46 在Mac安装Python 3-checkpoint.ipynb\r\n",
      "-rw-r--r--   1 kevinzjpeng  staff   77742  8  9 00:40 四点定位-checkpoint.ipynb\r\n",
      "-rw-r--r--   1 kevinzjpeng  staff  305579  8  9 02:36 找Gameboy屏幕-checkpoint.ipynb\r\n",
      "-rw-r--r--   1 kevinzjpeng  staff   35539  8  9 11:52 OpenCV approxPolyDP()测试-checkpoint.ipynb\r\n",
      "-rw-r--r--   1 kevinzjpeng  staff      72  8  9 12:03 未命名-checkpoint.ipynb\r\n",
      "drwxr-xr-x   7 kevinzjpeng  staff     224  8  9 12:03 \u001b[34m.\u001b[m\u001b[m\r\n",
      "drwxr-xr-x  13 kevinzjpeng  staff     416  8  9 12:07 \u001b[34m..\u001b[m\u001b[m\r\n"
     ]
    }
   ],
   "source": []
  },
  {
   "cell_type": "code",
   "execution_count": null,
   "metadata": {},
   "outputs": [],
   "source": []
  }
 ],
 "metadata": {
  "kernelspec": {
   "display_name": "Python 3",
   "language": "python",
   "name": "python3"
  },
  "language_info": {
   "codemirror_mode": {
    "name": "ipython",
    "version": 3
   },
   "file_extension": ".py",
   "mimetype": "text/x-python",
   "name": "python",
   "nbconvert_exporter": "python",
   "pygments_lexer": "ipython3",
   "version": "3.7.4"
  }
 },
 "nbformat": 4,
 "nbformat_minor": 2
}
