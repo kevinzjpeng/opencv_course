{
 "cells": [
  {
   "cell_type": "markdown",
   "metadata": {},
   "source": [
    "## 初始化Git"
   ]
  },
  {
   "cell_type": "code",
   "execution_count": null,
   "metadata": {},
   "outputs": [],
   "source": [
    "!git init"
   ]
  },
  {
   "cell_type": "markdown",
   "metadata": {},
   "source": [
    "## 为了解决显示中文问题，不对0x80以上字符quote"
   ]
  },
  {
   "cell_type": "code",
   "execution_count": null,
   "metadata": {},
   "outputs": [],
   "source": [
    "#不对0x80以上的字符进行quote，解决git status/commit时中文文件名乱码\n",
    "!git config --global core.quotepath false"
   ]
  },
  {
   "cell_type": "markdown",
   "metadata": {},
   "source": [
    "## 检查Git 状态"
   ]
  },
  {
   "cell_type": "code",
   "execution_count": 4,
   "metadata": {
    "scrolled": true
   },
   "outputs": [
    {
     "name": "stdout",
     "output_type": "stream",
     "text": [
      "# On branch master\n",
      "# Changes to be committed:\n",
      "#   (use \"git reset HEAD <file>...\" to unstage)\n",
      "#\n",
      "#\tmodified:   \"\\345\\233\\276\\345\\203\\217\\345\\210\\206\\345\\211\\262/\\350\\203\\214\\346\\231\\257\\345\\217\\230\\347\\201\\260.ipynb\"\n",
      "#\tmodified:   \"\\345\\233\\276\\345\\203\\217\\345\\210\\206\\345\\211\\262/\\350\\203\\214\\346\\231\\257\\346\\262\\271\\347\\224\\273\\345\\214\\226.ipynb\"\n",
      "#\tmodified:   \"\\345\\233\\276\\345\\203\\217\\345\\210\\206\\345\\211\\262/\\350\\203\\214\\346\\231\\257\\350\\231\\232\\345\\214\\226.ipynb\"\n",
      "#\tmodified:   \"\\345\\233\\276\\345\\203\\217\\345\\210\\206\\345\\211\\262/\\350\\203\\214\\346\\231\\257\\351\\223\\205\\347\\254\\224\\347\\224\\273.ipynb\"\n",
      "#\tnew file:   \"\\350\\204\\270\\346\\223\\215\\344\\275\\234/phone_call.jpg\"\n",
      "#\tnew file:   \"\\350\\204\\270\\346\\223\\215\\344\\275\\234/sleep.jpg\"\n",
      "#\tmodified:   \"\\350\\204\\270\\346\\223\\215\\344\\275\\234/\\345\\271\\263\\345\\235\\207\\350\\204\\270.ipynb\"\n",
      "#\tmodified:   \"\\350\\204\\270\\346\\223\\215\\344\\275\\234/\\346\\215\\242\\350\\204\\270.ipynb\"\n",
      "#\tnew file:   \"\\350\\204\\270\\346\\223\\215\\344\\275\\234/\\350\\204\\270\\347\\211\\271\\345\\276\\201.ipynb\"\n",
      "#\n"
     ]
    }
   ],
   "source": [
    "!git status"
   ]
  },
  {
   "cell_type": "markdown",
   "metadata": {},
   "source": [
    "## 初始化Github repository"
   ]
  },
  {
   "cell_type": "code",
   "execution_count": 2,
   "metadata": {},
   "outputs": [
    {
     "name": "stdout",
     "output_type": "stream",
     "text": [
      "fatal: remote origin already exists.\n"
     ]
    }
   ],
   "source": [
    "!git remote add origin https://github.com/kevinzjpeng/opencv_course.git"
   ]
  },
  {
   "cell_type": "markdown",
   "metadata": {},
   "source": [
    "## git add 新文件"
   ]
  },
  {
   "cell_type": "code",
   "execution_count": 2,
   "metadata": {},
   "outputs": [],
   "source": [
    "!git add *"
   ]
  },
  {
   "cell_type": "markdown",
   "metadata": {},
   "source": [
    "## git rm 已经删除文件"
   ]
  },
  {
   "cell_type": "code",
   "execution_count": 3,
   "metadata": {},
   "outputs": [
    {
     "name": "stdout",
     "output_type": "stream",
     "text": [
      "usage: git rm [options] [--] <file>...\n",
      "\n",
      "    -n, --dry-run         dry run\n",
      "    -q, --quiet           do not list removed files\n",
      "    --cached              only remove from the index\n",
      "    -f, --force           override the up-to-date check\n",
      "    -r                    allow recursive removal\n",
      "    --ignore-unmatch      exit with a zero status even if nothing matched\n",
      "\n"
     ]
    }
   ],
   "source": [
    "!git status |grep deleted | cut -c \"14-\" |xargs git rm "
   ]
  },
  {
   "cell_type": "markdown",
   "metadata": {},
   "source": [
    "## git commit 文件\n",
    "需要修改comment"
   ]
  },
  {
   "cell_type": "code",
   "execution_count": 7,
   "metadata": {},
   "outputs": [
    {
     "name": "stdout",
     "output_type": "stream",
     "text": [
      "[master a60faf5] 增加脸部轮廓辨认\n",
      " 9 files changed, 260 insertions(+), 31 deletions(-)\n",
      " create mode 100644 \"\\350\\204\\270\\346\\223\\215\\344\\275\\234/phone_call.jpg\"\n",
      " create mode 100644 \"\\350\\204\\270\\346\\223\\215\\344\\275\\234/sleep.jpg\"\n",
      " create mode 100644 \"\\350\\204\\270\\346\\223\\215\\344\\275\\234/\\350\\204\\270\\347\\211\\271\\345\\276\\201.ipynb\"\n"
     ]
    }
   ],
   "source": [
    "!git commit -m \"增加脸部轮廓辨认\""
   ]
  },
  {
   "cell_type": "markdown",
   "metadata": {},
   "source": [
    "## 再检查状态"
   ]
  },
  {
   "cell_type": "code",
   "execution_count": 8,
   "metadata": {},
   "outputs": [
    {
     "name": "stdout",
     "output_type": "stream",
     "text": [
      "# On branch master\n",
      "# Your branch is ahead of 'origin/master' by 1 commit.\n",
      "#   (use \"git push\" to publish your local commits)\n",
      "#\n",
      "nothing to commit, working directory clean\n"
     ]
    }
   ],
   "source": [
    "!git status"
   ]
  },
  {
   "cell_type": "markdown",
   "metadata": {},
   "source": [
    "## 先Git pull"
   ]
  },
  {
   "cell_type": "code",
   "execution_count": 9,
   "metadata": {},
   "outputs": [
    {
     "name": "stdout",
     "output_type": "stream",
     "text": [
      "Warning: Permanently added the RSA host key for IP address '52.74.223.119' to the list of known hosts.\n",
      "From github.com:kevinzjpeng/opencv_course\n",
      " * branch            master     -> FETCH_HEAD\n",
      "Already up-to-date.\n"
     ]
    }
   ],
   "source": [
    "!git pull origin master"
   ]
  },
  {
   "cell_type": "markdown",
   "metadata": {},
   "source": [
    "## Git push文件"
   ]
  },
  {
   "cell_type": "code",
   "execution_count": 7,
   "metadata": {
    "scrolled": true
   },
   "outputs": [
    {
     "name": "stdout",
     "output_type": "stream",
     "text": [
      "Enumerating objects: 25, done.\n",
      "Counting objects: 100% (25/25), done.\n",
      "Delta compression using up to 4 threads\n",
      "Compressing objects: 100% (14/14), done.\n",
      "Writing objects: 100% (14/14), 5.42 MiB | 627.00 KiB/s, done.\n",
      "Total 14 (delta 6), reused 0 (delta 0)\n",
      "remote: Resolving deltas: 100% (6/6), completed with 6 local objects.\u001b[K\n",
      "To https://github.com/kevinzjpeng/opencv_course.git\n",
      "   4856cdd..e5ad671  master -> master\n"
     ]
    }
   ],
   "source": [
    "!git push origin master"
   ]
  },
  {
   "cell_type": "code",
   "execution_count": null,
   "metadata": {},
   "outputs": [],
   "source": []
  }
 ],
 "metadata": {
  "kernelspec": {
   "display_name": "Python 3",
   "language": "python",
   "name": "python3"
  },
  "language_info": {
   "codemirror_mode": {
    "name": "ipython",
    "version": 3
   },
   "file_extension": ".py",
   "mimetype": "text/x-python",
   "name": "python",
   "nbconvert_exporter": "python",
   "pygments_lexer": "ipython3",
   "version": "3.6.8"
  }
 },
 "nbformat": 4,
 "nbformat_minor": 4
}
