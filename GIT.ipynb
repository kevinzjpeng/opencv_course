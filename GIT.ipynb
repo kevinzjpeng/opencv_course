{
 "cells": [
  {
   "cell_type": "markdown",
   "metadata": {},
   "source": [
    "## 初始化Git"
   ]
  },
  {
   "cell_type": "code",
   "execution_count": null,
   "metadata": {},
   "outputs": [],
   "source": [
    "!git init"
   ]
  },
  {
   "cell_type": "markdown",
   "metadata": {},
   "source": [
    "## 为了解决显示中文问题，不对0x80以上字符quote"
   ]
  },
  {
   "cell_type": "code",
   "execution_count": 4,
   "metadata": {},
   "outputs": [],
   "source": [
    "#不对0x80以上的字符进行quote，解决git status/commit时中文文件名乱码\n",
    "!git config --global core.quotepath false"
   ]
  },
  {
   "cell_type": "markdown",
   "metadata": {},
   "source": [
    "## 检查Git 状态"
   ]
  },
  {
   "cell_type": "code",
   "execution_count": 20,
   "metadata": {
    "scrolled": true
   },
   "outputs": [
    {
     "name": "stdout",
     "output_type": "stream",
     "text": [
      "On branch master\n",
      "Changes to be committed:\n",
      "  (use \"git reset HEAD <file>...\" to unstage)\n",
      "\n",
      "\t\u001b[32mnew file:   .gitignore\u001b[m\n",
      "\n"
     ]
    }
   ],
   "source": [
    "!git status"
   ]
  },
  {
   "cell_type": "markdown",
   "metadata": {},
   "source": [
    "## git add 新文件"
   ]
  },
  {
   "cell_type": "code",
   "execution_count": 19,
   "metadata": {},
   "outputs": [],
   "source": [
    "!git add .gitignore"
   ]
  },
  {
   "cell_type": "code",
   "execution_count": null,
   "metadata": {},
   "outputs": [],
   "source": [
    "!git add --ignore-removal ."
   ]
  },
  {
   "cell_type": "markdown",
   "metadata": {},
   "source": [
    "## git rm 已经删除文件"
   ]
  },
  {
   "cell_type": "code",
   "execution_count": 5,
   "metadata": {},
   "outputs": [
    {
     "name": "stdout",
     "output_type": "stream",
     "text": [
      "\n"
     ]
    }
   ],
   "source": [
    "!git status |grep deleted | cut -c \"15-\" |xargs git rm "
   ]
  },
  {
   "cell_type": "markdown",
   "metadata": {},
   "source": [
    "## git commit 文件\n",
    "需要修改comment"
   ]
  },
  {
   "cell_type": "code",
   "execution_count": 21,
   "metadata": {},
   "outputs": [
    {
     "name": "stdout",
     "output_type": "stream",
     "text": [
      "[master a66b298] 修改GIT命令\n",
      " 1 file changed, 8 insertions(+)\n",
      " create mode 100644 .gitignore\n"
     ]
    }
   ],
   "source": [
    "!git commit -m \"修改GIT命令\""
   ]
  },
  {
   "cell_type": "markdown",
   "metadata": {},
   "source": [
    "## 再检查状态"
   ]
  },
  {
   "cell_type": "code",
   "execution_count": 15,
   "metadata": {},
   "outputs": [
    {
     "name": "stdout",
     "output_type": "stream",
     "text": [
      "On branch master\n",
      "Untracked files:\n",
      "  (use \"git add <file>...\" to include in what will be committed)\n",
      "\n",
      "\t\u001b[31m.gitignore\u001b[m\n",
      "\n",
      "nothing added to commit but untracked files present (use \"git add\" to track)\n"
     ]
    }
   ],
   "source": [
    "!git status"
   ]
  },
  {
   "cell_type": "markdown",
   "metadata": {},
   "source": [
    "## 先Git pull"
   ]
  },
  {
   "cell_type": "code",
   "execution_count": 22,
   "metadata": {},
   "outputs": [
    {
     "name": "stdout",
     "output_type": "stream",
     "text": [
      "From github.com:kevinzjpeng/opencv_course\n",
      " * branch            master     -> FETCH_HEAD\n",
      "warning: Cannot merge binary files: 09. 脸操作/output.jpg (HEAD vs. 93ad9fd8e09eb071d94136d7937f91f8084ff202)\n",
      "CONFLICT (add/add): Merge conflict in opencv_course/video.py\n",
      "Auto-merging opencv_course/video.py\n",
      "CONFLICT (add/add): Merge conflict in example/寻找HVS颜色通道/通过HSV找出某种颜色通道.ipynb\n",
      "Auto-merging example/寻找HVS颜色通道/通过HSV找出某种颜色通道.ipynb\n",
      "CONFLICT (add/add): Merge conflict in GIT.ipynb\n",
      "Auto-merging GIT.ipynb\n",
      "CONFLICT (add/add): Merge conflict in 09. 脸操作/output.jpg\n",
      "Auto-merging 09. 脸操作/output.jpg\n",
      "CONFLICT (add/add): Merge conflict in 09. 脸操作/1.脸部特征.ipynb\n",
      "Auto-merging 09. 脸操作/1.脸部特征.ipynb\n",
      "Automatic merge failed; fix conflicts and then commit the result.\n"
     ]
    }
   ],
   "source": [
    "!git pull origin master --allow-unrelated-histories"
   ]
  },
  {
   "cell_type": "code",
   "execution_count": null,
   "metadata": {},
   "outputs": [],
   "source": [
    "!git fetch origin master"
   ]
  },
  {
   "cell_type": "markdown",
   "metadata": {},
   "source": [
    "## Git push文件"
   ]
  },
  {
   "cell_type": "code",
   "execution_count": 13,
   "metadata": {
    "scrolled": true
   },
   "outputs": [
    {
     "name": "stdout",
     "output_type": "stream",
     "text": [
      "To github.com:kevinzjpeng/opencv_course.git\n",
      " \u001b[31m! [rejected]       \u001b[m master -> master (non-fast-forward)\n",
      "\u001b[31merror: failed to push some refs to 'git@github.com:kevinzjpeng/opencv_course.git'\n",
      "\u001b[m\u001b[33mhint: Updates were rejected because the tip of your current branch is behind\u001b[m\n",
      "\u001b[33mhint: its remote counterpart. Integrate the remote changes (e.g.\u001b[m\n",
      "\u001b[33mhint: 'git pull ...') before pushing again.\u001b[m\n",
      "\u001b[33mhint: See the 'Note about fast-forwards' in 'git push --help' for details.\u001b[m\n"
     ]
    }
   ],
   "source": [
    "!git push origin master"
   ]
  },
  {
   "cell_type": "code",
   "execution_count": null,
   "metadata": {},
   "outputs": [],
   "source": []
  }
 ],
 "metadata": {
  "kernelspec": {
   "display_name": "Python 3",
   "language": "python",
   "name": "python3"
  },
  "language_info": {
   "codemirror_mode": {
    "name": "ipython",
    "version": 3
   },
   "file_extension": ".py",
   "mimetype": "text/x-python",
   "name": "python",
   "nbconvert_exporter": "python",
   "pygments_lexer": "ipython3",
   "version": "3.6.8"
  },
  "widgets": {
   "application/vnd.jupyter.widget-state+json": {
    "state": {},
    "version_major": 2,
    "version_minor": 0
   }
  }
 },
 "nbformat": 4,
 "nbformat_minor": 4
}
