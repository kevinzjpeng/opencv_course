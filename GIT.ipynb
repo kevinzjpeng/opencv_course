{
 "cells": [
  {
   "cell_type": "markdown",
   "metadata": {},
   "source": [
    "## 初始化Git"
   ]
  },
  {
   "cell_type": "code",
   "execution_count": 31,
   "metadata": {},
   "outputs": [
    {
     "name": "stdout",
     "output_type": "stream",
     "text": [
      "Initialized empty Git repository in /Users/kevinzjpeng/文档/课程/opencv/.git/\r\n"
     ]
    }
   ],
   "source": [
    "!git init"
   ]
  },
  {
   "cell_type": "markdown",
   "metadata": {},
   "source": [
    "## 检查Git 状态"
   ]
  },
  {
   "cell_type": "code",
   "execution_count": 1,
   "metadata": {
    "scrolled": true
   },
   "outputs": [
    {
     "name": "stdout",
     "output_type": "stream",
     "text": [
      "On branch master\r\n",
      "Changes not staged for commit:\r\n",
      "  (use \"git add <file>...\" to update what will be committed)\r\n",
      "  (use \"git checkout -- <file>...\" to discard changes in working directory)\r\n",
      "\r\n",
      "\t\u001b[31mmodified:   GIT.ipynb\u001b[m\r\n",
      "\r\n",
      "Untracked files:\r\n",
      "  (use \"git add <file>...\" to include in what will be committed)\r\n",
      "\r\n",
      "\t\u001b[31m.DS_Store\u001b[m\r\n",
      "\t\u001b[31m.ipynb_checkpoints/\u001b[m\r\n",
      "\r\n",
      "no changes added to commit (use \"git add\" and/or \"git commit -a\")\r\n"
     ]
    }
   ],
   "source": [
    "!git status"
   ]
  },
  {
   "cell_type": "markdown",
   "metadata": {},
   "source": [
    "## 初始化Github repository"
   ]
  },
  {
   "cell_type": "code",
   "execution_count": 33,
   "metadata": {},
   "outputs": [],
   "source": [
    "!git remote add origin https://github.com/kevinzjpeng/opencv_course.git"
   ]
  },
  {
   "cell_type": "markdown",
   "metadata": {},
   "source": [
    "## git add 新文件"
   ]
  },
  {
   "cell_type": "code",
   "execution_count": 34,
   "metadata": {},
   "outputs": [],
   "source": [
    "!git add *"
   ]
  },
  {
   "cell_type": "markdown",
   "metadata": {},
   "source": [
    "## git rm 已经删除文件"
   ]
  },
  {
   "cell_type": "code",
   "execution_count": 27,
   "metadata": {},
   "outputs": [
    {
     "name": "stdout",
     "output_type": "stream",
     "text": [
      "fatal: pathspec '../OpenCV approxPolyDP()\\346\\265\\213\\350\\257\\225.ipynb' did not match any files\r\n"
     ]
    }
   ],
   "source": [
    "!git status |grep deleted | cut -c \"14-\" |xargs git rm "
   ]
  },
  {
   "cell_type": "markdown",
   "metadata": {},
   "source": [
    "## git commit 文件\n",
    "需要修改comment"
   ]
  },
  {
   "cell_type": "code",
   "execution_count": 35,
   "metadata": {},
   "outputs": [
    {
     "name": "stdout",
     "output_type": "stream",
     "text": [
      "[master (root-commit) 732c8dd] Change folder directories\n",
      " 45 files changed, 5891 insertions(+)\n",
      " create mode 100644 GIT.ipynb\n",
      " create mode 100644 OpenPose/.DS_Store\n",
      " create mode 100644 OpenPose/OpenPose.ipynb\n",
      " create mode 100644 \"OpenPose/\\344\\270\\213\\350\\275\\275.mp4\"\n",
      " create mode 100644 \"approxPolyDP\\346\\265\\213\\350\\257\\225/.DS_Store\"\n",
      " create mode 100644 \"approxPolyDP\\346\\265\\213\\350\\257\\225/OpenCV approxPolyDP\\346\\265\\213\\350\\257\\225.ipynb\"\n",
      " create mode 100644 \"approxPolyDP\\346\\265\\213\\350\\257\\225/circle.png\"\n",
      " create mode 100644 deep-learning-face-detection/.DS_Store\n",
      " create mode 100644 deep-learning-face-detection/detect_faces.py\n",
      " create mode 100644 deep-learning-face-detection/detect_faces_video.py\n",
      " create mode 100644 determining-object-color/.DS_Store\n",
      " create mode 100644 determining-object-color/detect_color.py\n",
      " create mode 100644 determining-object-color/pyimagesearch/__init__.py\n",
      " create mode 100644 determining-object-color/pyimagesearch/colorlabeler.py\n",
      " create mode 100644 determining-object-color/pyimagesearch/shapedetector.py\n",
      " create mode 100644 \"\\344\\272\\272\\350\\204\\270\\346\\243\\200\\346\\265\\213/.DS_Store\"\n",
      " create mode 100644 \"\\344\\272\\272\\350\\204\\270\\346\\243\\200\\346\\265\\213/FaceDetect.ipynb\"\n",
      " create mode 100644 \"\\344\\272\\272\\350\\204\\270\\346\\243\\200\\346\\265\\213/deploy.prototxt.txt\"\n",
      " create mode 100644 \"\\344\\272\\272\\350\\204\\270\\346\\243\\200\\346\\265\\213/iron_chic.jpg\"\n",
      " create mode 100644 \"\\344\\272\\272\\350\\204\\270\\346\\243\\200\\346\\265\\213/res10_300x300_ssd_iter_140000.caffemodel\"\n",
      " create mode 100644 \"\\344\\272\\272\\350\\204\\270\\346\\243\\200\\346\\265\\213/rooster.jpg\"\n",
      " create mode 100644 \"\\344\\275\\277\\347\\224\\250\\346\\221\\204\\345\\203\\217\\345\\244\\264/.DS_Store\"\n",
      " create mode 100644 \"\\344\\275\\277\\347\\224\\250\\346\\221\\204\\345\\203\\217\\345\\244\\264/Camera.ipynb\"\n",
      " create mode 100644 \"\\345\\233\\276\\345\\203\\217\\345\\210\\206\\345\\211\\262/.ipynb_checkpoints/\\346\\234\\252\\345\\221\\275\\345\\220\\215-checkpoint.ipynb\"\n",
      " create mode 100644 \"\\345\\233\\276\\345\\203\\217\\345\\210\\206\\345\\211\\262/bird.png\"\n",
      " create mode 100644 \"\\345\\233\\276\\345\\203\\217\\345\\210\\206\\345\\211\\262/horse.png\"\n",
      " create mode 100644 \"\\345\\233\\276\\345\\203\\217\\345\\210\\206\\345\\211\\262/\\346\\234\\252\\345\\221\\275\\345\\220\\215.ipynb\"\n",
      " create mode 100644 \"\\345\\257\\273\\346\\211\\276Gameboy\\345\\261\\217\\345\\271\\225/.DS_Store\"\n",
      " create mode 100644 \"\\345\\257\\273\\346\\211\\276Gameboy\\345\\261\\217\\345\\271\\225/gameboy.jpg\"\n",
      " create mode 100644 \"\\345\\257\\273\\346\\211\\276Gameboy\\345\\261\\217\\345\\271\\225/\\346\\211\\276Gameboy\\345\\261\\217\\345\\271\\225.ipynb\"\n",
      " create mode 100644 \"\\345\\257\\273\\346\\211\\276\\345\\275\\242\\347\\212\\266/.DS_Store\"\n",
      " create mode 100644 \"\\345\\257\\273\\346\\211\\276\\345\\275\\242\\347\\212\\266/finding_shapes_example.png\"\n",
      " create mode 100644 \"\\345\\257\\273\\346\\211\\276\\345\\275\\242\\347\\212\\266/\\345\\257\\273\\346\\211\\276\\345\\275\\242\\347\\212\\266.ipynb\"\n",
      " create mode 100644 \"\\345\\275\\242\\347\\212\\266\\350\\276\\250\\350\\256\\244/.DS_Store\"\n",
      " create mode 100644 \"\\345\\275\\242\\347\\212\\266\\350\\276\\250\\350\\256\\244/shape.png\"\n",
      " create mode 100644 \"\\345\\275\\242\\347\\212\\266\\350\\276\\250\\350\\256\\244/\\345\\275\\242\\347\\212\\266\\350\\276\\250\\350\\256\\244.ipynb\"\n",
      " create mode 100644 \"\\346\\241\\214\\347\\220\\203 \\350\\276\\250\\350\\256\\244/snooker.png\"\n",
      " create mode 100644 \"\\347\\216\\257\\345\\242\\203\\351\\205\\215\\347\\275\\256/.DS_Store\"\n",
      " create mode 100644 \"\\347\\216\\257\\345\\242\\203\\351\\205\\215\\347\\275\\256/\\345\\234\\250Mac\\345\\256\\211\\350\\243\\205Python 3.ipynb\"\n",
      " create mode 100644 \"\\347\\237\\253\\346\\255\\243\\345\\233\\276\\347\\211\\207\\350\\247\\222\\345\\272\\246/.DS_Store\"\n",
      " create mode 100644 \"\\347\\237\\253\\346\\255\\243\\345\\233\\276\\347\\211\\207\\350\\247\\222\\345\\272\\246/hello.png\"\n",
      " create mode 100644 \"\\347\\237\\253\\346\\255\\243\\345\\233\\276\\347\\211\\207\\350\\247\\222\\345\\272\\246/\\347\\237\\253\\346\\255\\243\\345\\233\\276\\347\\211\\207\\350\\247\\222\\345\\272\\246.ipynb\"\n",
      " create mode 100644 \"\\351\\242\\234\\350\\211\\262\\350\\276\\250\\350\\256\\244/.DS_Store\"\n",
      " create mode 100644 \"\\351\\242\\234\\350\\211\\262\\350\\276\\250\\350\\256\\244/example_shapes.png\"\n",
      " create mode 100644 \"\\351\\242\\234\\350\\211\\262\\350\\276\\250\\350\\256\\244/\\351\\242\\234\\350\\211\\262\\350\\276\\250\\350\\256\\244.ipynb\"\n"
     ]
    }
   ],
   "source": [
    "!git commit -m \"Change folder directories\""
   ]
  },
  {
   "cell_type": "markdown",
   "metadata": {},
   "source": [
    "## 再检查状态"
   ]
  },
  {
   "cell_type": "code",
   "execution_count": 37,
   "metadata": {},
   "outputs": [
    {
     "name": "stdout",
     "output_type": "stream",
     "text": [
      "On branch master\r\n",
      "Changes not staged for commit:\r\n",
      "  (use \"git add <file>...\" to update what will be committed)\r\n",
      "  (use \"git checkout -- <file>...\" to discard changes in working directory)\r\n",
      "\r\n",
      "\t\u001b[31mmodified:   GIT.ipynb\u001b[m\r\n",
      "\r\n",
      "Untracked files:\r\n",
      "  (use \"git add <file>...\" to include in what will be committed)\r\n",
      "\r\n",
      "\t\u001b[31m.DS_Store\u001b[m\r\n",
      "\t\u001b[31m.ipynb_checkpoints/\u001b[m\r\n",
      "\r\n",
      "no changes added to commit (use \"git add\" and/or \"git commit -a\")\r\n"
     ]
    }
   ],
   "source": [
    "!git status"
   ]
  },
  {
   "cell_type": "markdown",
   "metadata": {},
   "source": [
    "## 先Git pull"
   ]
  },
  {
   "cell_type": "code",
   "execution_count": null,
   "metadata": {},
   "outputs": [],
   "source": [
    "!git pull origin master"
   ]
  },
  {
   "cell_type": "markdown",
   "metadata": {},
   "source": [
    "## Git push文件"
   ]
  },
  {
   "cell_type": "code",
   "execution_count": null,
   "metadata": {
    "scrolled": true
   },
   "outputs": [],
   "source": [
    "!git push origin master"
   ]
  },
  {
   "cell_type": "code",
   "execution_count": null,
   "metadata": {},
   "outputs": [],
   "source": []
  }
 ],
 "metadata": {
  "kernelspec": {
   "display_name": "Python 3",
   "language": "python",
   "name": "python3"
  },
  "language_info": {
   "codemirror_mode": {
    "name": "ipython",
    "version": 3
   },
   "file_extension": ".py",
   "mimetype": "text/x-python",
   "name": "python",
   "nbconvert_exporter": "python",
   "pygments_lexer": "ipython3",
   "version": "3.7.4"
  }
 },
 "nbformat": 4,
 "nbformat_minor": 2
}
