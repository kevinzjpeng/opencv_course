{
 "cells": [
  {
   "cell_type": "markdown",
   "metadata": {},
   "source": [
    "## 初始化Git"
   ]
  },
  {
   "cell_type": "code",
   "execution_count": null,
   "metadata": {},
   "outputs": [],
   "source": [
    "!git init"
   ]
  },
  {
   "cell_type": "markdown",
   "metadata": {},
   "source": [
    "## 为了解决显示中文问题，不对0x80以上字符quote"
   ]
  },
  {
   "cell_type": "code",
   "execution_count": 42,
   "metadata": {},
   "outputs": [],
   "source": [
    "#不对0x80以上的字符进行quote，解决git status/commit时中文文件名乱码\n",
    "!git config --global core.quotepath false"
   ]
  },
  {
   "cell_type": "markdown",
   "metadata": {},
   "source": [
    "## 检查Git 状态"
   ]
  },
  {
   "cell_type": "code",
   "execution_count": 43,
   "metadata": {
    "scrolled": true
   },
   "outputs": [
    {
     "name": "stdout",
     "output_type": "stream",
     "text": [
      "# On branch master\n",
      "# Changes not staged for commit:\n",
      "#   (use \"git add/rm <file>...\" to update what will be committed)\n",
      "#   (use \"git checkout -- <file>...\" to discard changes in working directory)\n",
      "#\n",
      "#\tdeleted:    09. 脸操作/脸特征.ipynb\n",
      "#\tdeleted:    A. approxPolyDP测试/OpenCV approxPolyDP测试.ipynb\n",
      "#\tdeleted:    A. approxPolyDP测试/circle.png\n",
      "#\tmodified:   GIT.ipynb\n",
      "#\tdeleted:    OpenPose/OpenPose-Video.ipynb\n",
      "#\tdeleted:    OpenPose/下载.mp4\n",
      "#\tdeleted:    approxPolyDP测试/OpenCV approxPolyDP测试.ipynb\n",
      "#\tdeleted:    approxPolyDP测试/circle.png\n",
      "#\tdeleted:    basics/Image Processing/Color Space Conversions.ipynb\n",
      "#\tdeleted:    basics/Image Processing/Drawing-Functions.ipynb\n",
      "#\tdeleted:    basics/Image Processing/Geometric Image Transformations.ipynb\n",
      "#\tdeleted:    basics/Image Processing/Image Filtering.ipynb\n",
      "#\tdeleted:    basics/Image Processing/bilateral.png\n",
      "#\tdeleted:    basics/Image Processing/boxfilter.jpg\n",
      "#\tdeleted:    basics/Image Processing/dog.png\n",
      "#\tdeleted:    basics/Image-basics-manipulations-1.ipynb\n",
      "#\tdeleted:    basics/OpenCV_Logo.png\n",
      "#\tdeleted:    example/Detetcting-Circles/Circle-detection-in-image-02.ipynb\n",
      "#\tdeleted:    example/Detetcting-Circles/Detecting-Circles-in-image-01.ipynb\n",
      "#\tdeleted:    example/Detetcting-Circles/eyes.jpeg\n",
      "#\tdeleted:    example/Detetcting-Circles/opencv-logo-white.png\n",
      "#\tdeleted:    example/find-color-for-HVS/green-tag.png\n",
      "#\tdeleted:    example/find-color-for-HVS/通过HSV找出某种颜色通道.ipynb\n",
      "#\tdeleted:    人脸检测/FaceDetect.ipynb\n",
      "#\tdeleted:    人脸检测/deploy.prototxt.txt\n",
      "#\tdeleted:    人脸检测/iron_chic.jpg\n",
      "#\tdeleted:    人脸检测/res10_300x300_ssd_iter_140000.caffemodel\n",
      "#\tdeleted:    人脸检测/rooster.jpg\n",
      "#\tdeleted:    使用摄像头/1. 用摄像头拍摄视频.ipynb\n",
      "#\tdeleted:    使用摄像头/1.jpg\n",
      "#\tdeleted:    使用摄像头/2. 同时使用两个摄像头.ipynb\n",
      "#\tdeleted:    使用摄像头/2.jpg\n",
      "#\tdeleted:    使用摄像头/3. 调整视频拍摄效果.ipynb\n",
      "#\tdeleted:    使用摄像头/3. 通过色彩空间调视频效果.ipynb\n",
      "#\tdeleted:    使用摄像头/JesonNano_USB.ipynb\n",
      "#\tdeleted:    使用摄像头/JesonNano_onboard.ipynb\n",
      "#\tdeleted:    修改图片风格/images/baboon.jpg\n",
      "#\tdeleted:    修改图片风格/images/lake.jpg\n",
      "#\tdeleted:    修改图片风格/最简单的油画风格.ipynb\n",
      "#\tdeleted:    修改图片风格/油画风格.ipynb\n",
      "#\tdeleted:    修改图片风格/铅笔画风格.ipynb\n",
      "#\tdeleted:    修改图片风格/风格转移.ipynb\n",
      "#\tdeleted:    全景图/1. 快速合并图片.ipynb\n",
      "#\tdeleted:    全景图/2. 裁剪合成后的图片.ipynb\n",
      "#\tdeleted:    全景图/3. 全景图原理.ipynb\n",
      "#\tdeleted:    全景图/basic-by-full.ipynb\n",
      "#\tdeleted:    全景图/image/StitchingPipeline.jpg\n",
      "#\tdeleted:    全景图/image1/1.jpeg\n",
      "#\tdeleted:    全景图/image1/2.jpeg\n",
      "#\tdeleted:    全景图/image2/1.jpeg\n",
      "#\tdeleted:    全景图/image2/2.jpeg\n",
      "#\tdeleted:    全景图/image2/3.jpeg\n",
      "#\tdeleted:    全景图/result.jpg\n",
      "#\tdeleted:    全景图/result2.jpg\n",
      "#\tdeleted:    图像分割/beauty.jpg\n",
      "#\tdeleted:    图像分割/bird.png\n",
      "#\tdeleted:    图像分割/car.jpg\n",
      "#\tdeleted:    图像分割/horse.png\n",
      "#\tdeleted:    图像分割/images/change/background-building.png\n",
      "#\tdeleted:    图像分割/images/change/background2.jpeg\n",
      "#\tdeleted:    图像分割/images/change/dog.png\n",
      "#\tdeleted:    图像分割/images/change/forest.png\n",
      "#\tdeleted:    图像分割/images/change/girl-with-hat.png\n",
      "#\tdeleted:    图像分割/images/change/girl.png\n",
      "#\tdeleted:    图像分割/images/change/girl3.jpg\n",
      "#\tdeleted:    图像分割/images/change/girl4.jpg\n",
      "#\tdeleted:    图像分割/images/change/james.png\n",
      "#\tdeleted:    图像分割/images/change/man.jpg\n",
      "#\tdeleted:    图像分割/images/greyscale/girl-with-hat.png\n",
      "#\tdeleted:    图像分割/图像分割.ipynb\n",
      "#\tdeleted:    图像分割/实时图像分割.ipynb\n",
      "#\tdeleted:    图像分割/未命名.ipynb\n",
      "#\tdeleted:    图像分割/背景变灰.ipynb\n",
      "#\tdeleted:    图像分割/背景油画化.ipynb\n",
      "#\tdeleted:    图像分割/背景虚化.ipynb\n",
      "#\tdeleted:    图像分割/背景铅笔画.ipynb\n",
      "#\tdeleted:    图像分割/自动去背景.ipynb\n",
      "#\tdeleted:    图像分割/自动替换背景.ipynb\n",
      "#\tdeleted:    寻找Gameboy屏幕/gameboy.jpg\n",
      "#\tdeleted:    寻找Gameboy屏幕/找Gameboy屏幕.ipynb\n",
      "#\tdeleted:    寻找形状/finding_shapes_example.png\n",
      "#\tdeleted:    寻找形状/寻找形状.ipynb\n",
      "#\tdeleted:    形状辨认/shape.png\n",
      "#\tdeleted:    形状辨认/形状辨认.ipynb\n",
      "#\tdeleted:    桌球 辨认/snooker.png\n",
      "#\tdeleted:    滤镜/epf-test.png\n",
      "#\tdeleted:    滤镜/fa.jpg\n",
      "#\tdeleted:    滤镜/浮雕效果.ipynb\n",
      "#\tdeleted:    滤镜/美颜（EPF边缘保留滤波）.ipynb\n",
      "#\tdeleted:    物体检测/Yolo.ipynb\n",
      "#\tdeleted:    物体检测/phone.jpg\n",
      "#\tdeleted:    物体检测/phone2.jpg\n",
      "#\tdeleted:    物体检测/room_ser.jpg\n",
      "#\tdeleted:    物体检测/yolov3.weights\n",
      "#\tdeleted:    环境配置/在Mac安装Python 3.ipynb\n",
      "#\tdeleted:    矫正图片角度/hello.png\n",
      "#\tdeleted:    矫正图片角度/矫正图片角度.ipynb\n",
      "#\tdeleted:    脸操作/close_eye.jpg\n",
      "#\tdeleted:    脸操作/face_Switching_dlib_opencv.ipynb\n",
      "#\tdeleted:    脸操作/face_swapping_in_8_steps.zip\n",
      "#\tdeleted:    脸操作/face_swapping_in_8_steps/bradley_cooper.jpg\n",
      "#\tdeleted:    脸操作/face_swapping_in_8_steps/jim_carrey.jpg\n",
      "#\tdeleted:    脸操作/face_swapping_in_8_steps/photos_face_swapping.py\n",
      "#\tdeleted:    脸操作/face_swapping_in_8_steps/realtime_face_swapping.py\n",
      "#\tdeleted:    脸操作/huanzhu.jpg\n",
      "#\tdeleted:    脸操作/jin.jpg\n",
      "#\tdeleted:    脸操作/linzhiling.jpg\n",
      "#\tdeleted:    脸操作/output.jpg\n",
      "#\tdeleted:    脸操作/phone_call.jpg\n",
      "#\tdeleted:    脸操作/shape_predictor_68_face_landmarks.dat\n",
      "#\tdeleted:    脸操作/single_eye.jpg\n",
      "#\tdeleted:    脸操作/sleep.jpg\n",
      "#\tdeleted:    脸操作/tired.jpg\n",
      "#\tdeleted:    脸操作/yangmi.jpg\n",
      "#\tdeleted:    脸操作/yangmi.png\n",
      "#\tdeleted:    脸操作/zhuyin.jpg\n",
      "#\tdeleted:    脸操作/平均脸.ipynb\n",
      "#\tdeleted:    脸操作/换脸.ipynb\n",
      "#\tdeleted:    脸操作/脸特征.ipynb\n",
      "#\tdeleted:    色彩矫正/picture1.jpg\n",
      "#\tdeleted:    色彩矫正/未命名.ipynb\n",
      "#\tdeleted:    颜色辨认/example_shapes.png\n",
      "#\tdeleted:    颜色辨认/颜色辨认.ipynb\n",
      "#\n",
      "no changes added to commit (use \"git add\" and/or \"git commit -a\")\n"
     ]
    }
   ],
   "source": [
    "!git status"
   ]
  },
  {
   "cell_type": "markdown",
   "metadata": {},
   "source": [
    "## 初始化Github repository"
   ]
  },
  {
   "cell_type": "code",
   "execution_count": null,
   "metadata": {},
   "outputs": [],
   "source": [
    "!git remote add origin https://github.com/kevinzjpeng/opencv_course.git"
   ]
  },
  {
   "cell_type": "markdown",
   "metadata": {},
   "source": [
    "## git add 新文件"
   ]
  },
  {
   "cell_type": "code",
   "execution_count": 14,
   "metadata": {},
   "outputs": [
    {
     "name": "stdout",
     "output_type": "stream",
     "text": [
      "warning: You ran 'git add' with neither '-A (--all)' or '--ignore-removal',\n",
      "whose behaviour will change in Git 2.0 with respect to paths you removed.\n",
      "Paths like '09. 脸操作/脸特征.ipynb' that are\n",
      "removed from your working tree are ignored with this version of Git.\n",
      "\n",
      "* 'git add --ignore-removal <pathspec>', which is the current default,\n",
      "  ignores paths you removed from your working tree.\n",
      "\n",
      "* 'git add --all <pathspec>' will let you also record the removals.\n",
      "\n",
      "Run 'git status' to check the paths you removed from your working tree.\n",
      "\n"
     ]
    }
   ],
   "source": [
    "!git add *"
   ]
  },
  {
   "cell_type": "code",
   "execution_count": 18,
   "metadata": {},
   "outputs": [],
   "source": [
    "!git add --ignore-removal ."
   ]
  },
  {
   "cell_type": "markdown",
   "metadata": {},
   "source": [
    "## git rm 已经删除文件"
   ]
  },
  {
   "cell_type": "code",
   "execution_count": 57,
   "metadata": {},
   "outputs": [
    {
     "name": "stdout",
     "output_type": "stream",
     "text": [
      "rm 'A. approxPolyDP测试/OpenCV approxPolyDP测试.ipynb'\n",
      "rm 'A. approxPolyDP测试/circle.png'\n",
      "rm 'OpenPose/OpenPose-Video.ipynb'\n",
      "rm 'OpenPose/下载.mp4'\n",
      "rm 'approxPolyDP测试/OpenCV approxPolyDP测试.ipynb'\n",
      "rm 'approxPolyDP测试/circle.png'\n",
      "rm 'basics/Image Processing/Color Space Conversions.ipynb'\n",
      "rm 'basics/Image Processing/Drawing-Functions.ipynb'\n",
      "rm 'basics/Image Processing/Geometric Image Transformations.ipynb'\n",
      "rm 'basics/Image Processing/Image Filtering.ipynb'\n",
      "rm 'basics/Image Processing/bilateral.png'\n",
      "rm 'basics/Image Processing/boxfilter.jpg'\n",
      "rm 'basics/Image Processing/dog.png'\n",
      "rm 'basics/Image-basics-manipulations-1.ipynb'\n",
      "rm 'basics/OpenCV_Logo.png'\n",
      "rm 'example/Detetcting-Circles/Circle-detection-in-image-02.ipynb'\n",
      "rm 'example/Detetcting-Circles/Detecting-Circles-in-image-01.ipynb'\n",
      "rm 'example/Detetcting-Circles/eyes.jpeg'\n",
      "rm 'example/Detetcting-Circles/opencv-logo-white.png'\n",
      "rm 'example/find-color-for-HVS/green-tag.png'\n",
      "rm 'example/find-color-for-HVS/通过HSV找出某种颜色通道.ipynb'\n",
      "rm '人脸检测/FaceDetect.ipynb'\n",
      "rm '人脸检测/deploy.prototxt.txt'\n",
      "rm '人脸检测/iron_chic.jpg'\n",
      "rm '人脸检测/res10_300x300_ssd_iter_140000.caffemodel'\n",
      "rm '人脸检测/rooster.jpg'\n",
      "rm '使用摄像头/1. 用摄像头拍摄视频.ipynb'\n",
      "rm '使用摄像头/1.jpg'\n",
      "rm '使用摄像头/2. 同时使用两个摄像头.ipynb'\n",
      "rm '使用摄像头/2.jpg'\n",
      "rm '使用摄像头/3. 调整视频拍摄效果.ipynb'\n",
      "rm '使用摄像头/3. 通过色彩空间调视频效果.ipynb'\n",
      "rm '使用摄像头/JesonNano_USB.ipynb'\n",
      "rm '使用摄像头/JesonNano_onboard.ipynb'\n",
      "rm '修改图片风格/images/baboon.jpg'\n",
      "rm '修改图片风格/images/lake.jpg'\n",
      "rm '修改图片风格/最简单的油画风格.ipynb'\n",
      "rm '修改图片风格/油画风格.ipynb'\n",
      "rm '修改图片风格/铅笔画风格.ipynb'\n",
      "rm '修改图片风格/风格转移.ipynb'\n",
      "rm '全景图/1. 快速合并图片.ipynb'\n",
      "rm '全景图/2. 裁剪合成后的图片.ipynb'\n",
      "rm '全景图/3. 全景图原理.ipynb'\n",
      "rm '全景图/basic-by-full.ipynb'\n",
      "rm '全景图/image/StitchingPipeline.jpg'\n",
      "rm '全景图/image1/1.jpeg'\n",
      "rm '全景图/image1/2.jpeg'\n",
      "rm '全景图/image2/1.jpeg'\n",
      "rm '全景图/image2/2.jpeg'\n",
      "rm '全景图/image2/3.jpeg'\n",
      "rm '全景图/result.jpg'\n",
      "rm '全景图/result2.jpg'\n",
      "rm '图像分割/beauty.jpg'\n",
      "rm '图像分割/bird.png'\n",
      "rm '图像分割/car.jpg'\n",
      "rm '图像分割/horse.png'\n",
      "rm '图像分割/images/change/background-building.png'\n",
      "rm '图像分割/images/change/background2.jpeg'\n",
      "rm '图像分割/images/change/dog.png'\n",
      "rm '图像分割/images/change/forest.png'\n",
      "rm '图像分割/images/change/girl-with-hat.png'\n",
      "rm '图像分割/images/change/girl.png'\n",
      "rm '图像分割/images/change/girl3.jpg'\n",
      "rm '图像分割/images/change/girl4.jpg'\n",
      "rm '图像分割/images/change/james.png'\n",
      "rm '图像分割/images/change/man.jpg'\n",
      "rm '图像分割/images/greyscale/girl-with-hat.png'\n",
      "rm '图像分割/图像分割.ipynb'\n",
      "rm '图像分割/实时图像分割.ipynb'\n",
      "rm '图像分割/未命名.ipynb'\n",
      "rm '图像分割/背景变灰.ipynb'\n",
      "rm '图像分割/背景油画化.ipynb'\n",
      "rm '图像分割/背景虚化.ipynb'\n",
      "rm '图像分割/背景铅笔画.ipynb'\n",
      "rm '图像分割/自动去背景.ipynb'\n",
      "rm '图像分割/自动替换背景.ipynb'\n",
      "rm '寻找Gameboy屏幕/gameboy.jpg'\n",
      "rm '寻找Gameboy屏幕/找Gameboy屏幕.ipynb'\n",
      "rm '寻找形状/finding_shapes_example.png'\n",
      "rm '寻找形状/寻找形状.ipynb'\n",
      "rm '形状辨认/shape.png'\n",
      "rm '形状辨认/形状辨认.ipynb'\n",
      "rm '桌球 辨认/snooker.png'\n",
      "rm '滤镜/epf-test.png'\n",
      "rm '滤镜/fa.jpg'\n",
      "rm '滤镜/浮雕效果.ipynb'\n",
      "rm '滤镜/美颜（EPF边缘保留滤波）.ipynb'\n",
      "rm '物体检测/Yolo.ipynb'\n",
      "rm '物体检测/phone.jpg'\n",
      "rm '物体检测/phone2.jpg'\n",
      "rm '物体检测/room_ser.jpg'\n",
      "rm '物体检测/yolov3.weights'\n",
      "rm '环境配置/在Mac安装Python 3.ipynb'\n",
      "rm '矫正图片角度/hello.png'\n",
      "rm '矫正图片角度/矫正图片角度.ipynb'\n",
      "rm '脸操作/close_eye.jpg'\n",
      "rm '脸操作/face_Switching_dlib_opencv.ipynb'\n",
      "rm '脸操作/face_swapping_in_8_steps.zip'\n",
      "rm '脸操作/face_swapping_in_8_steps/bradley_cooper.jpg'\n",
      "rm '脸操作/face_swapping_in_8_steps/jim_carrey.jpg'\n",
      "rm '脸操作/face_swapping_in_8_steps/photos_face_swapping.py'\n",
      "rm '脸操作/face_swapping_in_8_steps/realtime_face_swapping.py'\n",
      "rm '脸操作/huanzhu.jpg'\n",
      "rm '脸操作/jin.jpg'\n",
      "rm '脸操作/linzhiling.jpg'\n",
      "rm '脸操作/output.jpg'\n",
      "rm '脸操作/phone_call.jpg'\n",
      "rm '脸操作/shape_predictor_68_face_landmarks.dat'\n",
      "rm '脸操作/single_eye.jpg'\n",
      "rm '脸操作/sleep.jpg'\n",
      "rm '脸操作/tired.jpg'\n",
      "rm '脸操作/yangmi.jpg'\n",
      "rm '脸操作/yangmi.png'\n",
      "rm '脸操作/zhuyin.jpg'\n",
      "rm '脸操作/平均脸.ipynb'\n",
      "rm '脸操作/换脸.ipynb'\n",
      "rm '脸操作/脸特征.ipynb'\n",
      "rm '色彩矫正/picture1.jpg'\n",
      "rm '色彩矫正/未命名.ipynb'\n",
      "rm '颜色辨认/example_shapes.png'\n",
      "rm '颜色辨认/颜色辨认.ipynb'\n"
     ]
    }
   ],
   "source": [
    "!git status |grep deleted | cut -c \"15-\" |xargs -d '\\n' -n1 git rm "
   ]
  },
  {
   "cell_type": "markdown",
   "metadata": {},
   "source": [
    "## git commit 文件\n",
    "需要修改comment"
   ]
  },
  {
   "cell_type": "code",
   "execution_count": 58,
   "metadata": {},
   "outputs": [
    {
     "name": "stdout",
     "output_type": "stream",
     "text": [
      "[master d7916ac] 修改目录结构\n",
      " 121 files changed, 18896 deletions(-)\n",
      " delete mode 100644 A. approxPolyDP测试/OpenCV approxPolyDP测试.ipynb\n",
      " delete mode 100644 A. approxPolyDP测试/circle.png\n",
      " delete mode 100644 OpenPose/OpenPose-Video.ipynb\n",
      " delete mode 100644 OpenPose/下载.mp4\n",
      " delete mode 100644 approxPolyDP测试/OpenCV approxPolyDP测试.ipynb\n",
      " delete mode 100644 approxPolyDP测试/circle.png\n",
      " delete mode 100644 basics/Image Processing/Color Space Conversions.ipynb\n",
      " delete mode 100644 basics/Image Processing/Drawing-Functions.ipynb\n",
      " delete mode 100644 basics/Image Processing/Geometric Image Transformations.ipynb\n",
      " delete mode 100644 basics/Image Processing/Image Filtering.ipynb\n",
      " delete mode 100644 basics/Image Processing/bilateral.png\n",
      " delete mode 100644 basics/Image Processing/boxfilter.jpg\n",
      " delete mode 100644 basics/Image Processing/dog.png\n",
      " delete mode 100644 basics/Image-basics-manipulations-1.ipynb\n",
      " delete mode 100644 basics/OpenCV_Logo.png\n",
      " delete mode 100644 example/Detetcting-Circles/Circle-detection-in-image-02.ipynb\n",
      " delete mode 100644 example/Detetcting-Circles/Detecting-Circles-in-image-01.ipynb\n",
      " delete mode 100644 example/Detetcting-Circles/eyes.jpeg\n",
      " delete mode 100644 example/Detetcting-Circles/opencv-logo-white.png\n",
      " delete mode 100644 example/find-color-for-HVS/green-tag.png\n",
      " delete mode 100644 example/find-color-for-HVS/通过HSV找出某种颜色通道.ipynb\n",
      " delete mode 100644 人脸检测/FaceDetect.ipynb\n",
      " delete mode 100644 人脸检测/deploy.prototxt.txt\n",
      " delete mode 100644 人脸检测/iron_chic.jpg\n",
      " delete mode 100644 人脸检测/res10_300x300_ssd_iter_140000.caffemodel\n",
      " delete mode 100644 人脸检测/rooster.jpg\n",
      " delete mode 100644 使用摄像头/1. 用摄像头拍摄视频.ipynb\n",
      " delete mode 100644 使用摄像头/1.jpg\n",
      " delete mode 100644 使用摄像头/2. 同时使用两个摄像头.ipynb\n",
      " delete mode 100644 使用摄像头/2.jpg\n",
      " delete mode 100644 使用摄像头/3. 调整视频拍摄效果.ipynb\n",
      " delete mode 100644 使用摄像头/3. 通过色彩空间调视频效果.ipynb\n",
      " delete mode 100644 使用摄像头/JesonNano_USB.ipynb\n",
      " delete mode 100644 使用摄像头/JesonNano_onboard.ipynb\n",
      " delete mode 100644 修改图片风格/images/baboon.jpg\n",
      " delete mode 100644 修改图片风格/images/lake.jpg\n",
      " delete mode 100644 修改图片风格/最简单的油画风格.ipynb\n",
      " delete mode 100644 修改图片风格/油画风格.ipynb\n",
      " delete mode 100644 修改图片风格/铅笔画风格.ipynb\n",
      " delete mode 100644 修改图片风格/风格转移.ipynb\n",
      " delete mode 100644 全景图/1. 快速合并图片.ipynb\n",
      " delete mode 100644 全景图/2. 裁剪合成后的图片.ipynb\n",
      " delete mode 100644 全景图/3. 全景图原理.ipynb\n",
      " delete mode 100644 全景图/basic-by-full.ipynb\n",
      " delete mode 100644 全景图/image/StitchingPipeline.jpg\n",
      " delete mode 100644 全景图/image1/1.jpeg\n",
      " delete mode 100644 全景图/image1/2.jpeg\n",
      " delete mode 100644 全景图/image2/1.jpeg\n",
      " delete mode 100644 全景图/image2/2.jpeg\n",
      " delete mode 100644 全景图/image2/3.jpeg\n",
      " delete mode 100644 全景图/result.jpg\n",
      " delete mode 100644 全景图/result2.jpg\n",
      " delete mode 100644 图像分割/beauty.jpg\n",
      " delete mode 100644 图像分割/bird.png\n",
      " delete mode 100644 图像分割/car.jpg\n",
      " delete mode 100644 图像分割/horse.png\n",
      " delete mode 100644 图像分割/images/change/background-building.png\n",
      " delete mode 100644 图像分割/images/change/background2.jpeg\n",
      " delete mode 100644 图像分割/images/change/dog.png\n",
      " delete mode 100644 图像分割/images/change/forest.png\n",
      " delete mode 100644 图像分割/images/change/girl-with-hat.png\n",
      " delete mode 100644 图像分割/images/change/girl.png\n",
      " delete mode 100644 图像分割/images/change/girl3.jpg\n",
      " delete mode 100644 图像分割/images/change/girl4.jpg\n",
      " delete mode 100644 图像分割/images/change/james.png\n",
      " delete mode 100644 图像分割/images/change/man.jpg\n",
      " delete mode 100644 图像分割/images/greyscale/girl-with-hat.png\n",
      " delete mode 100644 图像分割/图像分割.ipynb\n",
      " delete mode 100644 图像分割/实时图像分割.ipynb\n",
      " delete mode 100644 图像分割/未命名.ipynb\n",
      " delete mode 100644 图像分割/背景变灰.ipynb\n",
      " delete mode 100644 图像分割/背景油画化.ipynb\n",
      " delete mode 100644 图像分割/背景虚化.ipynb\n",
      " delete mode 100644 图像分割/背景铅笔画.ipynb\n",
      " delete mode 100644 图像分割/自动去背景.ipynb\n",
      " delete mode 100644 图像分割/自动替换背景.ipynb\n",
      " delete mode 100644 寻找Gameboy屏幕/gameboy.jpg\n",
      " delete mode 100644 寻找Gameboy屏幕/找Gameboy屏幕.ipynb\n",
      " delete mode 100644 寻找形状/finding_shapes_example.png\n",
      " delete mode 100644 寻找形状/寻找形状.ipynb\n",
      " delete mode 100644 形状辨认/shape.png\n",
      " delete mode 100644 形状辨认/形状辨认.ipynb\n",
      " delete mode 100644 桌球 辨认/snooker.png\n",
      " delete mode 100644 滤镜/epf-test.png\n",
      " delete mode 100644 滤镜/fa.jpg\n",
      " delete mode 100644 滤镜/浮雕效果.ipynb\n",
      " delete mode 100644 滤镜/美颜（EPF边缘保留滤波）.ipynb\n",
      " delete mode 100644 物体检测/Yolo.ipynb\n",
      " delete mode 100644 物体检测/phone.jpg\n",
      " delete mode 100644 物体检测/phone2.jpg\n",
      " delete mode 100644 物体检测/room_ser.jpg\n",
      " delete mode 100644 物体检测/yolov3.weights\n",
      " delete mode 100644 环境配置/在Mac安装Python 3.ipynb\n",
      " delete mode 100644 矫正图片角度/hello.png\n",
      " delete mode 100644 矫正图片角度/矫正图片角度.ipynb\n",
      " delete mode 100644 脸操作/close_eye.jpg\n",
      " delete mode 100644 脸操作/face_Switching_dlib_opencv.ipynb\n",
      " delete mode 100644 脸操作/face_swapping_in_8_steps.zip\n",
      " delete mode 100755 脸操作/face_swapping_in_8_steps/bradley_cooper.jpg\n",
      " delete mode 100755 脸操作/face_swapping_in_8_steps/jim_carrey.jpg\n",
      " delete mode 100755 脸操作/face_swapping_in_8_steps/photos_face_swapping.py\n",
      " delete mode 100755 脸操作/face_swapping_in_8_steps/realtime_face_swapping.py\n",
      " delete mode 100644 脸操作/huanzhu.jpg\n",
      " delete mode 100644 脸操作/jin.jpg\n",
      " delete mode 100644 脸操作/linzhiling.jpg\n",
      " delete mode 100644 脸操作/output.jpg\n",
      " delete mode 100644 脸操作/phone_call.jpg\n",
      " delete mode 100644 脸操作/shape_predictor_68_face_landmarks.dat\n",
      " delete mode 100644 脸操作/single_eye.jpg\n",
      " delete mode 100644 脸操作/sleep.jpg\n",
      " delete mode 100644 脸操作/tired.jpg\n",
      " delete mode 100644 脸操作/yangmi.jpg\n",
      " delete mode 100644 脸操作/yangmi.png\n",
      " delete mode 100644 脸操作/zhuyin.jpg\n",
      " delete mode 100644 脸操作/平均脸.ipynb\n",
      " delete mode 100644 脸操作/换脸.ipynb\n",
      " delete mode 100644 脸操作/脸特征.ipynb\n",
      " delete mode 100644 色彩矫正/picture1.jpg\n",
      " delete mode 100644 色彩矫正/未命名.ipynb\n",
      " delete mode 100644 颜色辨认/example_shapes.png\n",
      " delete mode 100644 颜色辨认/颜色辨认.ipynb\n"
     ]
    }
   ],
   "source": [
    "!git commit -m \"修改目录结构\""
   ]
  },
  {
   "cell_type": "markdown",
   "metadata": {},
   "source": [
    "## 再检查状态"
   ]
  },
  {
   "cell_type": "code",
   "execution_count": 59,
   "metadata": {},
   "outputs": [
    {
     "name": "stdout",
     "output_type": "stream",
     "text": [
      "# On branch master\n",
      "# Your branch is ahead of 'origin/master' by 2 commits.\n",
      "#   (use \"git push\" to publish your local commits)\n",
      "#\n",
      "# Changes not staged for commit:\n",
      "#   (use \"git add <file>...\" to update what will be committed)\n",
      "#   (use \"git checkout -- <file>...\" to discard changes in working directory)\n",
      "#\n",
      "#\tmodified:   GIT.ipynb\n",
      "#\n",
      "no changes added to commit (use \"git add\" and/or \"git commit -a\")\n"
     ]
    }
   ],
   "source": [
    "!git status"
   ]
  },
  {
   "cell_type": "markdown",
   "metadata": {},
   "source": [
    "## 先Git pull"
   ]
  },
  {
   "cell_type": "code",
   "execution_count": 22,
   "metadata": {},
   "outputs": [
    {
     "name": "stdout",
     "output_type": "stream",
     "text": [
      "From github.com:kevinzjpeng/opencv_course\n",
      " * branch            master     -> FETCH_HEAD\n",
      "Already up-to-date.\n"
     ]
    }
   ],
   "source": [
    "!git pull origin master"
   ]
  },
  {
   "cell_type": "markdown",
   "metadata": {},
   "source": [
    "## Git push文件"
   ]
  },
  {
   "cell_type": "code",
   "execution_count": 60,
   "metadata": {
    "scrolled": true
   },
   "outputs": [
    {
     "name": "stdout",
     "output_type": "stream",
     "text": [
      "Counting objects: 9, done.\n",
      "Delta compression using up to 2 threads.\n",
      "Compressing objects: 100% (6/6), done.\n",
      "Writing objects: 100% (6/6), 579 bytes | 0 bytes/s, done.\n",
      "Total 6 (delta 4), reused 0 (delta 0)\n",
      "remote: Resolving deltas: 100% (4/4), completed with 3 local objects.\u001b[K\n",
      "To git@github.com:kevinzjpeng/opencv_course.git\n",
      "   8942061..d7916ac  master -> master\n"
     ]
    }
   ],
   "source": [
    "!git push origin master"
   ]
  },
  {
   "cell_type": "code",
   "execution_count": null,
   "metadata": {},
   "outputs": [],
   "source": []
  }
 ],
 "metadata": {
  "kernelspec": {
   "display_name": "Python 3",
   "language": "python",
   "name": "python3"
  },
  "language_info": {
   "codemirror_mode": {
    "name": "ipython",
    "version": 3
   },
   "file_extension": ".py",
   "mimetype": "text/x-python",
   "name": "python",
   "nbconvert_exporter": "python",
   "pygments_lexer": "ipython3",
   "version": "3.6.8"
  }
 },
 "nbformat": 4,
 "nbformat_minor": 4
}
