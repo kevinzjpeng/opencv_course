{
 "cells": [
  {
   "cell_type": "markdown",
   "metadata": {},
   "source": [
    "## 初始化Git"
   ]
  },
  {
   "cell_type": "code",
   "execution_count": 31,
   "metadata": {},
   "outputs": [
    {
     "name": "stdout",
     "output_type": "stream",
     "text": [
      "Initialized empty Git repository in /Users/kevinzjpeng/文档/课程/opencv/.git/\r\n"
     ]
    }
   ],
   "source": [
    "!git init"
   ]
  },
  {
   "cell_type": "markdown",
   "metadata": {},
   "source": [
    "## 为了解决显示中文问题，不对0x80以上字符quote"
   ]
  },
  {
   "cell_type": "code",
   "execution_count": 13,
   "metadata": {},
   "outputs": [],
   "source": [
    "#不对0x80以上的字符进行quote，解决git status/commit时中文文件名乱码\n",
    "!git config --global core.quotepath false"
   ]
  },
  {
   "cell_type": "markdown",
   "metadata": {},
   "source": [
    "## 检查Git 状态"
   ]
  },
  {
   "cell_type": "code",
   "execution_count": 14,
   "metadata": {
    "scrolled": true
   },
   "outputs": [
    {
     "name": "stdout",
     "output_type": "stream",
     "text": [
      "On branch master\r\n",
      "Changes to be committed:\r\n",
      "  (use \"git reset HEAD <file>...\" to unstage)\r\n",
      "\r\n",
      "\t\u001b[32mdeleted:    approxPolyDP测试/.DS_Store\u001b[m\r\n",
      "\r\n",
      "Changes not staged for commit:\r\n",
      "  (use \"git add/rm <file>...\" to update what will be committed)\r\n",
      "  (use \"git checkout -- <file>...\" to discard changes in working directory)\r\n",
      "\r\n",
      "\t\u001b[31mmodified:   GIT.ipynb\u001b[m\r\n",
      "\t\u001b[31mdeleted:    OpenPose/.DS_Store\u001b[m\r\n",
      "\t\u001b[31mdeleted:    deep-learning-face-detection/.DS_Store\u001b[m\r\n",
      "\t\u001b[31mdeleted:    determining-object-color/.DS_Store\u001b[m\r\n",
      "\t\u001b[31mdeleted:    人脸检测/.DS_Store\u001b[m\r\n",
      "\t\u001b[31mdeleted:    使用摄像头/.DS_Store\u001b[m\r\n",
      "\t\u001b[31mdeleted:    寻找Gameboy屏幕/.DS_Store\u001b[m\r\n",
      "\t\u001b[31mdeleted:    寻找形状/.DS_Store\u001b[m\r\n",
      "\t\u001b[31mdeleted:    形状辨认/.DS_Store\u001b[m\r\n",
      "\t\u001b[31mdeleted:    环境配置/.DS_Store\u001b[m\r\n",
      "\t\u001b[31mdeleted:    矫正图片角度/.DS_Store\u001b[m\r\n",
      "\t\u001b[31mdeleted:    颜色辨认/.DS_Store\u001b[m\r\n",
      "\r\n",
      "Untracked files:\r\n",
      "  (use \"git add <file>...\" to include in what will be committed)\r\n",
      "\r\n",
      "\t\u001b[31m.ipynb_checkpoints/\u001b[m\r\n",
      "\r\n"
     ]
    }
   ],
   "source": [
    "!git status"
   ]
  },
  {
   "cell_type": "markdown",
   "metadata": {},
   "source": [
    "## 初始化Github repository"
   ]
  },
  {
   "cell_type": "code",
   "execution_count": 33,
   "metadata": {},
   "outputs": [],
   "source": [
    "!git remote add origin https://github.com/kevinzjpeng/opencv_course.git"
   ]
  },
  {
   "cell_type": "markdown",
   "metadata": {},
   "source": [
    "## git add 新文件"
   ]
  },
  {
   "cell_type": "code",
   "execution_count": 3,
   "metadata": {},
   "outputs": [],
   "source": [
    "!git add *"
   ]
  },
  {
   "cell_type": "markdown",
   "metadata": {},
   "source": [
    "## git rm 已经删除文件"
   ]
  },
  {
   "cell_type": "code",
   "execution_count": 16,
   "metadata": {},
   "outputs": [
    {
     "name": "stdout",
     "output_type": "stream",
     "text": [
      "rm 'OpenPose/.DS_Store'\r\n",
      "rm 'approxPolyDP测试/.DS_Store'\r\n",
      "rm 'deep-learning-face-detection/.DS_Store'\r\n",
      "rm 'determining-object-color/.DS_Store'\r\n",
      "rm '人脸检测/.DS_Store'\r\n",
      "rm '使用摄像头/.DS_Store'\r\n",
      "rm '寻找Gameboy屏幕/.DS_Store'\r\n",
      "rm '寻找形状/.DS_Store'\r\n",
      "rm '形状辨认/.DS_Store'\r\n",
      "rm '环境配置/.DS_Store'\r\n",
      "rm '矫正图片角度/.DS_Store'\r\n",
      "rm '颜色辨认/.DS_Store'\r\n"
     ]
    }
   ],
   "source": [
    "!git status |grep deleted | cut -c \"14-\" |xargs git rm "
   ]
  },
  {
   "cell_type": "markdown",
   "metadata": {},
   "source": [
    "## git commit 文件\n",
    "需要修改comment"
   ]
  },
  {
   "cell_type": "code",
   "execution_count": 17,
   "metadata": {},
   "outputs": [
    {
     "name": "stdout",
     "output_type": "stream",
     "text": [
      "[master cf3d890] Remove .DS_Store\r\n",
      " 12 files changed, 0 insertions(+), 0 deletions(-)\r\n",
      " delete mode 100644 OpenPose/.DS_Store\r\n",
      " delete mode 100644 approxPolyDP测试/.DS_Store\r\n",
      " delete mode 100644 deep-learning-face-detection/.DS_Store\r\n",
      " delete mode 100644 determining-object-color/.DS_Store\r\n",
      " delete mode 100644 人脸检测/.DS_Store\r\n",
      " delete mode 100644 使用摄像头/.DS_Store\r\n",
      " delete mode 100644 寻找Gameboy屏幕/.DS_Store\r\n",
      " delete mode 100644 寻找形状/.DS_Store\r\n",
      " delete mode 100644 形状辨认/.DS_Store\r\n",
      " delete mode 100644 环境配置/.DS_Store\r\n",
      " delete mode 100644 矫正图片角度/.DS_Store\r\n",
      " delete mode 100644 颜色辨认/.DS_Store\r\n"
     ]
    }
   ],
   "source": [
    "!git commit -m \"Remove .DS_Store\""
   ]
  },
  {
   "cell_type": "markdown",
   "metadata": {},
   "source": [
    "## 再检查状态"
   ]
  },
  {
   "cell_type": "code",
   "execution_count": 18,
   "metadata": {},
   "outputs": [
    {
     "name": "stdout",
     "output_type": "stream",
     "text": [
      "On branch master\r\n",
      "Changes not staged for commit:\r\n",
      "  (use \"git add <file>...\" to update what will be committed)\r\n",
      "  (use \"git checkout -- <file>...\" to discard changes in working directory)\r\n",
      "\r\n",
      "\t\u001b[31mmodified:   GIT.ipynb\u001b[m\r\n",
      "\r\n",
      "Untracked files:\r\n",
      "  (use \"git add <file>...\" to include in what will be committed)\r\n",
      "\r\n",
      "\t\u001b[31m.ipynb_checkpoints/\u001b[m\r\n",
      "\r\n",
      "no changes added to commit (use \"git add\" and/or \"git commit -a\")\r\n"
     ]
    }
   ],
   "source": [
    "!git status"
   ]
  },
  {
   "cell_type": "markdown",
   "metadata": {},
   "source": [
    "## 先Git pull"
   ]
  },
  {
   "cell_type": "code",
   "execution_count": 6,
   "metadata": {},
   "outputs": [
    {
     "name": "stdout",
     "output_type": "stream",
     "text": [
      "From github.com:kevinzjpeng/opencv_course\n",
      " * branch            master     -> FETCH_HEAD\n",
      "Already up to date.\n"
     ]
    }
   ],
   "source": [
    "!git pull origin master"
   ]
  },
  {
   "cell_type": "markdown",
   "metadata": {},
   "source": [
    "## Git push文件"
   ]
  },
  {
   "cell_type": "code",
   "execution_count": 19,
   "metadata": {
    "scrolled": true
   },
   "outputs": [
    {
     "name": "stdout",
     "output_type": "stream",
     "text": [
      "Enumerating objects: 27, done.\n",
      "Counting objects: 100% (27/27), done.\n",
      "Delta compression using up to 4 threads\n",
      "Compressing objects: 100% (13/13), done.\n",
      "Writing objects: 100% (14/14), 1.83 KiB | 1.83 MiB/s, done.\n",
      "Total 14 (delta 1), reused 0 (delta 0)\n",
      "remote: Resolving deltas: 100% (1/1), completed with 1 local object.\u001b[K\n",
      "To github.com:kevinzjpeng/opencv_course.git\n",
      "   13d7619..cf3d890  master -> master\n"
     ]
    }
   ],
   "source": [
    "!git push origin master"
   ]
  },
  {
   "cell_type": "code",
   "execution_count": null,
   "metadata": {},
   "outputs": [],
   "source": []
  }
 ],
 "metadata": {
  "kernelspec": {
   "display_name": "Python 3",
   "language": "python",
   "name": "python3"
  },
  "language_info": {
   "codemirror_mode": {
    "name": "ipython",
    "version": 3
   },
   "file_extension": ".py",
   "mimetype": "text/x-python",
   "name": "python",
   "nbconvert_exporter": "python",
   "pygments_lexer": "ipython3",
   "version": "3.7.4"
  }
 },
 "nbformat": 4,
 "nbformat_minor": 2
}
