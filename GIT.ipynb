{
 "cells": [
  {
   "cell_type": "markdown",
   "metadata": {},
   "source": [
    "## 初始化Git"
   ]
  },
  {
   "cell_type": "code",
   "execution_count": 31,
   "metadata": {},
   "outputs": [
    {
     "name": "stdout",
     "output_type": "stream",
     "text": [
      "Initialized empty Git repository in /Users/kevinzjpeng/文档/课程/opencv/.git/\r\n"
     ]
    }
   ],
   "source": [
    "!git init"
   ]
  },
  {
   "cell_type": "markdown",
   "metadata": {},
   "source": [
    "## 为了解决显示中文问题，不对0x80以上字符quote"
   ]
  },
  {
   "cell_type": "code",
   "execution_count": 13,
   "metadata": {},
   "outputs": [],
   "source": [
    "#不对0x80以上的字符进行quote，解决git status/commit时中文文件名乱码\n",
    "!git config --global core.quotepath false"
   ]
  },
  {
   "cell_type": "markdown",
   "metadata": {},
   "source": [
    "## 检查Git 状态"
   ]
  },
  {
   "cell_type": "code",
   "execution_count": null,
   "metadata": {
    "scrolled": true
   },
   "outputs": [],
   "source": [
    "!git status"
   ]
  },
  {
   "cell_type": "markdown",
   "metadata": {},
   "source": [
    "## 初始化Github repository"
   ]
  },
  {
   "cell_type": "code",
   "execution_count": 33,
   "metadata": {},
   "outputs": [],
   "source": [
    "!git remote add origin https://github.com/kevinzjpeng/opencv_course.git"
   ]
  },
  {
   "cell_type": "markdown",
   "metadata": {},
   "source": [
    "## git add 新文件"
   ]
  },
  {
   "cell_type": "code",
   "execution_count": 2,
   "metadata": {},
   "outputs": [],
   "source": [
    "!git add *\n",
    "!git add .gitignore"
   ]
  },
  {
   "cell_type": "markdown",
   "metadata": {},
   "source": [
    "## git rm 已经删除文件"
   ]
  },
  {
   "cell_type": "code",
   "execution_count": 3,
   "metadata": {},
   "outputs": [
    {
     "name": "stdout",
     "output_type": "stream",
     "text": [
      "fatal: pathspec '使用摄像头/Camera.ipynb' did not match any files\r\n"
     ]
    }
   ],
   "source": [
    "!git status |grep deleted | cut -c \"14-\" |xargs git rm "
   ]
  },
  {
   "cell_type": "markdown",
   "metadata": {},
   "source": [
    "## git commit 文件\n",
    "需要修改comment"
   ]
  },
  {
   "cell_type": "code",
   "execution_count": 4,
   "metadata": {},
   "outputs": [
    {
     "name": "stdout",
     "output_type": "stream",
     "text": [
      "[master a9ecb41] Sync fiels\n",
      " 17 files changed, 1171 insertions(+), 621 deletions(-)\n",
      " create mode 100644 使用摄像头/1. 用摄像头拍摄视频.ipynb\n",
      " rename 使用摄像头/{2Camera.ipynb => 2. 同时使用两个摄像头.ipynb} (75%)\n",
      " create mode 100644 使用摄像头/3. 调整视频拍摄效果.ipynb\n",
      " create mode 100644 使用摄像头/3. 通过色彩空间调视频效果.ipynb\n",
      " delete mode 100644 使用摄像头/Camera.ipynb\n",
      " rewrite 全景图/1. 快速合并图片.ipynb (99%)\n",
      " create mode 100644 全景图/1.jpg\n",
      " create mode 100644 全景图/2.jpg\n",
      " rewrite 全景图/3. 全景图原理.ipynb (93%)\n",
      " delete mode 100644 图像分割/.ipynb_checkpoints/未命名-checkpoint.ipynb\n",
      " rename 图像分割/{未命名.ipynb => 图像分割.ipynb} (99%)\n",
      " create mode 100644 色彩矫正/picture1.jpg\n",
      " create mode 100644 色彩矫正/未命名.ipynb\n"
     ]
    }
   ],
   "source": [
    "!git commit -m \"Sync fiels\""
   ]
  },
  {
   "cell_type": "markdown",
   "metadata": {},
   "source": [
    "## 再检查状态"
   ]
  },
  {
   "cell_type": "code",
   "execution_count": 16,
   "metadata": {},
   "outputs": [
    {
     "name": "stdout",
     "output_type": "stream",
     "text": [
      "On branch master\r\n",
      "Your branch is ahead of 'origin/master' by 5 commits.\r\n",
      "  (use \"git push\" to publish your local commits)\r\n",
      "\r\n",
      "nothing to commit, working tree clean\r\n"
     ]
    }
   ],
   "source": [
    "!git status"
   ]
  },
  {
   "cell_type": "markdown",
   "metadata": {},
   "source": [
    "## 先Git pull"
   ]
  },
  {
   "cell_type": "code",
   "execution_count": 11,
   "metadata": {},
   "outputs": [
    {
     "name": "stdout",
     "output_type": "stream",
     "text": [
      "From https://github.com/kevinzjpeng/opencv_course\n",
      " * branch            master     -> FETCH_HEAD\n",
      "Already up to date.\n"
     ]
    }
   ],
   "source": [
    "!git pull origin master"
   ]
  },
  {
   "cell_type": "markdown",
   "metadata": {},
   "source": [
    "## Git push文件"
   ]
  },
  {
   "cell_type": "code",
   "execution_count": 9,
   "metadata": {
    "scrolled": true
   },
   "outputs": [
    {
     "name": "stdout",
     "output_type": "stream",
     "text": [
      "To https://github.com/kevinzjpeng/opencv_course.git\r\n",
      " \u001b[31m! [rejected]       \u001b[m master -> master (fetch first)\r\n",
      "\u001b[31merror: failed to push some refs to 'https://github.com/kevinzjpeng/opencv_course.git'\r\n",
      "\u001b[m\u001b[33mhint: Updates were rejected because the remote contains work that you do\u001b[m\r\n",
      "\u001b[33mhint: not have locally. This is usually caused by another repository pushing\u001b[m\r\n",
      "\u001b[33mhint: to the same ref. You may want to first integrate the remote changes\u001b[m\r\n",
      "\u001b[33mhint: (e.g., 'git pull ...') before pushing again.\u001b[m\r\n",
      "\u001b[33mhint: See the 'Note about fast-forwards' in 'git push --help' for details.\u001b[m\r\n"
     ]
    }
   ],
   "source": [
    "!git push origin master"
   ]
  },
  {
   "cell_type": "code",
   "execution_count": null,
   "metadata": {},
   "outputs": [],
   "source": []
  }
 ],
 "metadata": {
  "kernelspec": {
   "display_name": "Python 3",
   "language": "python",
   "name": "python3"
  },
  "language_info": {
   "codemirror_mode": {
    "name": "ipython",
    "version": 3
   },
   "file_extension": ".py",
   "mimetype": "text/x-python",
   "name": "python",
   "nbconvert_exporter": "python",
   "pygments_lexer": "ipython3",
   "version": "3.7.4"
  }
 },
 "nbformat": 4,
 "nbformat_minor": 2
}
