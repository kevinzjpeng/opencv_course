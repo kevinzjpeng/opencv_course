{
 "cells": [
  {
   "cell_type": "markdown",
   "metadata": {},
   "source": [
    "## 初始化Git"
   ]
  },
  {
   "cell_type": "code",
   "execution_count": null,
   "metadata": {},
   "outputs": [],
   "source": [
    "!git init"
   ]
  },
  {
   "cell_type": "markdown",
   "metadata": {},
   "source": [
    "## 为了解决显示中文问题，不对0x80以上字符quote"
   ]
  },
  {
   "cell_type": "code",
   "execution_count": 4,
   "metadata": {},
   "outputs": [],
   "source": [
    "#不对0x80以上的字符进行quote，解决git status/commit时中文文件名乱码\n",
    "!git config --global core.quotepath false"
   ]
  },
  {
   "cell_type": "markdown",
   "metadata": {},
   "source": [
    "## 检查Git 状态"
   ]
  },
  {
   "cell_type": "code",
   "execution_count": 8,
   "metadata": {
    "scrolled": true
   },
   "outputs": [
    {
     "name": "stdout",
     "output_type": "stream",
     "text": [
      "On branch master\n",
      "Your branch is up to date with 'origin/master'.\n",
      "\n",
      "Changes to be committed:\n",
      "  (use \"git reset HEAD <file>...\" to unstage)\n",
      "\n",
      "\t\u001b[32mnew file:   0. 环境配置/检查OpenCV版本.ipynb\u001b[m\n",
      "\t\u001b[32mmodified:   01. 基本操作/01. 图像基础操作.ipynb\u001b[m\n",
      "\t\u001b[32mrenamed:    01. 基本操作/Image Processing/Color Space Conversions.ipynb -> 01. 基本操作/Color Space Conversions.ipynb\u001b[m\n",
      "\t\u001b[32mrenamed:    01. 基本操作/Image Processing/Drawing-Functions.ipynb -> 01. 基本操作/Drawing-Functions.ipynb\u001b[m\n",
      "\t\u001b[32mrenamed:    01. 基本操作/Image Processing/Geometric Image Transformations.ipynb -> 01. 基本操作/Geometric Image Transformations.ipynb\u001b[m\n",
      "\t\u001b[32mrenamed:    01. 基本操作/Image Processing/Image Filtering.ipynb -> 01. 基本操作/Image Filtering.ipynb\u001b[m\n",
      "\t\u001b[32mrenamed:    01. 基本操作/OpenCV_Logo.png -> 01. 基本操作/image/OpenCV_Logo.png\u001b[m\n",
      "\t\u001b[32mrenamed:    01. 基本操作/Image Processing/bilateral.png -> 01. 基本操作/image/bilateral.png\u001b[m\n",
      "\t\u001b[32mrenamed:    01. 基本操作/Image Processing/boxfilter.jpg -> 01. 基本操作/image/boxfilter.jpg\u001b[m\n",
      "\t\u001b[32mrenamed:    01. 基本操作/Image Processing/dog.png -> 01. 基本操作/image/dog.png\u001b[m\n",
      "\n"
     ]
    }
   ],
   "source": [
    "!git status"
   ]
  },
  {
   "cell_type": "markdown",
   "metadata": {},
   "source": [
    "## 初始化Github repository"
   ]
  },
  {
   "cell_type": "code",
   "execution_count": null,
   "metadata": {},
   "outputs": [],
   "source": [
    "!git remote add origin https://github.com/kevinzjpeng/opencv_course.git"
   ]
  },
  {
   "cell_type": "markdown",
   "metadata": {},
   "source": [
    "## git add 新文件"
   ]
  },
  {
   "cell_type": "code",
   "execution_count": 6,
   "metadata": {},
   "outputs": [],
   "source": [
    "!git add *"
   ]
  },
  {
   "cell_type": "code",
   "execution_count": null,
   "metadata": {},
   "outputs": [],
   "source": [
    "!git add --ignore-removal ."
   ]
  },
  {
   "cell_type": "markdown",
   "metadata": {},
   "source": [
    "## git rm 已经删除文件"
   ]
  },
  {
   "cell_type": "code",
   "execution_count": 7,
   "metadata": {},
   "outputs": [
    {
     "name": "stdout",
     "output_type": "stream",
     "text": [
      "usage: git rm [<options>] [--] <file>...\n",
      "\n",
      "    -n, --dry-run         dry run\n",
      "    -q, --quiet           do not list removed files\n",
      "    --cached              only remove from the index\n",
      "    -f, --force           override the up-to-date check\n",
      "    -r                    allow recursive removal\n",
      "    --ignore-unmatch      exit with a zero status even if nothing matched\n",
      "\n"
     ]
    }
   ],
   "source": [
    "!git status |grep deleted | cut -c \"15-\" |xargs git rm "
   ]
  },
  {
   "cell_type": "markdown",
   "metadata": {},
   "source": [
    "## git commit 文件\n",
    "需要修改comment"
   ]
  },
  {
   "cell_type": "code",
   "execution_count": 9,
   "metadata": {},
   "outputs": [
    {
     "name": "stdout",
     "output_type": "stream",
     "text": [
      "[master 0b1a423] 修复基本操作\n",
      " 10 files changed, 429 insertions(+), 583 deletions(-)\n",
      " create mode 100644 0. 环境配置/检查OpenCV版本.ipynb\n",
      " rewrite 01. 基本操作/01. 图像基础操作.ipynb (85%)\n",
      " rename 01. 基本操作/{Image Processing => }/Color Space Conversions.ipynb (100%)\n",
      " rename 01. 基本操作/{Image Processing => }/Drawing-Functions.ipynb (100%)\n",
      " rename 01. 基本操作/{Image Processing => }/Geometric Image Transformations.ipynb (100%)\n",
      " rename 01. 基本操作/{Image Processing => }/Image Filtering.ipynb (100%)\n",
      " rename 01. 基本操作/{ => image}/OpenCV_Logo.png (100%)\n",
      " rename 01. 基本操作/{Image Processing => image}/bilateral.png (100%)\n",
      " rename 01. 基本操作/{Image Processing => image}/boxfilter.jpg (100%)\n",
      " rename 01. 基本操作/{Image Processing => image}/dog.png (100%)\n"
     ]
    }
   ],
   "source": [
    "!git commit -m \"修复基本操作\""
   ]
  },
  {
   "cell_type": "markdown",
   "metadata": {},
   "source": [
    "## 再检查状态"
   ]
  },
  {
   "cell_type": "code",
   "execution_count": 4,
   "metadata": {},
   "outputs": [
    {
     "name": "stdout",
     "output_type": "stream",
     "text": [
      "# On branch master\n",
      "# Your branch is ahead of 'origin/master' by 1 commit.\n",
      "#   (use \"git push\" to publish your local commits)\n",
      "#\n",
      "nothing to commit, working directory clean\n"
     ]
    }
   ],
   "source": [
    "!git status"
   ]
  },
  {
   "cell_type": "markdown",
   "metadata": {},
   "source": [
    "## 先Git pull"
   ]
  },
  {
   "cell_type": "code",
   "execution_count": 10,
   "metadata": {},
   "outputs": [
    {
     "name": "stdout",
     "output_type": "stream",
     "text": [
      "From github.com:kevinzjpeng/opencv_course\n",
      " * branch            master     -> FETCH_HEAD\n",
      "Already up to date.\n"
     ]
    }
   ],
   "source": [
    "!git pull origin master"
   ]
  },
  {
   "cell_type": "code",
   "execution_count": null,
   "metadata": {},
   "outputs": [],
   "source": [
    "!git fetch origin master"
   ]
  },
  {
   "cell_type": "markdown",
   "metadata": {},
   "source": [
    "## Git push文件"
   ]
  },
  {
   "cell_type": "code",
   "execution_count": 11,
   "metadata": {
    "scrolled": true
   },
   "outputs": [
    {
     "name": "stdout",
     "output_type": "stream",
     "text": [
      "Enumerating objects: 10, done.\n",
      "Counting objects: 100% (10/10), done.\n",
      "Delta compression using up to 4 threads\n",
      "Compressing objects: 100% (6/6), done.\n",
      "Writing objects: 100% (6/6), 1.12 KiB | 1.12 MiB/s, done.\n",
      "Total 6 (delta 2), reused 0 (delta 0)\n",
      "remote: Resolving deltas: 100% (2/2), completed with 2 local objects.\u001b[K\n",
      "To github.com:kevinzjpeng/opencv_course.git\n",
      "   0e3ea19..0b1a423  master -> master\n"
     ]
    }
   ],
   "source": [
    "!git push origin master"
   ]
  },
  {
   "cell_type": "code",
   "execution_count": null,
   "metadata": {},
   "outputs": [],
   "source": []
  }
 ],
 "metadata": {
  "kernelspec": {
   "display_name": "Python 3",
   "language": "python",
   "name": "python3"
  },
  "language_info": {
   "codemirror_mode": {
    "name": "ipython",
    "version": 3
   },
   "file_extension": ".py",
   "mimetype": "text/x-python",
   "name": "python",
   "nbconvert_exporter": "python",
   "pygments_lexer": "ipython3",
   "version": "3.6.8"
  }
 },
 "nbformat": 4,
 "nbformat_minor": 4
}
