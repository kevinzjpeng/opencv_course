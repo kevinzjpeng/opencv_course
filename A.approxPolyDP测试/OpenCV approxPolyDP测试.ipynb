{
 "cells": [
  {
   "cell_type": "code",
   "execution_count": 16,
   "metadata": {},
   "outputs": [],
   "source": [
    "import ipywidgets.widgets as widgets\n",
    "from IPython.display import display\n",
    "import matplotlib.pyplot as plt\n",
    "import cv2\n",
    "import imutils"
   ]
  },
  {
   "cell_type": "code",
   "execution_count": 18,
   "metadata": {},
   "outputs": [
    {
     "data": {
      "text/plain": [
       "<matplotlib.image.AxesImage at 0x12cccac10>"
      ]
     },
     "execution_count": 18,
     "metadata": {},
     "output_type": "execute_result"
    },
    {
     "data": {
      "image/png": "[encoded data removed]",
      "text/plain": [
       "<Figure size 432x288 with 1 Axes>"
      ]
     },
     "metadata": {
      "needs_background": "light"
     },
     "output_type": "display_data"
    }
   ],
   "source": [
    "image = cv2.imread('circle.png')\n",
    "image = cv2.cvtColor(image, cv2.COLOR_BGR2RGB);\n",
    "\n",
    "ratio = image.shape[0] / 600.0\n",
    "orig = image.copy()\n",
    "image = imutils.resize(image, height = 600)\n",
    "plt.imshow(image)"
   ]
  },
  {
   "cell_type": "code",
   "execution_count": 19,
   "metadata": {},
   "outputs": [
    {
     "data": {
      "text/plain": [
       "<matplotlib.image.AxesImage at 0x12ce88b10>"
      ]
     },
     "execution_count": 19,
     "metadata": {},
     "output_type": "execute_result"
    },
    {
     "data": {
      "image/png": "[encoded data removed]",
      "text/plain": [
       "<Figure size 432x288 with 1 Axes>"
      ]
     },
     "metadata": {
      "needs_background": "light"
     },
     "output_type": "display_data"
    }
   ],
   "source": [
    "# convert the image to grayscale, blur it, and find edges in the image\n",
    "gray = cv2.cvtColor(image, cv2.COLOR_BGR2GRAY)\n",
    "gray = cv2.bilateralFilter(gray, 11, 17, 17)\n",
    "edged = cv2.Canny(gray, 30, 200)\n",
    "plt.imshow(edged)"
   ]
  },
  {
   "cell_type": "code",
   "execution_count": 20,
   "metadata": {},
   "outputs": [],
   "source": [
    "cnts = cv2.findContours(edged.copy(), cv2.RETR_TREE, cv2.CHAIN_APPROX_SIMPLE)\n",
    "cnts = imutils.grab_contours(cnts)\n",
    "# cnts = sorted(cnts, key = cv2.contourArea, reverse = True)[:10]\n",
    "\n",
    "# cpyImg = image.copy()\n",
    "# for c in cnts:\n",
    "#     cv2.drawContours(cpyImg, c, -1, (0, 255, 0), 3)\n",
    "#     plt.imshow(cpyImg)\n"
   ]
  },
  {
   "cell_type": "code",
   "execution_count": 32,
   "metadata": {},
   "outputs": [],
   "source": [
    "import traitlets\n",
    "from traitlets.config.configurable import Configurable\n",
    "\n",
    "\n",
    "class Image(Configurable):\n",
    "\n",
    "    value = traitlets.Float()\n",
    "\n",
    "    def __init__(self, *args, **kwargs):\n",
    "        super(Image, self).__init__(*args, **kwargs)  # initializes traitlets\n",
    "        \n",
    "    @traitlets.observe('value')\n",
    "    def _observe_value(self, change):\n",
    "        self._write_value(change['new'])\n",
    "\n",
    "    def _write_value(self, value):\n",
    "        \"\"\"Sets motor value between [-1, 1]\"\"\"\n",
    "        mapped_value = value"
   ]
  },
  {
   "cell_type": "code",
   "execution_count": 68,
   "metadata": {
    "scrolled": true
   },
   "outputs": [
    {
     "data": {
      "application/vnd.jupyter.widget-view+json": {
       "model_id": "93b0f09f9a7c43f79d2eeb537f0595aa",
       "version_major": 2,
       "version_minor": 0
      },
      "text/plain": [
       "HBox(children=(FloatSlider(value=0.0, description='left', max=1.0, readout_format='.3f', step=0.001), Output()…"
      ]
     },
     "metadata": {},
     "output_type": "display_data"
    }
   ],
   "source": [
    "screenCnt = None\n",
    "\n",
    "# create two sliders with range [-1.0, 1.0]\n",
    "slider = widgets.FloatSlider(description='left', min=0, max=1, step=0.001, orientation='horizontal', readout_format='.3f',)\n",
    "\n",
    "def draw_circle(slider):\n",
    "    # loop over our contours\n",
    "    for c in cnts:\n",
    "        # approximate the contour\n",
    "        peri = cv2.arcLength(c, True)\n",
    "        # epsilon Parameter specifying the approximation accuracy. This is the maximum distance between the original curve and its approximation.\n",
    "        # 2nd参数是epsilon， 判断点到相对应的line segment 的距离的阈值。（距离大于此阈值则舍弃，小于此阈值则保留，epsilon越小，折线的形状越“接近”曲线。）\n",
    "        approx = cv2.approxPolyDP(c, float(slider)*peri, True)\n",
    "        screenCnt = approx\n",
    "\n",
    "    cloned_image = image.copy()\n",
    "    cv2.drawContours(cloned_image, [screenCnt], -1, (0, 255, 0), 3)\n",
    "    plt.imshow(cloned_image)\n",
    "\n",
    "        \n",
    "output = widgets.interactive_output(draw_circle, {'slider': slider})\n",
    "\n",
    "        \n",
    "# create a horizontal box container to place the sliders next to eachother\n",
    "slider_container = widgets.HBox([slider, output])\n",
    "\n",
    "# display the container in this cell's output\n",
    "display(slider_container)"
   ]
  }
 ],
 "metadata": {
  "kernelspec": {
   "display_name": "Python 3",
   "language": "python",
   "name": "python3"
  },
  "language_info": {
   "codemirror_mode": {
    "name": "ipython",
    "version": 3
   },
   "file_extension": ".py",
   "mimetype": "text/x-python",
   "name": "python",
   "nbconvert_exporter": "python",
   "pygments_lexer": "ipython3",
   "version": "3.7.4"
  }
 },
 "nbformat": 4,
 "nbformat_minor": 2
}
