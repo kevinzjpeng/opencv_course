{
 "cells": [
  {
   "cell_type": "markdown",
   "metadata": {},
   "source": [
    "# 图像基础操作 (一)"
   ]
  },
  {
   "cell_type": "markdown",
   "metadata": {},
   "source": [
    "## 显示图像"
   ]
  },
  {
   "cell_type": "markdown",
   "metadata": {},
   "source": [
    "### 读取(加载)图片"
   ]
  },
  {
   "cell_type": "markdown",
   "metadata": {},
   "source": [
    "retval = cv.imread(filename[, flags])\n",
    "\n",
    "从文件加载图像。\n",
    "\n",
    "函数imread从指定文件加载图像并返回。如果无法读取图像（由于文件丢失，权限不正确，格式不受支持或无效），该函数返回一个空矩阵（Mat :: data == NULL）。\n",
    "  \n",
    "`filename` : 要加载的文件路径和名称  \n",
    "`flags` : (可选)加载图片的模式(ImreadModes)\n",
    " \n",
    "cv::ImreadModes {  \n",
    "-  cv::IMREAD_UNCHANGED = -1, \n",
    "-  cv::IMREAD_GRAYSCALE = 0, \n",
    "-  cv::IMREAD_COLOR = 1, \n",
    "-  cv::IMREAD_ANYDEPTH = 2, \n",
    "-  cv::IMREAD_ANYCOLOR = 4, \n",
    "-  cv::IMREAD_LOAD_GDAL = 8, \n",
    "-  cv::IMREAD_REDUCED_GRAYSCALE_2 = 16, \n",
    "-  cv::IMREAD_REDUCED_COLOR_2 = 17, \n",
    "-  cv::IMREAD_REDUCED_GRAYSCALE_4 = 32, \n",
    "-  cv::IMREAD_REDUCED_COLOR_4 = 33, \n",
    "-  cv::IMREAD_REDUCED_GRAYSCALE_8 = 64, \n",
    "-  cv::IMREAD_REDUCED_COLOR_8 = 65, \n",
    "-  cv::IMREAD_IGNORE_ORIENTATION = 128   \n",
    "  \n",
    "}\n",
    "\n"
   ]
  },
  {
   "cell_type": "code",
   "execution_count": null,
   "metadata": {
    "pycharm": {
     "is_executing": false
    },
    "scrolled": true
   },
   "outputs": [],
   "source": [
    "import cv2\n",
    "image = cv2.imread(\"image/OpenCV_Logo.png\")"
   ]
  },
  {
   "cell_type": "markdown",
   "metadata": {},
   "source": [
    "### 显示图像"
   ]
  },
  {
   "cell_type": "markdown",
   "metadata": {},
   "source": [
    "方法1: (只适用月Python程序）  \n",
    "使用 cv.imshow( `winname`, `mat` )  \n",
    "    const String & `winname` : 窗口名称  \n",
    "    InputArray `mat`         : 需要显示的图像数据"
   ]
  },
  {
   "cell_type": "code",
   "execution_count": null,
   "metadata": {
    "pycharm": {
     "is_executing": false
    }
   },
   "outputs": [],
   "source": [
    "#运行,会出先暂时死机状态\n",
    "abc = cv2.imshow(\"Open logo\",image)\n",
    "cv2.waitKey(0)"
   ]
  },
  {
   "cell_type": "markdown",
   "metadata": {},
   "source": [
    "> 此方法在Jupyter Notebook上运行会在关闭图像时死机,  \n",
    "> 为解决此问题,使用matplotlib显示图像"
   ]
  },
  {
   "cell_type": "code",
   "execution_count": null,
   "metadata": {
    "pycharm": {
     "is_executing": false
    },
    "scrolled": true
   },
   "outputs": [],
   "source": [
    "import matplotlib.pyplot as plt #加载matplotlib.pyplot Matplotlib是一个Python 2D绘图库\n",
    "plt.imshow(image)"
   ]
  },
  {
   "cell_type": "markdown",
   "metadata": {},
   "source": [
    "---"
   ]
  },
  {
   "cell_type": "markdown",
   "metadata": {},
   "source": [
    "<BR><BR>"
   ]
  },
  {
   "cell_type": "markdown",
   "metadata": {},
   "source": [
    "## 旋转图像"
   ]
  },
  {
   "cell_type": "code",
   "execution_count": null,
   "metadata": {
    "pycharm": {
     "is_executing": false
    }
   },
   "outputs": [],
   "source": [
    "import cv2\n",
    "import matplotlib.pyplot as plt\n",
    "\n",
    "import imutils  #加载imutils 一款图像处理工具包"
   ]
  },
  {
   "cell_type": "code",
   "execution_count": null,
   "metadata": {
    "pycharm": {
     "is_executing": false
    }
   },
   "outputs": [],
   "source": [
    "#加载图像\n",
    "image = cv2.imread(\"OpenCV_Logo.png\")"
   ]
  },
  {
   "cell_type": "markdown",
   "metadata": {},
   "source": [
    "使用imutils的rotate_bound()方法,实现旋转图像  \n",
    "  \n",
    "imutils.**rotate_bound**(`image`, `angle`)  \n",
    "`image` : 需要旋转的图像  \n",
    "`angle` : 旋转的角度  "
   ]
  },
  {
   "cell_type": "code",
   "execution_count": null,
   "metadata": {
    "pycharm": {
     "is_executing": false
    }
   },
   "outputs": [],
   "source": [
    "image = imutils.rotate_bound(image,290)"
   ]
  },
  {
   "cell_type": "code",
   "execution_count": null,
   "metadata": {
    "scrolled": true
   },
   "outputs": [],
   "source": [
    "plt.imshow(image)"
   ]
  },
  {
   "cell_type": "markdown",
   "metadata": {},
   "source": [
    "---"
   ]
  },
  {
   "cell_type": "markdown",
   "metadata": {},
   "source": [
    "<BR><BR><BR>"
   ]
  },
  {
   "cell_type": "markdown",
   "metadata": {},
   "source": [
    "## 缩放图像"
   ]
  },
  {
   "cell_type": "code",
   "execution_count": null,
   "metadata": {},
   "outputs": [],
   "source": [
    "import cv2\n",
    "import matplotlib.pyplot as plt"
   ]
  },
  {
   "cell_type": "code",
   "execution_count": null,
   "metadata": {},
   "outputs": [],
   "source": [
    "image = cv2.imread(\"OpenCV_Logo.png\")"
   ]
  },
  {
   "cell_type": "code",
   "execution_count": null,
   "metadata": {},
   "outputs": [],
   "source": [
    "#查看image的形状\n",
    "image.shape"
   ]
  },
  {
   "cell_type": "markdown",
   "metadata": {},
   "source": [
    "使用cv.resize(),进行缩放  \n",
    "dst = cv.resize( src, dsize[, dst[, fx[, fy[, interpolation]]]] )  \n",
    "  \n",
    "Parameters\n",
    "- `src`\tinput image.  \n",
    "- `dst`\toutput image; it has the size dsize (when it is non-zero) or the size computed from src.size(), fx, and fy; the type of dst is the same as of src.\n",
    "- `dsize`\toutput image size; if it equals zero, it is computed as:  \n",
    "    𝚍𝚜𝚒𝚣𝚎 = 𝚂𝚒𝚣𝚎(𝚛𝚘𝚞𝚗𝚍(𝚏𝚡*𝚜𝚛𝚌.𝚌𝚘𝚕𝚜), 𝚛𝚘𝚞𝚗𝚍(𝚏𝚢*𝚜𝚛𝚌.𝚛𝚘𝚠𝚜))  \n",
    "    Either dsize or both fx and fy must be non-zero.\n",
    "- `fx`\tscale factor along the horizontal axis; when it equals 0, it is computed as  \n",
    "    (𝚍𝚘𝚞𝚋𝚕𝚎)𝚍𝚜𝚒𝚣𝚎.𝚠𝚒𝚍𝚝𝚑/𝚜𝚛𝚌.𝚌𝚘𝚕𝚜\n",
    "- `fy`\tscale factor along the vertical axis; when it equals 0, it is computed as  \n",
    "    (𝚍𝚘𝚞𝚋𝚕𝚎)𝚍𝚜𝚒𝚣𝚎.𝚑𝚎𝚒𝚐𝚑𝚝/𝚜𝚛𝚌.𝚛𝚘𝚠𝚜\n",
    "- `interpolation`\tinterpolation method, see InterpolationFlags"
   ]
  },
  {
   "cell_type": "code",
   "execution_count": null,
   "metadata": {},
   "outputs": [],
   "source": [
    "resized = cv2.resize(image,(428//2,378//2))"
   ]
  },
  {
   "cell_type": "code",
   "execution_count": null,
   "metadata": {},
   "outputs": [],
   "source": [
    "resized.shape"
   ]
  },
  {
   "cell_type": "markdown",
   "metadata": {},
   "source": [
    "使用plt.subplot(),同时显示多个图像\n",
    "\n",
    "subplot(nrows, ncols, index, **kwargs)  "
   ]
  },
  {
   "cell_type": "code",
   "execution_count": null,
   "metadata": {},
   "outputs": [],
   "source": [
    "plt.subplot(1,2,1)\n",
    "plt.imshow(image)\n",
    "plt.subplot(1,2,2)\n",
    "plt.imshow(resized)"
   ]
  },
  {
   "cell_type": "markdown",
   "metadata": {},
   "source": [
    "---"
   ]
  },
  {
   "cell_type": "markdown",
   "metadata": {},
   "source": [
    "<BR><BR><BR>"
   ]
  },
  {
   "cell_type": "markdown",
   "metadata": {},
   "source": [
    "## 剪裁(切割)图像"
   ]
  },
  {
   "cell_type": "code",
   "execution_count": null,
   "metadata": {},
   "outputs": [],
   "source": [
    "import cv2\n",
    "import matplotlib.pyplot as plt"
   ]
  },
  {
   "cell_type": "code",
   "execution_count": null,
   "metadata": {},
   "outputs": [],
   "source": [
    "image = cv2.imread(\"OpenCV_Logo.png\")"
   ]
  },
  {
   "cell_type": "code",
   "execution_count": null,
   "metadata": {},
   "outputs": [],
   "source": [
    "image.shape"
   ]
  },
  {
   "cell_type": "code",
   "execution_count": null,
   "metadata": {},
   "outputs": [],
   "source": [
    "cuted = image[140:270,200:330]"
   ]
  },
  {
   "cell_type": "code",
   "execution_count": null,
   "metadata": {
    "pycharm": {
     "is_executing": false
    }
   },
   "outputs": [],
   "source": [
    "plt.imshow(cuted)"
   ]
  }
 ],
 "metadata": {
  "kernelspec": {
   "display_name": "Python 3",
   "language": "python",
   "name": "python3"
  },
  "language_info": {
   "codemirror_mode": {
    "name": "ipython",
    "version": 3
   },
   "file_extension": ".py",
   "mimetype": "text/x-python",
   "name": "python",
   "nbconvert_exporter": "python",
   "pygments_lexer": "ipython3",
   "version": "3.6.8"
  },
  "pycharm": {
   "stem_cell": {
    "cell_type": "raw",
    "metadata": {
     "collapsed": false
    },
    "source": []
   }
  }
 },
 "nbformat": 4,
 "nbformat_minor": 4
}
