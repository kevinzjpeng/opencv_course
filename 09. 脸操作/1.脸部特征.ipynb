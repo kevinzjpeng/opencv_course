{
 "cells": [
  {
   "cell_type": "markdown",
   "metadata": {},
   "source": [
    "# 脸部特征\n",
    "\n",
    "通过dlib可以获取脸部68个基本特征点。\n",
    "\n",
    "<img src=\"facial_landmarks_68markup-1024x825.jpg\" alt=\"Drawing\" style=\"width: 400px;\"/>\n",
    "\n",
    "### 如果要充分利用Nvidia GPU的CUDA功能，使用pip install dlib来安装dlib不一定能支持GPU，必须通过代码编译安装，命令如下：\n",
    "```shell\n",
    "git clone https://github.com/davisking/dlib.git\n",
    "cd dlib\n",
    "mkdir build\n",
    "cd build\n",
    "cmake .. -DDLIB_USE_CUDA=1 -DUSE_AVX_INSTRUCTIONS=1\n",
    "cmake --build .\n",
    "cd ..\n",
    "python3.6 setup.py install\n",
    "```"
   ]
  },
  {
   "cell_type": "code",
   "execution_count": 10,
   "metadata": {},
   "outputs": [
    {
     "name": "stdout",
     "output_type": "stream",
     "text": [
      "1\n",
      "True\n"
     ]
    }
   ],
   "source": [
    "### 检查是否支持使用GPU\n",
    "\n",
    "import dlib.cuda as cuda\n",
    "print(cuda.get_num_devices())\n",
    "print(dlib.DLIB_USE_CUDA)"
   ]
  },
  {
   "cell_type": "code",
   "execution_count": 2,
   "metadata": {},
   "outputs": [],
   "source": [
    "import sys\n",
    "import numpy as np\n",
    "import math \n",
    "from imutils import face_utils\n",
    "from collections import OrderedDict\n",
    "import cv2\n",
    "import argparse\n",
    "import imutils\n",
    "import dlib\n",
    "\n",
    "sys.path.append('..')\n",
    "from opencv_course import ImageUtil"
   ]
  },
  {
   "cell_type": "code",
   "execution_count": 3,
   "metadata": {},
   "outputs": [],
   "source": [
    "def rect_to_bb(rect):\n",
    "    # take a bounding predicted by dlib and convert it\n",
    "    # to the format (x, y, w, h) as we would normally do\n",
    "    # with OpenCV\n",
    "    x = rect.left()\n",
    "    y = rect.top()\n",
    "    w = rect.right() - x\n",
    "    h = rect.bottom() - y\n",
    "\n",
    "    # return a tuple of (x, y, w, h)\n",
    "    return (x, y, w, h)\n",
    "\n",
    "def distance_p2line(p, l1, l2):\n",
    "    return np.linalg.norm(np.cross(l2-l1, l1-p))/np.linalg.norm(l2-l1)\n",
    "\n",
    "def distance(p1, p2):\n",
    "    x1, y1 = p1\n",
    "    x2, y2 = p2\n",
    "    return math.sqrt(math.pow(x2 - x1, 2) + math.pow(y2 - y1, 2) * 1.0) \n",
    "\n",
    "def midpoint(p1, p2):\n",
    "    return ((int)((p1[0]+p2[0])/2), (int)((p1[1]+p2[1])/2))\n",
    "\n",
    "#判断是否左脸比右脸大\n",
    "def left_bigger(shape):\n",
    "    left_edge = shape[2]\n",
    "    left_nose = shape[31]\n",
    "    right_edge = shape[14]\n",
    "    right_nose = shape[35]\n",
    "    return distance(left_edge, left_nose) > distance(right_edge, right_nose)"
   ]
  },
  {
   "cell_type": "code",
   "execution_count": 4,
   "metadata": {},
   "outputs": [],
   "source": [
    "# initialize dlib's face detector (HOG-based) and then create\n",
    "# the facial landmark predictor\n",
    "shape_predictor = 'shape_predictor_68_face_landmarks.dat'\n",
    "\n",
    "cuda.set_device(0)\n",
    "detector = dlib.get_frontal_face_detector()\n",
    "\n",
    "\n",
    "predictor = dlib.shape_predictor(shape_predictor)"
   ]
  },
  {
   "cell_type": "code",
   "execution_count": 9,
   "metadata": {},
   "outputs": [
    {
     "name": "stdout",
     "output_type": "stream",
     "text": [
      "(462, 500)\n",
      "(462, 500)\n",
      "(462, 500)\n",
      "(462, 500)\n",
      "(462, 500)\n",
      "(462, 500)\n",
      "(462, 500)\n",
      "(462, 500)\n",
      "510 ms ± 1.24 ms per loop (mean ± std. dev. of 7 runs, 1 loop each)\n"
     ]
    }
   ],
   "source": [
    "%%timeit\n",
    "\n",
    "# load the input image, resize it, and convert it to grayscale\n",
    "image = cv2.imread('two.png')\n",
    "image = imutils.resize(image, width=500)\n",
    "gray = cv2.cvtColor(image, cv2.COLOR_BGR2GRAY)\n",
    "\n",
    "print(gray.shape)\n",
    "# detect faces in the grayscale image\n",
    "rects = detector(gray, 1)"
   ]
  },
  {
   "cell_type": "code",
   "execution_count": null,
   "metadata": {},
   "outputs": [],
   "source": [
    "# loop over the face detections\n",
    "for (i, rect) in enumerate(rects):\n",
    "    # determine the facial landmarks for the face region, then\n",
    "    # convert the facial landmark (x, y)-coordinates to a NumPy\n",
    "    # array\n",
    "    shape = predictor(gray, rect)\n",
    "    shape = face_utils.shape_to_np(shape)\n",
    "\n",
    "    # convert dlib's rectangle to a OpenCV-style bounding box\n",
    "    # [i.e., (x, y, w, h)], then draw the face bounding box\n",
    "    (x, y, w, h) = face_utils.rect_to_bb(rect)\n",
    "\n",
    "    # loop over the (x, y)-coordinates for the facial landmarks\n",
    "    # and draw them on the image\n",
    "    i=1\n",
    "    for (x, y) in shape:\n",
    "        cv2.circle(image, (x, y), 1, (0, 255, 0), -1)\n",
    "        i+=1\n",
    "    if left_bigger(shape):\n",
    "        cv2.circle(image, midpoint(shape[21],shape[48]), 1, (0, 255, 0), -1)\n",
    "    else:\n",
    "        cv2.circle(image, midpoint(shape[22],shape[54]), 1, (0, 255, 0), -1)\n",
    "    "
   ]
  },
  {
   "cell_type": "code",
   "execution_count": null,
   "metadata": {},
   "outputs": [],
   "source": [
    "ImageUtil.imshow([image])"
   ]
  },
  {
   "cell_type": "code",
   "execution_count": null,
   "metadata": {},
   "outputs": [],
   "source": []
  }
 ],
 "metadata": {
  "kernelspec": {
   "display_name": "Python 3",
   "language": "python",
   "name": "python3"
  },
  "language_info": {
   "codemirror_mode": {
    "name": "ipython",
    "version": 3
   },
   "file_extension": ".py",
   "mimetype": "text/x-python",
   "name": "python",
   "nbconvert_exporter": "python",
   "pygments_lexer": "ipython3",
   "version": "3.6.8"
  }
 },
 "nbformat": 4,
 "nbformat_minor": 4
}
