{
 "cells": [
  {
   "cell_type": "markdown",
   "metadata": {},
   "source": [
    "## 通过HSV色彩空间调整色相、饱和度、明度"
   ]
  },
  {
   "cell_type": "code",
   "execution_count": 1,
   "metadata": {},
   "outputs": [],
   "source": [
    "import traitlets\n",
    "from traitlets.config.configurable import SingletonConfigurable\n",
    "import numpy as np\n",
    "import enum\n",
    "import cv2\n",
    "import ipywidgets as widgets\n",
    "from IPython.display import display\n",
    "\n",
    "import sys\n",
    "sys.path.append('..')\n",
    "from opencv_course.video import Camera2\n",
    "\n",
    "def trancate(v, slider):\n",
    "    if slider.value >0:\n",
    "        max = 255 - slider.value\n",
    "        v[v > max] = 255\n",
    "        v[v <= max] += slider.value\n",
    "    elif slider.value < 0:\n",
    "        min = 0 - slider.value\n",
    "        v[v < min] = 0\n",
    "        v[v >= min] -= abs(slider.value)"
   ]
  },
  {
   "cell_type": "code",
   "execution_count": null,
   "metadata": {},
   "outputs": [],
   "source": [
    "h_slider = widgets.IntSlider(value=0,min=-100,max=100, step=1, description=\"Hue\")\n",
    "s_slider = widgets.IntSlider(value=0,min=-100,max=100, step=1, description=\"Saturation\")\n",
    "v_slider = widgets.IntSlider(value=0,min=-180,max=180, step=1, description=\"Brightness\")\n",
    "\n",
    "def bgr8_to_jpeg(value, quality=10):\n",
    "    global v_slider\n",
    "    image = cv2.cvtColor(value, cv2.COLOR_BGR2HSV)\n",
    "    h, s, v = cv2.split(image)\n",
    "\n",
    "    trancate(h, h_slider)\n",
    "    trancate(s, s_slider)\n",
    "    trancate(v, v_slider)\n",
    "    \n",
    "    final_hsv = cv2.merge((h, s, v))\n",
    "    img = cv2.cvtColor(final_hsv, cv2.COLOR_HSV2BGR)\n",
    "    return bytes(cv2.imencode('.jpg', img)[1])"
   ]
  },
  {
   "cell_type": "code",
   "execution_count": null,
   "metadata": {},
   "outputs": [],
   "source": [
    "camera = Camera2(width=500, height=500)\n",
    "\n",
    "image = widgets.Image(format='jpeg', width=500, height=500)  # this width and height doesn't necessarily have to match the camera\n",
    "\n",
    "camera_link = traitlets.dlink((camera, 'value'), (image, 'value'), transform=bgr8_to_jpeg)\n",
    "\n",
    "display(v_slider)\n",
    "display(s_slider)\n",
    "display(h_slider)\n",
    "display(image)"
   ]
  },
  {
   "cell_type": "code",
   "execution_count": null,
   "metadata": {},
   "outputs": [],
   "source": [
    "camera.unobserve_all()\n",
    "camera.stop()"
   ]
  },
  {
   "cell_type": "markdown",
   "metadata": {},
   "source": [
    "## 通过HLS(HSL)色彩空间调整色相、饱和度、亮度"
   ]
  },
  {
   "cell_type": "code",
   "execution_count": null,
   "metadata": {},
   "outputs": [],
   "source": [
    "h_slider = widgets.IntSlider(value=0,min=-100,max=100, step=1, description=\"Hue\")\n",
    "l_slider = widgets.IntSlider(value=0,min=-180,max=180, step=1, description=\"Lightness\")\n",
    "s_slider = widgets.IntSlider(value=0,min=-100,max=100, step=1, description=\"Saturation\")\n",
    "\n",
    "def bgr8_to_jpeg(value, quality=10):\n",
    "    global v_slider\n",
    "    image = cv2.cvtColor(value, cv2.COLOR_BGR2HLS)\n",
    "    h, l, s = cv2.split(image)\n",
    "\n",
    "    trancate(h, h_slider)\n",
    "    trancate(s, s_slider)\n",
    "    trancate(l, l_slider)\n",
    "    \n",
    "    final_hsl = cv2.merge((h, l, s))\n",
    "    img = cv2.cvtColor(final_hsl, cv2.COLOR_HLS2BGR)\n",
    "    return bytes(cv2.imencode('.jpg', img)[1])"
   ]
  },
  {
   "cell_type": "code",
   "execution_count": null,
   "metadata": {},
   "outputs": [],
   "source": [
    "camera = Camera2(width=500, height=500)\n",
    "\n",
    "image = widgets.Image(format='jpeg', width=500, height=500)  # this width and height doesn't necessarily have to match the camera\n",
    "\n",
    "camera_link = traitlets.dlink((camera, 'value'), (image, 'value'), transform=bgr8_to_jpeg)\n",
    "\n",
    "display(h_slider)\n",
    "display(l_slider)\n",
    "display(s_slider)\n",
    "displayd(image)"
   ]
  },
  {
   "cell_type": "code",
   "execution_count": null,
   "metadata": {},
   "outputs": [],
   "source": [
    "camera.unobserve_all()\n",
    "camera.stop()"
   ]
  }
 ],
 "metadata": {
  "kernelspec": {
   "display_name": "Python 3",
   "language": "python",
   "name": "python3"
  },
  "language_info": {
   "codemirror_mode": {
    "name": "ipython",
    "version": 3
   },
   "file_extension": ".py",
   "mimetype": "text/x-python",
   "name": "python",
   "nbconvert_exporter": "python",
   "pygments_lexer": "ipython3",
   "version": "3.7.4"
  }
 },
 "nbformat": 4,
 "nbformat_minor": 2
}
