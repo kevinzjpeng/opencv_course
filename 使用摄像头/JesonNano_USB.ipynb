{
 "cells": [
  {
   "cell_type": "code",
   "execution_count": 2,
   "metadata": {},
   "outputs": [
    {
     "data": {
      "application/vnd.jupyter.widget-view+json": {
       "model_id": "8c8f8447d802451a9816fd163d4cdbe7",
       "version_major": 2,
       "version_minor": 0
      },
      "text/plain": [
       "FloatSlider(value=1.0, description='Size', max=5.0, min=1.0, step=0.2)"
      ]
     },
     "metadata": {},
     "output_type": "display_data"
    }
   ],
   "source": [
    "import traitlets\n",
    "import ipywidgets\n",
    "import ipywidgets.widgets as widgets\n",
    "from IPython.display import display\n",
    "from traitlets.config.configurable import SingletonConfigurable\n",
    "import numpy as np\n",
    "import enum\n",
    "import cv2\n",
    "import sys\n",
    "sys.path.append('..')\n",
    "from opencv_course.video import Camera\n",
    "\n",
    "size_slider = ipywidgets.FloatSlider(min=1.0, max=5.0, step=0.2, value=1.0, description='Size')\n",
    "\n",
    "def bgr8_to_jpeg(value, quality=10):\n",
    "    global size_slider\n",
    "    size = size_slider.value\n",
    "    (w,h) = value.shape[0:2]\n",
    "    image = value[int(w*(1-1/size)/2):int(w*(1+1/size)/2), int(h*(1-1/size)/2):int(h*(1+1/size)/2)]\n",
    "    \n",
    "    return bytes(cv2.imencode('.jpg', image)[1])\n",
    "\n",
    "display(size_slider)"
   ]
  },
  {
   "cell_type": "markdown",
   "metadata": {},
   "source": [
    "## 测试摄像头支持的分辨率\n",
    "\n",
    "常用的分辨率可以通过在wiki查询，https://en.wikipedia.org/wiki/List_of_common_resolutions<br>\n",
    "如果找到支持的分辨率，则能正常显示图像"
   ]
  },
  {
   "cell_type": "code",
   "execution_count": null,
   "metadata": {},
   "outputs": [
    {
     "name": "stdout",
     "output_type": "stream",
     "text": [
      "Trying resulution (2304, 1536)\n",
      "w:2304.0, h:1536.0, fps:2.0, brightness:191.0, contrast:157.0, zoom:0.0\n",
      "h, w: 1536, 2304\n"
     ]
    },
    {
     "data": {
      "application/vnd.jupyter.widget-view+json": {
       "model_id": "a967efabbf0941edaae54c995addba59",
       "version_major": 2,
       "version_minor": 0
      },
      "text/plain": [
       "Image(value=b'\\xff\\xd8\\xff\\xe0\\x00\\x10JFIF\\x00\\x01\\x01\\x00\\x00\\x01\\x00\\x01\\x00\\x00\\xff\\xdb\\x00C\\x00\\x02\\x01\\x0…"
      ]
     },
     "metadata": {},
     "output_type": "display_data"
    },
    {
     "name": "stdout",
     "output_type": "stream",
     "text": [
      "Trying resulution (1920, 1080)\n",
      "w:2304.0, h:1536.0, fps:2.0, brightness:191.0, contrast:157.0, zoom:0.0\n",
      "h, w: 1080, 1920\n"
     ]
    },
    {
     "data": {
      "application/vnd.jupyter.widget-view+json": {
       "model_id": "05af7815a8e64143b41ffd8ed78eb2ec",
       "version_major": 2,
       "version_minor": 0
      },
      "text/plain": [
       "Image(value=b'\\xff\\xd8\\xff\\xe0\\x00\\x10JFIF\\x00\\x01\\x01\\x00\\x00\\x01\\x00\\x01\\x00\\x00\\xff\\xdb\\x00C\\x00\\x02\\x01\\x0…"
      ]
     },
     "metadata": {},
     "output_type": "display_data"
    },
    {
     "name": "stdout",
     "output_type": "stream",
     "text": [
      "Trying resulution (1280, 720)\n",
      "w:2304.0, h:1536.0, fps:2.0, brightness:191.0, contrast:157.0, zoom:0.0\n",
      "h, w: 720, 1280\n"
     ]
    },
    {
     "data": {
      "application/vnd.jupyter.widget-view+json": {
       "model_id": "e9ea97affea64f4e9cf6fcd640bbedb1",
       "version_major": 2,
       "version_minor": 0
      },
      "text/plain": [
       "Image(value=b'\\xff\\xd8\\xff\\xe0\\x00\\x10JFIF\\x00\\x01\\x01\\x00\\x00\\x01\\x00\\x01\\x00\\x00\\xff\\xdb\\x00C\\x00\\x02\\x01\\x0…"
      ]
     },
     "metadata": {},
     "output_type": "display_data"
    },
    {
     "name": "stdout",
     "output_type": "stream",
     "text": [
      "Trying resulution (1024, 576)\n",
      "w:2304.0, h:1536.0, fps:2.0, brightness:191.0, contrast:157.0, zoom:0.0\n",
      "h, w: 576, 1024\n"
     ]
    },
    {
     "data": {
      "application/vnd.jupyter.widget-view+json": {
       "model_id": "37de5c16a1db442d8d194eeb50f17e63",
       "version_major": 2,
       "version_minor": 0
      },
      "text/plain": [
       "Image(value=b'\\xff\\xd8\\xff\\xe0\\x00\\x10JFIF\\x00\\x01\\x01\\x00\\x00\\x01\\x00\\x01\\x00\\x00\\xff\\xdb\\x00C\\x00\\x02\\x01\\x0…"
      ]
     },
     "metadata": {},
     "output_type": "display_data"
    },
    {
     "name": "stdout",
     "output_type": "stream",
     "text": [
      "Trying resulution (960, 540)\n",
      "w:2304.0, h:1536.0, fps:2.0, brightness:191.0, contrast:157.0, zoom:0.0\n",
      "h, w: 540, 960\n"
     ]
    },
    {
     "data": {
      "application/vnd.jupyter.widget-view+json": {
       "model_id": "9c6ea559b82a4729ad8918cbe4e777fe",
       "version_major": 2,
       "version_minor": 0
      },
      "text/plain": [
       "Image(value=b'\\xff\\xd8\\xff\\xe0\\x00\\x10JFIF\\x00\\x01\\x01\\x00\\x00\\x01\\x00\\x01\\x00\\x00\\xff\\xdb\\x00C\\x00\\x02\\x01\\x0…"
      ]
     },
     "metadata": {},
     "output_type": "display_data"
    },
    {
     "name": "stdout",
     "output_type": "stream",
     "text": [
      "Trying resulution (848, 480)\n",
      "w:2304.0, h:1536.0, fps:2.0, brightness:191.0, contrast:157.0, zoom:0.0\n",
      "h, w: 480, 848\n"
     ]
    },
    {
     "data": {
      "application/vnd.jupyter.widget-view+json": {
       "model_id": "fbb2007454754faebd2a80bfd76cee3f",
       "version_major": 2,
       "version_minor": 0
      },
      "text/plain": [
       "Image(value=b'\\xff\\xd8\\xff\\xe0\\x00\\x10JFIF\\x00\\x01\\x01\\x00\\x00\\x01\\x00\\x01\\x00\\x00\\xff\\xdb\\x00C\\x00\\x02\\x01\\x0…"
      ]
     },
     "metadata": {},
     "output_type": "display_data"
    },
    {
     "name": "stdout",
     "output_type": "stream",
     "text": [
      "Trying resulution (800, 600)\n",
      "w:2304.0, h:1536.0, fps:2.0, brightness:191.0, contrast:157.0, zoom:0.0\n",
      "h, w: 600, 800\n"
     ]
    },
    {
     "data": {
      "application/vnd.jupyter.widget-view+json": {
       "model_id": "f6faebb74bc24e27ad511edd87ace767",
       "version_major": 2,
       "version_minor": 0
      },
      "text/plain": [
       "Image(value=b'\\xff\\xd8\\xff\\xe0\\x00\\x10JFIF\\x00\\x01\\x01\\x00\\x00\\x01\\x00\\x01\\x00\\x00\\xff\\xdb\\x00C\\x00\\x02\\x01\\x0…"
      ]
     },
     "metadata": {},
     "output_type": "display_data"
    },
    {
     "name": "stdout",
     "output_type": "stream",
     "text": [
      "Trying resulution (640, 480)\n",
      "w:2304.0, h:1536.0, fps:2.0, brightness:191.0, contrast:157.0, zoom:0.0\n",
      "h, w: 480, 640\n"
     ]
    },
    {
     "data": {
      "application/vnd.jupyter.widget-view+json": {
       "model_id": "8e947edc43ca41a4b1f5320c1e3ff59c",
       "version_major": 2,
       "version_minor": 0
      },
      "text/plain": [
       "Image(value=b'\\xff\\xd8\\xff\\xe0\\x00\\x10JFIF\\x00\\x01\\x01\\x00\\x00\\x01\\x00\\x01\\x00\\x00\\xff\\xdb\\x00C\\x00\\x02\\x01\\x0…"
      ]
     },
     "metadata": {},
     "output_type": "display_data"
    },
    {
     "name": "stdout",
     "output_type": "stream",
     "text": [
      "Trying resulution (640, 360)\n",
      "w:2304.0, h:1536.0, fps:2.0, brightness:191.0, contrast:157.0, zoom:0.0\n",
      "h, w: 360, 640\n"
     ]
    },
    {
     "data": {
      "application/vnd.jupyter.widget-view+json": {
       "model_id": "137d0034f0d74556b5fc633619be6583",
       "version_major": 2,
       "version_minor": 0
      },
      "text/plain": [
       "Image(value=b'\\xff\\xd8\\xff\\xe0\\x00\\x10JFIF\\x00\\x01\\x01\\x00\\x00\\x01\\x00\\x01\\x00\\x00\\xff\\xdb\\x00C\\x00\\x02\\x01\\x0…"
      ]
     },
     "metadata": {},
     "output_type": "display_data"
    },
    {
     "name": "stdout",
     "output_type": "stream",
     "text": [
      "Trying resulution (320, 240)\n"
     ]
    }
   ],
   "source": [
    "for i in [(2304,1536),\n",
    "            (1920,1080),\n",
    "            (1280,720),\n",
    "            (1024,576),\n",
    "            (960,540),\n",
    "            (848,480),\n",
    "            (800,600),\n",
    "            (640,480),\n",
    "            (640,360),\n",
    "            (320,240),\n",
    "            (160,120)]:\n",
    "    print(\"Trying resulution {}\".format(i))\n",
    "    (w, h) = i\n",
    "    try:\n",
    "        camera = Camera(width=w, height=h, fps=2, is_usb=True)\n",
    "\n",
    "        image = widgets.Image(format='jpeg', width=240, fps=24, height=180)  # this width and height doesn't necessarily have to match the camera\n",
    "\n",
    "        traitlets.dlink((camera, 'value'), (image, 'value'), transform=bgr8_to_jpeg)\n",
    "\n",
    "        display(image)\n",
    "        \n",
    "        camera.unobserve_all()\n",
    "        camera.stop()\n",
    "    except:\n",
    "        print(\"Error {}\".format(i))\n",
    "        pass\n",
    "    "
   ]
  },
  {
   "cell_type": "code",
   "execution_count": null,
   "metadata": {},
   "outputs": [],
   "source": [
    "w=160\n",
    "h=120\n",
    "for i in range(2, 30, 1):\n",
    "    print(\"Trying fps {}\".format(i))\n",
    "    try:\n",
    "        camera = Camera(width=w, height=h, fps=i, is_usb=True)\n",
    "\n",
    "        image = widgets.Image(format='jpeg', width=240, height=180)  # this width and height doesn't necessarily have to match the camera\n",
    "\n",
    "        traitlets.dlink((camera, 'value'), (image, 'value'), transform=bgr8_to_jpeg)\n",
    "\n",
    "        display(image)\n",
    "        \n",
    "        camera.unobserve_all()\n",
    "        camera.stop()\n",
    "    except:\n",
    "        print(\"Error {}\".format(i))\n",
    "        pass"
   ]
  },
  {
   "cell_type": "code",
   "execution_count": null,
   "metadata": {},
   "outputs": [],
   "source": [
    "w = 848\n",
    "h = 480\n",
    "fps =24\n",
    "\n",
    "camera = Camera(width=w, height=h, fps=24, is_usb=True)\n",
    "\n",
    "image = widgets.Image(format='jpeg', width=240, fps=24, height=180)  # this width and height doesn't necessarily have to match the camera\n",
    "\n",
    "traitlets.dlink((camera, 'value'), (image, 'value'), transform=bgr8_to_jpeg)\n",
    "\n",
    "display(image)"
   ]
  },
  {
   "cell_type": "code",
   "execution_count": null,
   "metadata": {},
   "outputs": [],
   "source": [
    "camera.unobserve_all()\n",
    "camera.stop()"
   ]
  },
  {
   "cell_type": "code",
   "execution_count": null,
   "metadata": {},
   "outputs": [],
   "source": []
  }
 ],
 "metadata": {
  "kernelspec": {
   "display_name": "Python 3",
   "language": "python",
   "name": "python3"
  },
  "language_info": {
   "codemirror_mode": {
    "name": "ipython",
    "version": 3
   },
   "file_extension": ".py",
   "mimetype": "text/x-python",
   "name": "python",
   "nbconvert_exporter": "python",
   "pygments_lexer": "ipython3",
   "version": "3.6.8"
  }
 },
 "nbformat": 4,
 "nbformat_minor": 4
}
