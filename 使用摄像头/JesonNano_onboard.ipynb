{
 "cells": [
  {
   "cell_type": "code",
   "execution_count": 1,
   "metadata": {},
   "outputs": [],
   "source": [
    "import traitlets\n",
    "import ipywidgets\n",
    "import ipywidgets.widgets as widgets\n",
    "from IPython.display import display\n",
    "from traitlets.config.configurable import SingletonConfigurable\n",
    "import atexit\n",
    "import threading\n",
    "import numpy as np\n",
    "import enum\n",
    "import cv2\n",
    "import sys\n",
    "sys.path.append('..')\n",
    "from opencv_course.video import Camera\n",
    "\n",
    "def bgr8_to_jpeg(value, quality=10):\n",
    "    return bytes(cv2.imencode('.jpg', value)[1])"
   ]
  },
  {
   "cell_type": "code",
   "execution_count": null,
   "metadata": {},
   "outputs": [],
   "source": [
    "for i in [(3280,2464),\n",
    "            (1920,1080),\n",
    "            (1280,720),\n",
    "            (1024,576),\n",
    "            (960,540),\n",
    "            (848,480),\n",
    "            (800,600),\n",
    "            (640,480),\n",
    "            (640,360),\n",
    "            (320,240),\n",
    "            (160,120)]:\n",
    "    print(\"Trying resulution {}\".format(i))\n",
    "    (w, h) = i\n",
    "    try:\n",
    "        camera = Camera(width=w, height=h, fps=2, is_usb=False)\n",
    "\n",
    "        image = widgets.Image(format='jpeg', width=240, fps=24, height=180)  # this width and height doesn't necessarily have to match the camera\n",
    "\n",
    "        traitlets.dlink((camera, 'value'), (image, 'value'), transform=bgr8_to_jpeg)\n",
    "\n",
    "        display(image)\n",
    "        \n",
    "        camera.unobserve_all()\n",
    "        camera.stop()\n",
    "    except:\n",
    "        print(\"Error {}\".format(i))\n",
    "        pass\n",
    "    "
   ]
  },
  {
   "cell_type": "code",
   "execution_count": null,
   "metadata": {},
   "outputs": [
    {
     "name": "stdout",
     "output_type": "stream",
     "text": [
      "Trying fps 30\n",
      "w:800.0, h:600.0, fps:30.0, brightness:0.0, contrast:0.0, zoom:0.0\n",
      "h, w: 600, 800\n"
     ]
    },
    {
     "data": {
      "application/vnd.jupyter.widget-view+json": {
       "model_id": "2968838beffd4a209a1aad15adc25e61",
       "version_major": 2,
       "version_minor": 0
      },
      "text/plain": [
       "Image(value=b'\\xff\\xd8\\xff\\xe0\\x00\\x10JFIF\\x00\\x01\\x01\\x00\\x00\\x01\\x00\\x01\\x00\\x00\\xff\\xdb\\x00C\\x00\\x02\\x01\\x0…"
      ]
     },
     "metadata": {},
     "output_type": "display_data"
    },
    {
     "name": "stdout",
     "output_type": "stream",
     "text": [
      "Trying fps 31\n",
      "w:800.0, h:600.0, fps:31.0, brightness:0.0, contrast:0.0, zoom:0.0\n",
      "h, w: 600, 800\n"
     ]
    },
    {
     "data": {
      "application/vnd.jupyter.widget-view+json": {
       "model_id": "3291b5a5af1749e980b9a6539ffede09",
       "version_major": 2,
       "version_minor": 0
      },
      "text/plain": [
       "Image(value=b'\\xff\\xd8\\xff\\xe0\\x00\\x10JFIF\\x00\\x01\\x01\\x00\\x00\\x01\\x00\\x01\\x00\\x00\\xff\\xdb\\x00C\\x00\\x02\\x01\\x0…"
      ]
     },
     "metadata": {},
     "output_type": "display_data"
    },
    {
     "name": "stdout",
     "output_type": "stream",
     "text": [
      "Trying fps 32\n",
      "w:800.0, h:600.0, fps:32.0, brightness:0.0, contrast:0.0, zoom:0.0\n",
      "h, w: 600, 800\n"
     ]
    },
    {
     "data": {
      "application/vnd.jupyter.widget-view+json": {
       "model_id": "0502bbedab4945ac9d0718011193c2ab",
       "version_major": 2,
       "version_minor": 0
      },
      "text/plain": [
       "Image(value=b'\\xff\\xd8\\xff\\xe0\\x00\\x10JFIF\\x00\\x01\\x01\\x00\\x00\\x01\\x00\\x01\\x00\\x00\\xff\\xdb\\x00C\\x00\\x02\\x01\\x0…"
      ]
     },
     "metadata": {},
     "output_type": "display_data"
    },
    {
     "name": "stdout",
     "output_type": "stream",
     "text": [
      "Trying fps 33\n"
     ]
    }
   ],
   "source": [
    "w=800\n",
    "h=600\n",
    "for i in range(30, 60, 1):\n",
    "    print(\"Trying fps {}\".format(i))\n",
    "    try:\n",
    "        camera = Camera(width=w, height=h, fps=i, is_usb=False)\n",
    "\n",
    "        image = widgets.Image(format='jpeg', width=240, height=180)  # this width and height doesn't necessarily have to match the camera\n",
    "\n",
    "        traitlets.dlink((camera, 'value'), (image, 'value'), transform=bgr8_to_jpeg)\n",
    "\n",
    "        display(image)\n",
    "        \n",
    "        camera.unobserve_all()\n",
    "        camera.stop()\n",
    "    except:\n",
    "        print(\"Error {}\".format(i))\n",
    "        pass"
   ]
  },
  {
   "cell_type": "code",
   "execution_count": null,
   "metadata": {},
   "outputs": [],
   "source": [
    "camera.stop()"
   ]
  },
  {
   "cell_type": "code",
   "execution_count": null,
   "metadata": {},
   "outputs": [],
   "source": []
  }
 ],
 "metadata": {
  "kernelspec": {
   "display_name": "Python 3",
   "language": "python",
   "name": "python3"
  },
  "language_info": {
   "codemirror_mode": {
    "name": "ipython",
    "version": 3
   },
   "file_extension": ".py",
   "mimetype": "text/x-python",
   "name": "python",
   "nbconvert_exporter": "python",
   "pygments_lexer": "ipython3",
   "version": "3.6.8"
  }
 },
 "nbformat": 4,
 "nbformat_minor": 4
}
