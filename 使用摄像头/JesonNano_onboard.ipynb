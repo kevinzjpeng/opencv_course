{
 "cells": [
  {
   "cell_type": "code",
   "execution_count": 1,
   "metadata": {},
   "outputs": [],
   "source": [
    "import traitlets\n",
    "import ipywidgets\n",
    "import ipywidgets.widgets as widgets\n",
    "from IPython.display import display\n",
    "from traitlets.config.configurable import SingletonConfigurable\n",
    "import atexit\n",
    "import threading\n",
    "import numpy as np\n",
    "import enum\n",
    "import cv2\n",
    "import sys\n",
    "sys.path.append('..')\n",
    "from opencv_course.video import Camera\n",
    "\n",
    "def bgr8_to_jpeg(value, quality=10):\n",
    "    return bytes(cv2.imencode('.jpg', value)[1])"
   ]
  },
  {
   "cell_type": "code",
   "execution_count": 2,
   "metadata": {},
   "outputs": [
    {
     "name": "stdout",
     "output_type": "stream",
     "text": [
      "Trying resulution (3280, 2464)\n",
      "w:3280.0, h:2464.0, fps:2.0, brightness:0.0, contrast:0.0, zoom:0.0\n",
      "h, w: 2464, 3280\n",
      "Error (3280, 2464)\n",
      "Trying resulution (1920, 1080)\n",
      "w:1920.0, h:1080.0, fps:2.0, brightness:0.0, contrast:0.0, zoom:0.0\n",
      "h, w: 1080, 1920\n",
      "Error (1920, 1080)\n",
      "Trying resulution (1280, 720)\n",
      "w:1280.0, h:720.0, fps:2.0, brightness:0.0, contrast:0.0, zoom:0.0\n",
      "h, w: 720, 1280\n",
      "Error (1280, 720)\n",
      "Trying resulution (1024, 576)\n",
      "w:1024.0, h:576.0, fps:2.0, brightness:0.0, contrast:0.0, zoom:0.0\n",
      "h, w: 576, 1024\n",
      "Error (1024, 576)\n",
      "Trying resulution (960, 540)\n",
      "w:960.0, h:540.0, fps:2.0, brightness:0.0, contrast:0.0, zoom:0.0\n",
      "h, w: 540, 960\n",
      "Error (960, 540)\n",
      "Trying resulution (848, 480)\n",
      "w:848.0, h:480.0, fps:2.0, brightness:0.0, contrast:0.0, zoom:0.0\n",
      "h, w: 480, 848\n",
      "Error (848, 480)\n",
      "Trying resulution (800, 600)\n",
      "w:800.0, h:600.0, fps:2.0, brightness:0.0, contrast:0.0, zoom:0.0\n",
      "h, w: 600, 800\n",
      "Error (800, 600)\n",
      "Trying resulution (640, 480)\n",
      "w:640.0, h:480.0, fps:2.0, brightness:0.0, contrast:0.0, zoom:0.0\n",
      "h, w: 480, 640\n",
      "Error (640, 480)\n",
      "Trying resulution (640, 360)\n",
      "w:640.0, h:360.0, fps:2.0, brightness:0.0, contrast:0.0, zoom:0.0\n",
      "h, w: 360, 640\n",
      "Error (640, 360)\n",
      "Trying resulution (320, 240)\n",
      "w:320.0, h:240.0, fps:2.0, brightness:0.0, contrast:0.0, zoom:0.0\n",
      "h, w: 240, 320\n",
      "Error (320, 240)\n",
      "Trying resulution (160, 120)\n",
      "w:0.0, h:0.0, fps:0.0, brightness:0.0, contrast:0.0, zoom:0.0\n",
      "Error (160, 120)\n"
     ]
    }
   ],
   "source": [
    "for i in [(3280,2464),\n",
    "            (1920,1080),\n",
    "            (1280,720),\n",
    "            (1024,576),\n",
    "            (960,540),\n",
    "            (848,480),\n",
    "            (800,600),\n",
    "            (640,480),\n",
    "            (640,360),\n",
    "            (320,240),\n",
    "            (160,120)]:\n",
    "    print(\"Trying resulution {}\".format(i))\n",
    "    (w, h) = i\n",
    "    try:\n",
    "        camera = Camera(width=w, height=h, fps=2, is_usb=False)\n",
    "\n",
    "        image = widgets.Image(format='jpeg', width=240, fps=24, height=180)  # this width and height doesn't necessarily have to match the camera\n",
    "\n",
    "        traitlets.dlink((camera, 'value'), (image, 'value'), transform=bgr8_to_jpeg)\n",
    "\n",
    "        display(image)\n",
    "        \n",
    "        camera.unobserve_all()\n",
    "        camera.stop()\n",
    "    except:\n",
    "        print(\"Error {}\".format(i))\n",
    "        pass\n",
    "    "
   ]
  },
  {
   "cell_type": "code",
   "execution_count": null,
   "metadata": {},
   "outputs": [],
   "source": [
    "w=800\n",
    "h=600\n",
    "for i in range(2, 10, 1):\n",
    "    print(\"Trying fps {}\".format(i))\n",
    "    try:\n",
    "        camera = Camera(width=w, height=h, fps=i, is_usb=False)\n",
    "\n",
    "        image = widgets.Image(format='jpeg', width=240, height=180)  # this width and height doesn't necessarily have to match the camera\n",
    "\n",
    "        traitlets.dlink((camera, 'value'), (image, 'value'), transform=bgr8_to_jpeg)\n",
    "\n",
    "        display(image)\n",
    "        \n",
    "        camera.unobserve_all()\n",
    "        camera.stop()\n",
    "    except:\n",
    "        print(\"Error {}\".format(i))\n",
    "        pass"
   ]
  },
  {
   "cell_type": "code",
   "execution_count": null,
   "metadata": {},
   "outputs": [],
   "source": [
    "camera.stop()"
   ]
  },
  {
   "cell_type": "code",
   "execution_count": null,
   "metadata": {},
   "outputs": [],
   "source": []
  }
 ],
 "metadata": {
  "kernelspec": {
   "display_name": "Python 3",
   "language": "python",
   "name": "python3"
  },
  "language_info": {
   "codemirror_mode": {
    "name": "ipython",
    "version": 3
   },
   "file_extension": ".py",
   "mimetype": "text/x-python",
   "name": "python",
   "nbconvert_exporter": "python",
   "pygments_lexer": "ipython3",
   "version": "3.6.8"
  }
 },
 "nbformat": 4,
 "nbformat_minor": 4
}
