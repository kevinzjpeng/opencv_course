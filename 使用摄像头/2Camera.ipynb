{
 "cells": [
  {
   "cell_type": "code",
   "execution_count": null,
   "metadata": {},
   "outputs": [],
   "source": [
    "import traitlets\n",
    "from traitlets.config.configurable import SingletonConfigurable\n",
    "import numpy as np\n",
    "import cv2\n",
    "import traitlets\n",
    "import ipywidgets\n",
    "import ipywidgets.widgets as widgets\n",
    "from IPython.display import display\n",
    "import sys\n",
    "sys.path.append('..')\n",
    "from opencv_course.video import Camera\n",
    "import matplotlib.pyplot as plt\n",
    "\n",
    "def bgr8_to_jpeg(value, quality=10):\n",
    "    return bytes(cv2.imencode('.jpg', value)[1])\n",
    "\n",
    "size_slider = ipywidgets.FloatSlider(min=1.0, max=5.0, step=0.2, value=1.0, description='Size')\n",
    "\n",
    "def bgr8_to_jpeg2(value, quality=10):\n",
    "    size = size_slider.value\n",
    "    (w,h) = value.shape[0:2]\n",
    "    image = value[int(w*(1-1/size)/2):int(w*(1+1/size)/2), int(h*(1-1/size)/2):int(h*(1+1/size)/2)]\n",
    "    \n",
    "    return bytes(cv2.imencode('.jpg', image)[1])"
   ]
  },
  {
   "cell_type": "code",
   "execution_count": null,
   "metadata": {},
   "outputs": [],
   "source": [
    "camera = Camera(width=320, height=240, is_usb=False)\n",
    "    \n",
    "image = widgets.Image(format='jpeg', width=244, height=162)  # this width and height doesn't necessarily have to match the camera\n",
    "\n",
    "traitlets.dlink((camera, 'value'), (image, 'value'), transform=bgr8_to_jpeg)\n",
    "\n",
    "camera2 = Camera(width=320, height=240, is_usb=True)\n",
    "\n",
    "image2 = widgets.Image(format='jpeg', width=244, height=162)  # this width and height doesn't necessarily have to match the camera\n",
    "\n",
    "traitlets.dlink((camera2, 'value'), (image2, 'value'), transform=bgr8_to_jpeg2)\n",
    "display(size_slider)\n",
    "display(ipywidgets.HBox([image,image2]))"
   ]
  },
  {
   "cell_type": "code",
   "execution_count": null,
   "metadata": {},
   "outputs": [],
   "source": [
    "camera.unobserve_all()\n",
    "camera.stop()\n",
    "\n",
    "camera2.unobserve_all()\n",
    "camera2.stop()"
   ]
  },
  {
   "cell_type": "code",
   "execution_count": null,
   "metadata": {},
   "outputs": [],
   "source": []
  }
 ],
 "metadata": {
  "kernelspec": {
   "display_name": "Python 3",
   "language": "python",
   "name": "python3"
  },
  "language_info": {
   "codemirror_mode": {
    "name": "ipython",
    "version": 3
   },
   "file_extension": ".py",
   "mimetype": "text/x-python",
   "name": "python",
   "nbconvert_exporter": "python",
   "pygments_lexer": "ipython3",
   "version": "3.6.8"
  }
 },
 "nbformat": 4,
 "nbformat_minor": 4
}
