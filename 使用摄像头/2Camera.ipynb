{
 "cells": [
  {
   "cell_type": "code",
   "execution_count": null,
   "metadata": {},
   "outputs": [],
   "source": [
    "import traitlets\n",
    "from traitlets.config.configurable import SingletonConfigurable\n",
    "import atexit\n",
    "import threading\n",
    "import numpy as np\n",
    "import enum\n",
    "import cv2\n",
    "import traitlets\n",
    "import ipywidgets.widgets as widgets\n",
    "from IPython.display import display\n",
    "import sys\n",
    "sys.path.append('.')\n",
    "from video import Camera\n",
    "from video import Camera2\n",
    "\n",
    "def bgr8_to_jpeg(value, quality=10):\n",
    "    return bytes(cv2.imencode('.jpg', value)[1])\n",
    "\n",
    "def bgr8_to_jpeg2(value, quality=10):\n",
    "    return bytes(cv2.imencode('.jpg', value)[1])"
   ]
  },
  {
   "cell_type": "code",
   "execution_count": 2,
   "metadata": {},
   "outputs": [
    {
     "data": {
      "application/vnd.jupyter.widget-view+json": {
       "model_id": "f2cd5d03ada146bca44d7606e69ad051",
       "version_major": 2,
       "version_minor": 0
      },
      "text/plain": [
       "Image(value=b'\\xff\\xd8\\xff\\xe0\\x00\\x10JFIF\\x00\\x01\\x01\\x00\\x00\\x01\\x00\\x01\\x00\\x00\\xff\\xdb\\x00C\\x00\\x02\\x01\\x0…"
      ]
     },
     "metadata": {},
     "output_type": "display_data"
    }
   ],
   "source": [
    "\n",
    "\n",
    "camera = Camera.instance(width=244, height=244)\n",
    "\n",
    "image = widgets.Image(format='jpeg', width=244, height=244)  # this width and height doesn't necessarily have to match the camera\n",
    "\n",
    "traitlets.dlink((camera, 'value'), (image, 'value'), transform=bgr8_to_jpeg)\n",
    "\n",
    "display(image)"
   ]
  },
  {
   "cell_type": "code",
   "execution_count": null,
   "metadata": {},
   "outputs": [],
   "source": [
    "\n",
    "camera2 = Camera2.instance(width=244, height=244)\n",
    "\n",
    "image2 = widgets.Image(format='jpeg', width=244, height=244)  # this width and height doesn't necessarily have to match the camera\n",
    "\n",
    "traitlets.dlink((camera2, 'value'), (image2, 'value'), transform=bgr8_to_jpeg2)\n",
    "\n",
    "display(image2)"
   ]
  },
  {
   "cell_type": "code",
   "execution_count": null,
   "metadata": {},
   "outputs": [],
   "source": [
    "camera.unobserve_all()\n",
    "camera.stop()"
   ]
  },
  {
   "cell_type": "code",
   "execution_count": null,
   "metadata": {},
   "outputs": [],
   "source": []
  }
 ],
 "metadata": {
  "kernelspec": {
   "display_name": "Python 3",
   "language": "python",
   "name": "python3"
  },
  "language_info": {
   "codemirror_mode": {
    "name": "ipython",
    "version": 3
   },
   "file_extension": ".py",
   "mimetype": "text/x-python",
   "name": "python",
   "nbconvert_exporter": "python",
   "pygments_lexer": "ipython3",
   "version": "3.6.8"
  }
 },
 "nbformat": 4,
 "nbformat_minor": 4
}
