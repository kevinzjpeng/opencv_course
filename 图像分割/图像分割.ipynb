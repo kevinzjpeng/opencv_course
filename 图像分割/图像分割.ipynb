{
 "cells": [
  {
   "cell_type": "markdown",
   "metadata": {
    "colab_type": "text",
    "id": "KMdbwOEbeQ0s"
   },
   "source": [
    "# Introduction to Semantic Segmentation"
   ]
  },
  {
   "cell_type": "markdown",
   "metadata": {
    "colab_type": "text",
    "id": "8L-nWlkceQ06"
   },
   "source": [
    "## What is Semantic Segmentation?\n",
    "## 什么是图像区块分割？\n",
    "\n",
    "Semantic Segmentation is an image analysis task in which we classify each pixel in the image into a class. <br/>\n",
    "\n",
    "Similar to what us humans do all the time by default, when are looking then whatever we are seeing if we think of that as an image\n",
    "then we know what class each pixel of the image belongs to.\n",
    "\n",
    "Essentially, Semantic Segmentation is the technique through which we can achieve this in Computers.\n",
    "\n",
    "There are a few more types of Segmentation, you can read about it more here: https://www.learnopencv.com/image-segmentation/\n",
    "This blog will focus on Semantic Segmentation\n",
    "\n",
    "So, let's say we have the following image.\n",
    "\n",
    "![](https://lh3.googleusercontent.com/-ELUnFgFJqUU/XPPXOOmhfMI/AAAAAAAAAP0/2cabsTI9uGUYxM3O3w4EOxjR_iJvEQAvACK8BGAs/s374/index3.png)\n",
    "<small> Source: Pexels </small>\n",
    "\n",
    "And then given the above image its semantically segmentated image would be the following\n",
    "\n",
    "![](https://lh3.googleusercontent.com/-gdUavPeOxdg/XPPXQngAnvI/AAAAAAAAAQA/yoksBterCGQGt-lv3aX4kfyMUDXTar7yACK8BGAs/s374/index4.png)\n",
    "\n",
    "As you can see, that each pixel in the image is classified to its respective class.\n",
    "\n",
    "This is in most simple terms what Semantic Segmentation is."
   ]
  },
  {
   "cell_type": "markdown",
   "metadata": {
    "colab_type": "text",
    "id": "_mQVy39SeQ1B"
   },
   "source": [
    "## Applications of Segmentation\n",
    "\n",
    "\n",
    "The most common use case for the Semantic Segmentation is in:\n",
    "\n",
    "1. **Autonomous Driving**\n",
    "\n",
    "  <img src=\"https://cdn-images-1.medium.com/max/1600/1*JKmS08bllQ8SCajIPyiBBQ.png\" width=\"400\"/> <br/>\n",
    "  <small> Source: CityScapes Dataset </small>\n",
    "  \n",
    "  In autonomous driving, the image which comes in from the camera is semantically segmented, thus each pixel in the image is classified\n",
    "  into a class. This helps the computer understand what is present in the its surroundings and thus helps the car act accordingly.\n",
    "\n",
    "\n",
    "2. **Facial Segmentation**\n",
    "\n",
    "  <img src=\"https://i.ytimg.com/vi/vrvwfFej_r4/maxresdefault.jpg\" width=\"400\"/> <br/>\n",
    "  <small> Source: https://github.com/massimomauro/FASSEG-repository/blob/master/papers/multiclass_face_segmentation_ICIP2015.pdf </small>\n",
    "\n",
    "  Facial Segmentation is used for segmenting each part of the face into a category, like lips, eyes etc. This technique is used for\n",
    "  many purposes such as gender estimation, age estimation, facial expression analysis, emotional analysis and more.\n",
    "  \n",
    "\n",
    "3. **Indoor Object Segmentation**\n",
    "\n",
    "  <img src=\"https://cs.nyu.edu/~silberman/rmrc2014/header_semantic_segmentation.jpg\" width=\"400\"/><br/>\n",
    "  <small> Source: http://buildingparser.stanford.edu/dataset.html </small>\n",
    "\n",
    "  Guess where is this used? In AR (Augmented Reality) and VR (Virtual Reality). AR applications when required segments the entire indoor area to understand where there \n",
    "  are chairs, tables, people, wall, and other obstacles and so on.\n",
    " \n",
    "\n",
    "4. **Geo-Land Sensing**\n",
    "\n",
    "  <img src=\"https://ars.els-cdn.com/content/image/1-s2.0-S0924271616305305-fx1_lrg.jpg\" width=\"400\"/> <br/>\n",
    "  <small> Source: https://www.sciencedirect.com/science/article/pii/S0924271616305305 </small>\n",
    "\n",
    "  Geo Land Sensing is a way of categorizing each pixel in satellite images into a category such that we can track the land cover of each\n",
    "  area. So, say in some area there is a heavy deforestation taking place then appropriate measures can be taken.\n"
   ]
  },
  {
   "cell_type": "markdown",
   "metadata": {
    "colab_type": "text",
    "id": "ZsIngeXleQ1H"
   },
   "source": [
    "## Using torchvision for Semantic Segmentation\n",
    "\n",
    "Now before we get started, we need to know about the inputs and outputs of these semantic segmentation models.<br/>\n",
    "So, let's start!\n",
    "\n",
    "These models expect a 3-channled image which is normalized with the Imagenet mean and standard deviation, i.e., <br/>\n",
    "`mean = [0.485, 0.456, 0.406], std = [0.229, 0.224, 0.225]`\n",
    "\n",
    "So, the input is `[Ni x Ci x Hi x Wi]`<br/>\n",
    "where,\n",
    "- `Ni` -> the batch size\n",
    "- `Ci` -> the number of channels (which is 3)\n",
    "- `Hi` -> the height of the image\n",
    "- `Wi` -> the width of the image\n",
    "\n",
    "And the output of the model is `[No x Co x Ho x Wo]`<br/>\n",
    "where,\n",
    "- `No` -> is the batch size (same as `Ni`)\n",
    "- `Co` -> **is the number of classes that the dataset have!**\n",
    "- `Ho` -> the height of the image (which is the same as `Hi` in almost all cases)\n",
    "- `Wo` -> the width of the image (which is the same as `Wi` in almost all cases)\n",
    "\n",
    "Alright! And just one more thing!\n",
    "The `torchvision` models outputs an `OrderedDict` and not a `torch.Tensor` <br/>\n",
    "And in `.eval()` mode it just has one key `out` and thus to get the output we need to get the value\n",
    "stored in that `key`.\n",
    "\n",
    "The `out` key of this `OrderedDict` is the key that holds the output. <br/>\n",
    "So, this `out` key's value has the shape of `[No x Co x Ho x Wo]`.\n",
    "\n",
    "Now! we are ready to play :)"
   ]
  },
  {
   "cell_type": "markdown",
   "metadata": {
    "colab_type": "text",
    "id": "-r1Pac90eQ1R"
   },
   "source": [
    "### FCN with Resnet-101 backbone"
   ]
  },
  {
   "cell_type": "markdown",
   "metadata": {
    "colab_type": "text",
    "id": "8BNGcmYSUwFM"
   },
   "source": [
    "FCN - Fully Convolutional Netowrks, are among the most early invented Neural Networks for the task of Semantic Segmentation.\n",
    "\n",
    "Let's load one up!"
   ]
  },
  {
   "cell_type": "code",
   "execution_count": 1,
   "metadata": {
    "colab": {},
    "colab_type": "code",
    "id": "jebN_lm9eQ1W"
   },
   "outputs": [
    {
     "ename": "AttributeError",
     "evalue": "module 'torchvision.models' has no attribute 'segmentation'",
     "output_type": "error",
     "traceback": [
      "\u001b[0;31m---------------------------------------------------------------------------\u001b[0m",
      "\u001b[0;31mAttributeError\u001b[0m                            Traceback (most recent call last)",
      "\u001b[0;32m<ipython-input-1-7476d3896e95>\u001b[0m in \u001b[0;36m<module>\u001b[0;34m\u001b[0m\n\u001b[1;32m      1\u001b[0m \u001b[0;32mfrom\u001b[0m \u001b[0mtorchvision\u001b[0m \u001b[0;32mimport\u001b[0m \u001b[0mmodels\u001b[0m\u001b[0;34m\u001b[0m\u001b[0;34m\u001b[0m\u001b[0m\n\u001b[0;32m----> 2\u001b[0;31m \u001b[0mfcn\u001b[0m \u001b[0;34m=\u001b[0m \u001b[0mmodels\u001b[0m\u001b[0;34m.\u001b[0m\u001b[0msegmentation\u001b[0m\u001b[0;34m.\u001b[0m\u001b[0mfcn_resnet101\u001b[0m\u001b[0;34m(\u001b[0m\u001b[0mpretrained\u001b[0m\u001b[0;34m=\u001b[0m\u001b[0;32mTrue\u001b[0m\u001b[0;34m)\u001b[0m\u001b[0;34m.\u001b[0m\u001b[0meval\u001b[0m\u001b[0;34m(\u001b[0m\u001b[0;34m)\u001b[0m\u001b[0;34m\u001b[0m\u001b[0;34m\u001b[0m\u001b[0m\n\u001b[0m",
      "\u001b[0;31mAttributeError\u001b[0m: module 'torchvision.models' has no attribute 'segmentation'"
     ]
    }
   ],
   "source": [
    "from torchvision import models\n",
    "fcn = models.segmentation.fcn_resnet101(pretrained=True).eval()"
   ]
  },
  {
   "cell_type": "markdown",
   "metadata": {
    "colab_type": "text",
    "id": "uUBuc4w1eQ1q"
   },
   "source": [
    "And that's it we have a pretrained model of `FCN` (which stands for Fully Convolutional Neural Networks) with a `Resnet101` backbone :)\n",
    "\n",
    "Now, let's get an image!"
   ]
  },
  {
   "cell_type": "code",
   "execution_count": null,
   "metadata": {
    "colab": {
     "base_uri": "https://localhost:8080/",
     "height": 306
    },
    "colab_type": "code",
    "id": "shnC_YQLeQ1v",
    "outputId": "40cc0dd6-392e-4798-c620-061bcdd6775b"
   },
   "outputs": [],
   "source": [
    "from PIL import Image\n",
    "import matplotlib.pyplot as plt\n",
    "import torch\n",
    "\n",
    "!wget -nv https://www.lovethegarden.com/sites/default/files/content/articles/UK_wildbirds-01-robin.jpg -O bird.png\n",
    "img = Image.open('./bird.png')\n",
    "plt.imshow(img); plt.show()"
   ]
  },
  {
   "cell_type": "markdown",
   "metadata": {
    "colab_type": "text",
    "id": "BhUMhvU4eQ2H"
   },
   "source": [
    "Now, that we have the image we need to preprocess it and normalize it! <br/>\n",
    "So, for the preprocessing steps, we:\n",
    "- Resize the image to `(256 x 256)`\n",
    "- CenterCrop it to `(224 x 224)`\n",
    "- Convert it to Tensor - all the values in the image becomes between `[0, 1]` from `[0, 255]`\n",
    "- Normalize it with the Imagenet specific values `mean = [0.485, 0.456, 0.406], std = [0.229, 0.224, 0.225]`\n",
    "\n",
    "And lastly, we unsqueeze the image so that it becomes `[1 x C x H x W]` from `[C x H x W]` <br/>\n",
    "We need a batch dimension while passing it to the models."
   ]
  },
  {
   "cell_type": "code",
   "execution_count": null,
   "metadata": {
    "colab": {},
    "colab_type": "code",
    "id": "8HUEYeNJeQ2N"
   },
   "outputs": [],
   "source": [
    "# Apply the transformations needed\n",
    "import torchvision.transforms as T\n",
    "trf = T.Compose([T.Resize(256),\n",
    "                 T.CenterCrop(224),\n",
    "                 T.ToTensor(), \n",
    "                 T.Normalize(mean = [0.485, 0.456, 0.406], \n",
    "                             std = [0.229, 0.224, 0.225])])\n",
    "inp = trf(img).unsqueeze(0)"
   ]
  },
  {
   "cell_type": "markdown",
   "metadata": {
    "colab_type": "text",
    "id": "m_YJzUCUeQ2Z"
   },
   "source": [
    "Let's see what the above code cell does </br>\n",
    "`T.Compose` is a function that takes in a `list` in which each element is of `transforms` type and </br>\n",
    "it returns a object through which we can\n",
    "pass batches of images and all the required transforms will be applied to the images.\n",
    "\n",
    "Let's take a look at the transforms applied on the images:\n",
    "- `T.Resize(256)` : Resizes the image to size `256 x 256`\n",
    "- `T.CenterCrop(224)` : Center Crops the image to have a resulting size of `224 x 224`\n",
    "- `T.ToTensor()` : Converts the image to type `torch.Tensor` and have values between `[0, 1]`\n",
    "- `T.Normalize(mean, std)` : Normalizes the image with the given mean and standard deviation.\n",
    "\n",
    "Alright! Now that we have the image all preprocessed and ready! Let's pass it through the model and get the `out` key.<br/>\n",
    "As I said, the output of the model is a `OrderedDict` so, we need to take the `out` key from that to get the output of the model."
   ]
  },
  {
   "cell_type": "code",
   "execution_count": null,
   "metadata": {
    "colab": {
     "base_uri": "https://localhost:8080/",
     "height": 34
    },
    "colab_type": "code",
    "id": "5QDujuCbeQ2h",
    "outputId": "79ffaad7-38b6-469b-cf21-a45877c56384"
   },
   "outputs": [],
   "source": [
    "# Pass the input through the net\n",
    "out = fcn(inp)['out']\n",
    "print (out.shape)"
   ]
  },
  {
   "cell_type": "markdown",
   "metadata": {
    "colab_type": "text",
    "id": "xn3jqtH_eQ27"
   },
   "source": [
    "Alright! So, `out` is the final output of the model. And as we can see, its shape is `[1 x 21 x H x W]` as discussed earlier. So, the model was trained on `21` classes and thus our output have `21` channels!<br/>\n",
    "\n",
    "Now, what we need to do is make this `21` channeled output into a `2D` image or a `1` channeled image, where each pixel of that image corresponds to a class!\n",
    "\n",
    "So, the `2D` image, (of shape `[H x W]`) will have each pixel corresponding to a class label, and thus <br/>\n",
    "for each `(x, y)` in this `2D` image will correspond to a number between `0 - 20` representing a class.\n",
    "\n",
    "And how do we get there from this `[1 x 21 x H x W]`?<br/>\n",
    "We take a max index for each pixel position, which represents the class<br/>"
   ]
  },
  {
   "cell_type": "code",
   "execution_count": null,
   "metadata": {
    "colab": {
     "base_uri": "https://localhost:8080/",
     "height": 51
    },
    "colab_type": "code",
    "id": "FEWJRobBeQ3A",
    "outputId": "a7e56096-cae4-4673-bec8-e4280106a674"
   },
   "outputs": [],
   "source": [
    "import numpy as np\n",
    "om = torch.argmax(out.squeeze(), dim=0).detach().cpu().numpy()\n",
    "print (om.shape)\n",
    "print (np.unique(om))"
   ]
  },
  {
   "cell_type": "markdown",
   "metadata": {
    "colab_type": "text",
    "id": "yrOasC91eQ3X"
   },
   "source": [
    "Alright! So, we as we can see now have a `2D` image. Where each pixel corresponds to a class!\n",
    "The last thing is to take this `2D` image where each pixel corresponds to a class label and convert this<br/>\n",
    "into a segmentation map where each class label is converted into a `RGB` color and thus helping in easy visualization.\n",
    "\n",
    "We will use the following function to convert this `2D` image to an `RGB` image wheree each label is mapped to its\n",
    "corresponding color."
   ]
  },
  {
   "cell_type": "code",
   "execution_count": null,
   "metadata": {
    "colab": {},
    "colab_type": "code",
    "id": "5GA_GNohUHnR"
   },
   "outputs": [],
   "source": [
    "# Define the helper function\n",
    "def decode_segmap(image, nc=21):\n",
    "  \n",
    "    label_colors = np.array([(0, 0, 0),  # 0=background\n",
    "               # 1=aeroplane, 2=bicycle, 3=bird, 4=boat, 5=bottle\n",
    "               (128, 0, 0), (0, 128, 0), (128, 128, 0), (0, 0, 128), (128, 0, 128),\n",
    "               # 6=bus, 7=car, 8=cat, 9=chair, 10=cow\n",
    "               (0, 128, 128), (128, 128, 128), (64, 0, 0), (192, 0, 0), (64, 128, 0),\n",
    "               # 11=dining table, 12=dog, 13=horse, 14=motorbike, 15=person\n",
    "               (192, 128, 0), (64, 0, 128), (192, 0, 128), (64, 128, 128), (192, 128, 128),\n",
    "               # 16=potted plant, 17=sheep, 18=sofa, 19=train, 20=tv/monitor\n",
    "               (0, 64, 0), (128, 64, 0), (0, 192, 0), (128, 192, 0), (0, 64, 128)])\n",
    "\n",
    "    r = np.zeros_like(image).astype(np.uint8)\n",
    "    g = np.zeros_like(image).astype(np.uint8)\n",
    "    b = np.zeros_like(image).astype(np.uint8)\n",
    "\n",
    "    for l in range(0, nc):\n",
    "        idx = image == l\n",
    "        r[idx] = label_colors[l, 0]\n",
    "        g[idx] = label_colors[l, 1]\n",
    "        b[idx] = label_colors[l, 2]\n",
    "\n",
    "    rgb = np.stack([r, g, b], axis=2)\n",
    "    return rgb"
   ]
  },
  {
   "cell_type": "markdown",
   "metadata": {
    "colab_type": "text",
    "id": "jIH1UIVvUJMi"
   },
   "source": [
    "Let's see what we are doing inside this function!\n",
    "\n",
    "first `label_colors` stores the colors for each of the clases, according to the index </br>\n",
    "So, the color for the  first class which is `background` is stored in the `0`th index of the `label_colors` list, \n",
    "the second class which is `aeroplane` is stored at index `1` of `label_colors`.\n",
    "\n",
    "Now, we are to create an `RGB` image from the `2D` image passed. So, what we do, is we create empty `2D` matrices for all 3 channels.\n",
    "\n",
    "So, `r`, `g`, and `b` are arrays which will form the `RGB` channels for the final image. And each are of shape `[H x W]` \n",
    "(which is same as the shape of `image` passed in)\n",
    "\n",
    "Now, we loop over each class color we stored in `label_colors`.\n",
    "And we get the indexes in the image where that particular class label is present. (`idx = image == l`)\n",
    "And then for each channel, we put its corresponding color to those pixels where that class label is present.\n",
    "\n",
    "And finally we stack the 3 seperate channels to form a `RGB` image.\n",
    "\n",
    "Okay! Now, let's use this function to see the final segmented output!"
   ]
  },
  {
   "cell_type": "code",
   "execution_count": null,
   "metadata": {
    "colab": {
     "base_uri": "https://localhost:8080/",
     "height": 269
    },
    "colab_type": "code",
    "id": "02LtJMO_eQ3c",
    "outputId": "7b1c0302-f3cc-4b9b-fe49-45dea213baa4"
   },
   "outputs": [],
   "source": [
    "rgb = decode_segmap(om)\n",
    "\n",
    "img = Image.fromarray(value.copy())\n",
    "inp = trf(img).unsqueeze(0)\n",
    "out = fcn(inp)['out']\n",
    "om = torch.argmax(out.squeeze(), dim=0).detach().cpu().numpy()\n",
    "image = decode_segmap(om)\n",
    "(h, w, r) = value.shape\n",
    "resized = Image.fromarray(value).resize((256,256), Image.ANTIALIAS)\n",
    "corped = cv2.subtract(np.array(resized), 255-image)\n",
    "\n",
    "plt.imshow(rgb); plt.show()"
   ]
  },
  {
   "cell_type": "markdown",
   "metadata": {
    "colab_type": "text",
    "id": "lbXzPQoBeQ3w"
   },
   "source": [
    "And there we go!!<br/>\n",
    "Wooohooo! We have segmented the output of the image. \n",
    "\n",
    "That's the bird!\n",
    "\n",
    "Also, Do note that the image after segmentation is smaller than the original image as in the preprocessing step the image is resized and cropped.\n",
    "\n",
    "Next, let's move all this under one function and play with a few more images!"
   ]
  },
  {
   "cell_type": "code",
   "execution_count": null,
   "metadata": {
    "colab": {},
    "colab_type": "code",
    "id": "_yTvVvX7eQ32"
   },
   "outputs": [],
   "source": [
    "def segment(net, path, show_orig=True, dev='cuda'):\n",
    "  img = Image.open(path)\n",
    "  if show_orig: plt.imshow(img); plt.axis('off'); plt.show()\n",
    "  # Comment the Resize and CenterCrop for better inference results\n",
    "  trf = T.Compose([T.Resize(640), \n",
    "                   #T.CenterCrop(224), \n",
    "                   T.ToTensor(), \n",
    "                   T.Normalize(mean = [0.485, 0.456, 0.406], \n",
    "                               std = [0.229, 0.224, 0.225])])\n",
    "  inp = trf(img).unsqueeze(0).to(dev)\n",
    "  out = net.to(dev)(inp)['out']\n",
    "  om = torch.argmax(out.squeeze(), dim=0).detach().cpu().numpy()\n",
    "  rgb = decode_segmap(om)\n",
    "  plt.imshow(rgb); plt.axis('off'); plt.show()"
   ]
  },
  {
   "cell_type": "markdown",
   "metadata": {
    "colab_type": "text",
    "id": "3hRnbZqbeQ4H"
   },
   "source": [
    "And let's get a new image!"
   ]
  },
  {
   "cell_type": "code",
   "execution_count": null,
   "metadata": {
    "colab": {
     "base_uri": "https://localhost:8080/",
     "height": 558
    },
    "colab_type": "code",
    "id": "wX7_viyieQ4K",
    "outputId": "a08f71b8-69c2-437f-8334-b8b8837bb7c5"
   },
   "outputs": [],
   "source": [
    "!wget -nv https://images.pexels.com/photos/1996333/pexels-photo-1996333.jpeg -O horse.png\n",
    "segment(fcn, './horse.png')"
   ]
  },
  {
   "cell_type": "markdown",
   "metadata": {
    "colab_type": "text",
    "id": "ZLo9m1nOeQ4W"
   },
   "source": [
    "### DeepLabv3"
   ]
  },
  {
   "cell_type": "code",
   "execution_count": null,
   "metadata": {
    "colab": {
     "base_uri": "https://localhost:8080/",
     "height": 71
    },
    "colab_type": "code",
    "id": "m_CLq1ZfeQ4b",
    "outputId": "13cf910e-7bee-406c-bebd-0274e24690df"
   },
   "outputs": [],
   "source": [
    "dlab = models.segmentation.deeplabv3_resnet101(pretrained=1).eval()"
   ]
  },
  {
   "cell_type": "markdown",
   "metadata": {
    "colab_type": "text",
    "id": "SgeogLnLeQ4n"
   },
   "source": [
    "Alright! Now we have god-level segmentation model!<br/>\n",
    "Let's see how we perform with the same image on this model!"
   ]
  },
  {
   "cell_type": "code",
   "execution_count": null,
   "metadata": {
    "colab": {
     "base_uri": "https://localhost:8080/",
     "height": 521
    },
    "colab_type": "code",
    "id": "60vz9GkBeQ4s",
    "outputId": "03c23cf8-20c7-40db-b499-7811b88ac8ca"
   },
   "outputs": [],
   "source": [
    "segment(dlab, './horse.png')"
   ]
  },
  {
   "cell_type": "markdown",
   "metadata": {
    "colab_type": "text",
    "id": "QQPgPR07euk6"
   },
   "source": [
    "Yeah! So, there you go! You can see that, the DeepLab model has also classified the image quite nicely! </br>\n",
    "But if we take a more complex image! Then we start to see model differences! \n",
    "\n",
    "Note: As we saw before the output image size is smaller than the original image as the original image is resized and cropped in the preprocessing step.\n",
    "\n",
    "Let's try that out!"
   ]
  },
  {
   "cell_type": "code",
   "execution_count": null,
   "metadata": {
    "colab": {
     "base_uri": "https://localhost:8080/",
     "height": 844
    },
    "colab_type": "code",
    "id": "NIVWe_asNECq",
    "outputId": "e08021b6-d05f-414a-d1da-76e8207b355c"
   },
   "outputs": [],
   "source": [
    "!wget -nv \"https://images.pexels.com/photos/1485799/pexels-photo-1485799.jpeg\" -O person.png\n",
    "img = Image.open('./person.png')\n",
    "plt.imshow(img); plt.show()\n",
    "\n",
    "print ('Segmenatation Image on FCN')\n",
    "segment(fcn, path='./person.png', show_orig=False)\n",
    "\n",
    "print ('Segmenatation Image on DeepLabv3')\n",
    "segment(dlab, path='./person.png', show_orig=False)"
   ]
  },
  {
   "cell_type": "markdown",
   "metadata": {
    "colab_type": "text",
    "id": "xnE4pUeWQEAy"
   },
   "source": [
    "Okay! You can now see the model differences right?\n",
    "\n",
    "You can see how FCN fails to capture the continuity of the leg of the cow while DeepLabv3 is able to capture that!\n",
    "\n",
    "Also, if we look closer into the hand of the human which is on the cow, we can see that the FCN model captures it nicely, not very nicely, but still, while the DeepLabv3 model has captured it too but not that well!\n",
    "\n",
    "These are a few model differences that be noticed with bare eyes!\n",
    "\n",
    "Note: As we saw before the output image size is smaller than the original image as the original image is resized and cropped in the preprocessing step.\n",
    "\n",
    "Do play around with a few more images to see how these models perform in different scenarios.!"
   ]
  },
  {
   "cell_type": "markdown",
   "metadata": {
    "colab_type": "text",
    "id": "CGTDWjkmVfqU"
   },
   "source": [
    "## Comparision\n",
    "\n",
    "For, now we will see how these two models compare with each other in 3 metrics\n",
    "- Inference time\n",
    "- Size of the model\n",
    "- GPU memory used by the model"
   ]
  },
  {
   "cell_type": "markdown",
   "metadata": {
    "colab_type": "text",
    "id": "CMn5yZJzg0Kw"
   },
   "source": [
    "### Inference Time"
   ]
  },
  {
   "cell_type": "code",
   "execution_count": null,
   "metadata": {
    "colab": {},
    "colab_type": "code",
    "id": "4fWw69Gk69Ri"
   },
   "outputs": [],
   "source": [
    "import time\n",
    "\n",
    "def infer_time(net, path='./r.png', dev='cuda'):\n",
    "  img = Image.open(path)\n",
    "  trf = T.Compose([T.Resize(256), \n",
    "                   T.CenterCrop(224), \n",
    "                   T.ToTensor(), \n",
    "                   T.Normalize(mean = [0.485, 0.456, 0.406], \n",
    "                               std = [0.229, 0.224, 0.225])])\n",
    "  \n",
    "  inp = trf(img).unsqueeze(0).to(dev)\n",
    "  \n",
    "  st = time.time()\n",
    "  out1 = net.to(dev)(inp)\n",
    "  et = time.time()\n",
    "  \n",
    "  return et - st"
   ]
  },
  {
   "cell_type": "markdown",
   "metadata": {
    "colab_type": "text",
    "id": "uxgc2DpH8NvQ"
   },
   "source": [
    "**On CPU**"
   ]
  },
  {
   "cell_type": "code",
   "execution_count": null,
   "metadata": {
    "colab": {
     "base_uri": "https://localhost:8080/",
     "height": 355
    },
    "colab_type": "code",
    "id": "yRzxN3J0hApt",
    "outputId": "23d0b2ac-7bad-4e9c-ccb1-2e19f62ca411"
   },
   "outputs": [],
   "source": [
    "avg_over = 100\n",
    "\n",
    "fcn_infer_time_list_cpu = [infer_time(fcn, dev='cpu') for _ in range(avg_over)]\n",
    "fcn_infer_time_avg_cpu = sum(fcn_infer_time_list_cpu) / avg_over\n",
    "\n",
    "dlab_infer_time_list_cpu = [infer_time(dlab, dev='cpu') for _ in range(avg_over)]\n",
    "dlab_infer_time_avg_cpu = sum(dlab_infer_time_list_cpu) / avg_over\n",
    "\n",
    "\n",
    "print ('Inference time for first few calls for FCN      : {}'.format(fcn_infer_time_list_cpu[:10]))\n",
    "print ('Inference time for first few calls for DeepLabv3: {}'.format(dlab_infer_time_list_cpu[:10]))\n",
    "\n",
    "print ('The Average Inference time on FCN is:     {:.2f}s'.format(fcn_infer_time_avg_cpu))\n",
    "print ('The Average Inference time on DeepLab is: {:.2f}s'.format(dlab_infer_time_avg_cpu))"
   ]
  },
  {
   "cell_type": "markdown",
   "metadata": {
    "colab_type": "text",
    "id": "a2jCxTlphsYE"
   },
   "source": [
    "**On GPU**"
   ]
  },
  {
   "cell_type": "code",
   "execution_count": null,
   "metadata": {
    "colab": {
     "base_uri": "https://localhost:8080/",
     "height": 379
    },
    "colab_type": "code",
    "id": "sCpPUr8ViFB9",
    "outputId": "08d6a19f-1df2-48f7-e2b8-21d468169c00"
   },
   "outputs": [],
   "source": [
    "avg_over = 100\n",
    "\n",
    "fcn_infer_time_list_gpu = [infer_time(fcn) for _ in range(avg_over)]\n",
    "fcn_infer_time_avg_gpu = sum(fcn_infer_time_list_gpu) / avg_over\n",
    "\n",
    "dlab_infer_time_list_gpu = [infer_time(dlab) for _ in range(avg_over)]\n",
    "dlab_infer_time_avg_gpu = sum(dlab_infer_time_list_gpu) / avg_over\n",
    "\n",
    "print ('Inference time for first few calls for FCN      : {}'.format(fcn_infer_time_list_gpu[:10]))\n",
    "print ('Inference time for first few calls for DeepLabv3: {}'.format(dlab_infer_time_list_gpu[:10]))\n",
    "\n",
    "print ('The Average Inference time on FCN is:     {:.3f}s'.format(fcn_infer_time_avg_gpu))\n",
    "print ('The Average Inference time on DeepLab is: {:.3f}s'.format(dlab_infer_time_avg_gpu))"
   ]
  },
  {
   "cell_type": "markdown",
   "metadata": {
    "colab_type": "text",
    "id": "fwvhXNJ4iL97"
   },
   "source": [
    "\n",
    "We can see that in both cases (for GPU and CPU) its taking longer for the DeepLabv3 model, as its a much deeper model as compared to FCN.\n",
    "\n",
    "Also, we have printed out the first few inference times for each model. Something we can notice is that the inference time for the first call\n",
    "takes quite long than the others . This is because after the 1st call a lot of the calculations required are cached and thus its faster for the next calls.\n",
    "\n",
    "Nice! Now, let's try to vizualize the difference in the time taken for the CPU and the GPU."
   ]
  },
  {
   "cell_type": "code",
   "execution_count": null,
   "metadata": {
    "colab": {
     "base_uri": "https://localhost:8080/",
     "height": 281
    },
    "colab_type": "code",
    "id": "Y3dfTtJ79dqa",
    "outputId": "856302e1-ba60-4037-c2b4-0539fef289e3"
   },
   "outputs": [],
   "source": [
    "plt.bar([0.1, 0.2], [fcn_infer_time_avg_cpu, dlab_infer_time_avg_cpu], width=0.08)\n",
    "plt.ylabel('Time taken in Seconds')\n",
    "plt.xticks([0.1, 0.2], ['FCN', 'DeepLabv3'])\n",
    "plt.title('Inference time of FCN and DeepLabv3 on CPU')\n",
    "plt.show()"
   ]
  },
  {
   "cell_type": "code",
   "execution_count": null,
   "metadata": {
    "colab": {
     "base_uri": "https://localhost:8080/",
     "height": 281
    },
    "colab_type": "code",
    "id": "SKBxG76tJdSo",
    "outputId": "4cc0b69d-1333-466d-ecdd-144fddd9ca3a"
   },
   "outputs": [],
   "source": [
    "plt.bar([0.1, 0.2], [fcn_infer_time_avg_gpu, dlab_infer_time_avg_gpu], width=0.08)\n",
    "plt.ylabel('Time taken in Seconds')\n",
    "plt.xticks([0.1, 0.2], ['FCN', 'DeepLabv3'])\n",
    "plt.title('Inference time of FCN and DeepLabv3 on GPU')\n",
    "plt.show()"
   ]
  },
  {
   "cell_type": "markdown",
   "metadata": {
    "colab_type": "text",
    "id": "s_eeF-rcKNpc"
   },
   "source": [
    "Okay! Now, let's move on to the next comparison, where we will compare the model sizes for both the models."
   ]
  },
  {
   "cell_type": "markdown",
   "metadata": {
    "colab_type": "text",
    "id": "0c7V8R_Xip5h"
   },
   "source": [
    "### Model Size"
   ]
  },
  {
   "cell_type": "code",
   "execution_count": null,
   "metadata": {
    "colab": {
     "base_uri": "https://localhost:8080/",
     "height": 56
    },
    "colab_type": "code",
    "id": "ZhVyFg_4pQu4",
    "outputId": "d76c582f-7b8b-403b-eb9a-48f7b5cc28cc"
   },
   "outputs": [],
   "source": [
    "import os\n",
    "\n",
    "resnet101_size = os.path.getsize('/root/.cache/torch/checkpoints/resnet101-5d3b4d8f.pth')\n",
    "fcn_size = os.path.getsize('/root/.cache/torch/checkpoints/fcn_resnet101_coco-7ecb50ca.pth')\n",
    "dlab_size = os.path.getsize('/root/.cache/torch/checkpoints/deeplabv3_resnet101_coco-586e9e4e.pth')\n",
    "\n",
    "fcn_total = fcn_size + resnet101_size\n",
    "dlab_total = dlab_size + resnet101_size\n",
    "    \n",
    "print ('Size of the FCN model with Resnet101 backbone is:       {:.2f} MB'.format(fcn_total /  (1024 * 1024)))\n",
    "print ('Size of the DeepLabv3 model with Resnet101 backbone is: {:.2f} MB'.format(dlab_total / (1024 * 1024)))"
   ]
  },
  {
   "cell_type": "code",
   "execution_count": null,
   "metadata": {
    "colab": {
     "base_uri": "https://localhost:8080/",
     "height": 281
    },
    "colab_type": "code",
    "id": "dwbeey11652y",
    "outputId": "53f0aa24-3533-4bc9-97bb-dd2c04ca76b6"
   },
   "outputs": [],
   "source": [
    "plt.bar([0, 1], [fcn_total / (1024 * 1024), dlab_total / (1024 * 1024)])\n",
    "plt.ylabel('Size of the model in MegaBytes')\n",
    "plt.xticks([0, 1], ['FCN', 'DeepLabv3'])\n",
    "plt.title('Comparison of the model size of FCN and DeepLabv3')\n",
    "plt.show()"
   ]
  },
  {
   "cell_type": "markdown",
   "metadata": {
    "colab_type": "text",
    "id": "LdRkeAP0tU9d"
   },
   "source": [
    "## Conclusion"
   ]
  },
  {
   "cell_type": "markdown",
   "metadata": {
    "colab_type": "text",
    "id": "2AB5w01teQ4-"
   },
   "source": [
    "Hope you enjoyed this tutorial!\n",
    "\n",
    "Feel free to leave comments and any feedback you wish! If you would like to learn<br/>\n",
    "more about this, how these techniques work and how to implement these models!\n",
    "\n",
    "Please do check out the `Deep Learning with PyTorch` Course from OpenCV.org! <br/>\n",
    "Link: https://opencv.org/ai-courses-by-opencv-kickstarter-campaign/"
   ]
  },
  {
   "cell_type": "code",
   "execution_count": null,
   "metadata": {
    "colab": {},
    "colab_type": "code",
    "id": "ZxtABliMeQ5A"
   },
   "outputs": [],
   "source": []
  }
 ],
 "metadata": {
  "accelerator": "GPU",
  "colab": {
   "name": "intro-seg.ipynb",
   "provenance": [],
   "toc_visible": true,
   "version": "0.3.2"
  },
  "kernelspec": {
   "display_name": "Python 3",
   "language": "python",
   "name": "python3"
  },
  "language_info": {
   "codemirror_mode": {
    "name": "ipython",
    "version": 3
   },
   "file_extension": ".py",
   "mimetype": "text/x-python",
   "name": "python",
   "nbconvert_exporter": "python",
   "pygments_lexer": "ipython3",
   "version": "3.6.8"
  }
 },
 "nbformat": 4,
 "nbformat_minor": 1
}
