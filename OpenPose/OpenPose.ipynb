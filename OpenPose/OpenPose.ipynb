{
 "cells": [
  {
   "cell_type": "code",
   "execution_count": 1,
   "metadata": {},
   "outputs": [],
   "source": [
    "import cv2\n",
    "import numpy as np\n",
    "import sys\n",
    "sys.path.append('..')\n",
    "from opencv_course.video import Camera\n",
    "\n",
    "# This script is used to demonstrate OpenPose human pose estimation network \n",
    "# from https://github.com/CMU-Perceptual-Computing-Lab/openpose project using OpenCV. \n",
    "# The sample and model are simplified and could be used for a single person on the frame."
   ]
  },
  {
   "cell_type": "markdown",
   "metadata": {},
   "source": [
    "- [BODY_25 model](http://posefs1.perception.cs.cmu.edu/OpenPose/models/pose/body_25/pose_iter_584000.caffemodel): download in `models/pose/body_25/`.\n",
    "- [COCO model](http://posefs1.perception.cs.cmu.edu/OpenPose/models/pose/coco/pose_iter_440000.caffemodel): download in `models/pose/coco/`.\n",
    "- [MPI model](http://posefs1.perception.cs.cmu.edu/OpenPose/models/pose/mpi/pose_iter_160000.caffemodel): download in `models/pose/mpi/`.\n",
    "- [Face model](http://posefs1.perception.cs.cmu.edu/OpenPose/models/face/pose_iter_116000.caffemodel): download in `models/face/`.\n",
    "- [Hands model](http://posefs1.perception.cs.cmu.edu/OpenPose/models/hand/pose_iter_102000.caffemodel): download in `models/hand/`."
   ]
  },
  {
   "cell_type": "code",
   "execution_count": 2,
   "metadata": {},
   "outputs": [],
   "source": [
    "# COCO model(18 parts)\n",
    "![ ! -f pose_iter_440000.caffemodel ] && wget http://posefs1.perception.cs.cmu.edu/OpenPose/models/pose/coco/pose_iter_440000.caffemodel\n",
    "![ ! -f openpose_pose_coco.prototxt ] && wget https://raw.githubusercontent.com/opencv/opencv_extra/master/testdata/dnn/openpose_pose_coco.prototxt\n",
    "\n",
    "!rm -f model.caffemodel\n",
    "!rm -f proto.prototxt\n",
    "!ln -s pose_iter_440000.caffemodel model.caffemodel \n",
    "!ln -s openpose_pose_coco.prototxt proto.prototxt"
   ]
  },
  {
   "cell_type": "code",
   "execution_count": 3,
   "metadata": {},
   "outputs": [
    {
     "name": "stdout",
     "output_type": "stream",
     "text": [
      "--2019-08-11 20:00:16--  http://osefs1.perception.cs.cmu.edu/OpenPose/models/pose/mpi/pose_iter_160000.caffemodel\n",
      "正在解析主机 osefs1.perception.cs.cmu.edu (osefs1.perception.cs.cmu.edu)... 失败：nodename nor servname provided, or not known。\n",
      "wget: 无法解析主机地址 “osefs1.perception.cs.cmu.edu”\n",
      "--2019-08-11 20:00:17--  https://raw.githubusercontent.com/opencv/opencv_extra/master/testdata/dnn/openpose_pose_mpi_faster_4_stages.prototxt\n",
      "正在解析主机 raw.githubusercontent.com (raw.githubusercontent.com)... 151.101.108.133\n",
      "正在连接 raw.githubusercontent.com (raw.githubusercontent.com)|151.101.108.133|:443... 已连接。\n",
      "已发出 HTTP 请求，正在等待回应... 200 OK\n",
      "长度：32813 (32K) [text/plain]\n",
      "正在保存至: “openpose_pose_mpi_faster_4_stages.prototxt.3”\n",
      "\n",
      "openpose_pose_mpi_f 100%[===================>]  32.04K  --.-KB/s  用时 0.1s      \n",
      "\n",
      "2019-08-11 20:00:17 (298 KB/s) - 已保存 “openpose_pose_mpi_faster_4_stages.prototxt.3” [32813/32813])\n",
      "\n"
     ]
    }
   ],
   "source": [
    "# MPI model(16 parts)\n",
    "!wget http://osefs1.perception.cs.cmu.edu/OpenPose/models/pose/mpi/pose_iter_160000.caffemodel\n",
    "!wget https://raw.githubusercontent.com/opencv/opencv_extra/master/testdata/dnn/openpose_pose_mpi_faster_4_stages.prototxt"
   ]
  },
  {
   "cell_type": "code",
   "execution_count": 9,
   "metadata": {},
   "outputs": [
    {
     "name": "stdout",
     "output_type": "stream",
     "text": [
      "--2019-08-11 20:11:30--  http://posefs1.perception.cs.cmu.edu/OpenPose/models/hand/pose_iter_102000.caffemodel\n",
      "正在解析主机 posefs1.perception.cs.cmu.edu (posefs1.perception.cs.cmu.edu)... 128.2.176.37\n",
      "正在连接 posefs1.perception.cs.cmu.edu (posefs1.perception.cs.cmu.edu)|128.2.176.37|:80... 已连接。\n",
      "已发出 HTTP 请求，正在等待回应... 200 OK\n",
      "长度：147344024 (141M) [text/plain]\n",
      "正在保存至: “pose_iter_102000.caffemodel.1”\n",
      "\n",
      "             pose_i   0%[                    ] 746.20K  9.61KB/s  剩余 3h 18m    ^C\n",
      "--2019-08-11 20:12:34--  https://raw.githubusercontent.com/CMU-Perceptual-Computing-Lab/openpose/master/models/hand/pose_deploy.prototxt\n",
      "正在解析主机 raw.githubusercontent.com (raw.githubusercontent.com)... 151.101.108.133\n",
      "正在连接 raw.githubusercontent.com (raw.githubusercontent.com)|151.101.108.133|:443... 已连接。\n",
      "已发出 HTTP 请求，正在等待回应... 200 OK\n",
      "长度：26452 (26K) [text/plain]\n",
      "正在保存至: “pose_deploy.prototxt.2”\n",
      "\n",
      "pose_deploy.prototx 100%[===================>]  25.83K  --.-KB/s  用时 0.1s      \n",
      "\n",
      "2019-08-11 20:12:35 (235 KB/s) - 已保存 “pose_deploy.prototxt.2” [26452/26452])\n",
      "\n"
     ]
    }
   ],
   "source": [
    "# to simplify this sample, the body models are restricted to a single person.\n",
    "# the hand pose model\n",
    "!wget http://posefs1.perception.cs.cmu.edu/OpenPose/models/hand/pose_iter_102000.caffemodel\n",
    "!wget https://raw.githubusercontent.com/CMU-Perceptual-Computing-Lab/openpose/master/models/hand/pose_deploy.prototxt\n",
    "!rm -f model.caffemodel\n",
    "!rm -f proto.prototxt\n",
    "!ln -s pose_iter_102000.caffemodel model.caffemodel \n",
    "!ln -s pose_deploy.prototxt proto.prototxt"
   ]
  },
  {
   "cell_type": "code",
   "execution_count": 2,
   "metadata": {},
   "outputs": [],
   "source": [
    "  \n",
    "proto = 'proto.prototxt'\n",
    "model = 'model.caffemodel'\n",
    "\n",
    "# Specify what kind of model was trained. \n",
    "# It could be (COCO, MPI, HAND) depends on dataset.\n",
    "dataset = 'COCO'\n",
    "\n",
    "#Threshold value for pose parts heat map\n",
    "thr = 0.1\n",
    "\n",
    "#Resize input to specific width.\n",
    "width = 368\n",
    "\n",
    "#Resize input to specific height.\n",
    "height = 368\n",
    "\n",
    "#Scale for blob\n",
    "scale= 0.003922"
   ]
  },
  {
   "cell_type": "code",
   "execution_count": 3,
   "metadata": {},
   "outputs": [],
   "source": [
    "if dataset == 'COCO':\n",
    "    BODY_PARTS = { \"Nose\": 0, \"Neck\": 1, \"RShoulder\": 2, \"RElbow\": 3, \"RWrist\": 4,\n",
    "                   \"LShoulder\": 5, \"LElbow\": 6, \"LWrist\": 7, \"RHip\": 8, \"RKnee\": 9,\n",
    "                   \"RAnkle\": 10, \"LHip\": 11, \"LKnee\": 12, \"LAnkle\": 13, \"REye\": 14,\n",
    "                   \"LEye\": 15, \"REar\": 16, \"LEar\": 17, \"Background\": 18 }\n",
    "\n",
    "    POSE_PAIRS = [ [\"Neck\", \"RShoulder\"], [\"Neck\", \"LShoulder\"], [\"RShoulder\", \"RElbow\"],\n",
    "                   [\"RElbow\", \"RWrist\"], [\"LShoulder\", \"LElbow\"], [\"LElbow\", \"LWrist\"],\n",
    "                   [\"Neck\", \"RHip\"], [\"RHip\", \"RKnee\"], [\"RKnee\", \"RAnkle\"], [\"Neck\", \"LHip\"],\n",
    "                   [\"LHip\", \"LKnee\"], [\"LKnee\", \"LAnkle\"], [\"Neck\", \"Nose\"], [\"Nose\", \"REye\"],\n",
    "                   [\"REye\", \"REar\"], [\"Nose\", \"LEye\"], [\"LEye\", \"LEar\"] ]\n",
    "elif dataset == 'MPI':\n",
    "    BODY_PARTS = { \"Head\": 0, \"Neck\": 1, \"RShoulder\": 2, \"RElbow\": 3, \"RWrist\": 4,\n",
    "                   \"LShoulder\": 5, \"LElbow\": 6, \"LWrist\": 7, \"RHip\": 8, \"RKnee\": 9,\n",
    "                   \"RAnkle\": 10, \"LHip\": 11, \"LKnee\": 12, \"LAnkle\": 13, \"Chest\": 14,\n",
    "                   \"Background\": 15 }\n",
    "\n",
    "    POSE_PAIRS = [ [\"Head\", \"Neck\"], [\"Neck\", \"RShoulder\"], [\"RShoulder\", \"RElbow\"],\n",
    "                   [\"RElbow\", \"RWrist\"], [\"Neck\", \"LShoulder\"], [\"LShoulder\", \"LElbow\"],\n",
    "                   [\"LElbow\", \"LWrist\"], [\"Neck\", \"Chest\"], [\"Chest\", \"RHip\"], [\"RHip\", \"RKnee\"],\n",
    "                   [\"RKnee\", \"RAnkle\"], [\"Chest\", \"LHip\"], [\"LHip\", \"LKnee\"], [\"LKnee\", \"LAnkle\"] ]\n",
    "else:\n",
    "    assert(dataset == 'HAND')\n",
    "    BODY_PARTS = { \"Wrist\": 0,\n",
    "                   \"ThumbMetacarpal\": 1, \"ThumbProximal\": 2, \"ThumbMiddle\": 3, \"ThumbDistal\": 4,\n",
    "                   \"IndexFingerMetacarpal\": 5, \"IndexFingerProximal\": 6, \"IndexFingerMiddle\": 7, \"IndexFingerDistal\": 8,\n",
    "                   \"MiddleFingerMetacarpal\": 9, \"MiddleFingerProximal\": 10, \"MiddleFingerMiddle\": 11, \"MiddleFingerDistal\": 12,\n",
    "                   \"RingFingerMetacarpal\": 13, \"RingFingerProximal\": 14, \"RingFingerMiddle\": 15, \"RingFingerDistal\": 16,\n",
    "                   \"LittleFingerMetacarpal\": 17, \"LittleFingerProximal\": 18, \"LittleFingerMiddle\": 19, \"LittleFingerDistal\": 20,\n",
    "                 }\n",
    "\n",
    "    POSE_PAIRS = [ [\"Wrist\", \"ThumbMetacarpal\"], [\"ThumbMetacarpal\", \"ThumbProximal\"],\n",
    "                   [\"ThumbProximal\", \"ThumbMiddle\"], [\"ThumbMiddle\", \"ThumbDistal\"],\n",
    "                   [\"Wrist\", \"IndexFingerMetacarpal\"], [\"IndexFingerMetacarpal\", \"IndexFingerProximal\"],\n",
    "                   [\"IndexFingerProximal\", \"IndexFingerMiddle\"], [\"IndexFingerMiddle\", \"IndexFingerDistal\"],\n",
    "                   [\"Wrist\", \"MiddleFingerMetacarpal\"], [\"MiddleFingerMetacarpal\", \"MiddleFingerProximal\"],\n",
    "                   [\"MiddleFingerProximal\", \"MiddleFingerMiddle\"], [\"MiddleFingerMiddle\", \"MiddleFingerDistal\"],\n",
    "                   [\"Wrist\", \"RingFingerMetacarpal\"], [\"RingFingerMetacarpal\", \"RingFingerProximal\"],\n",
    "                   [\"RingFingerProximal\", \"RingFingerMiddle\"], [\"RingFingerMiddle\", \"RingFingerDistal\"],\n",
    "                   [\"Wrist\", \"LittleFingerMetacarpal\"], [\"LittleFingerMetacarpal\", \"LittleFingerProximal\"],\n",
    "                   [\"LittleFingerProximal\", \"LittleFingerMiddle\"], [\"LittleFingerMiddle\", \"LittleFingerDistal\"] ]"
   ]
  },
  {
   "cell_type": "code",
   "execution_count": 7,
   "metadata": {},
   "outputs": [],
   "source": [
    "def bgr8_to_jpeg(value, quality=10):\n",
    "    frameWidth = value.shape[1]\n",
    "    frameHeight = value.shape[0]\n",
    "    inp = cv2.dnn.blobFromImage(value, scale, (width, height), (0, 0, 0), swapRB=False, crop=False)\n",
    "    \n",
    "    net.setInput(inp)\n",
    "    out = net.forward()\n",
    "\n",
    "    assert(len(BODY_PARTS) <= out.shape[1])\n",
    "\n",
    "    points = []\n",
    "    for i in range(len(BODY_PARTS)):\n",
    "        # Slice heatmap of corresponging body's part.\n",
    "        heatMap = out[0, i, :, :]\n",
    "\n",
    "        # Originally, we try to find all the local maximums. To simplify a sample\n",
    "        # we just find a global one. However only a single pose at the same time\n",
    "        # could be detected this way.\n",
    "        _, conf, _, point = cv2.minMaxLoc(heatMap)\n",
    "        x = (frameWidth * point[0]) / out.shape[3]\n",
    "        y = (frameHeight * point[1]) / out.shape[2]\n",
    "\n",
    "        # Add a point if it's confidence is higher than threshold.\n",
    "        points.append((int(x), int(y)) if conf > thr else None)\n",
    "\n",
    "    for pair in POSE_PAIRS:\n",
    "        partFrom = pair[0]\n",
    "        partTo = pair[1]\n",
    "        assert(partFrom in BODY_PARTS)\n",
    "        assert(partTo in BODY_PARTS)\n",
    "\n",
    "        idFrom = BODY_PARTS[partFrom]\n",
    "        idTo = BODY_PARTS[partTo]\n",
    "\n",
    "        if points[idFrom] and points[idTo]:\n",
    "            cv2.line(value, points[idFrom], points[idTo], (0, 255, 0), 3)\n",
    "            cv2.ellipse(value, points[idFrom], (3, 3), 0, 0, 360, (0, 0, 255), cv2.FILLED)\n",
    "            cv2.ellipse(value, points[idTo], (3, 3), 0, 0, 360, (0, 0, 255), cv2.FILLED)\n",
    "\n",
    "    t, _ = net.getPerfProfile()\n",
    "    freq = cv2.getTickFrequency() / 1000\n",
    "    cv2.putText(value, '%.2fms' % (t / freq), (10, 20), cv2.FONT_HERSHEY_SIMPLEX, 2, (255, 255, 255))\n",
    "    \n",
    "    return bytes(cv2.imencode('.jpg', value)[1])\n"
   ]
  },
  {
   "cell_type": "code",
   "execution_count": 8,
   "metadata": {},
   "outputs": [
    {
     "data": {
      "application/vnd.jupyter.widget-view+json": {
       "model_id": "cdfcbfef41b54c4f85d58dc81ab21383",
       "version_major": 2,
       "version_minor": 0
      },
      "text/plain": [
       "Image(value=b'\\xff\\xd8\\xff\\xe0\\x00\\x10JFIF\\x00\\x01\\x01\\x00\\x00\\x01\\x00\\x01\\x00\\x00\\xff\\xdb\\x00C\\x00\\x02\\x01\\x0…"
      ]
     },
     "metadata": {},
     "output_type": "display_data"
    }
   ],
   "source": [
    "import traitlets\n",
    "import ipywidgets.widgets as widgets\n",
    "from IPython.display import display\n",
    "\n",
    "net = cv2.dnn.readNet(cv2.samples.findFile(proto), cv2.samples.findFile(model))\n",
    "\n",
    "camera = Camera.instance(width=200, height=200)\n",
    "\n",
    "image = widgets.Image(format='jpeg', width=200, height=200)  # this width and height doesn't necessarily have to match the camera\n",
    "\n",
    "camera_link = traitlets.dlink((camera, 'value'), (image, 'value'), transform=bgr8_to_jpeg)\n",
    "\n",
    "display(image)"
   ]
  },
  {
   "cell_type": "code",
   "execution_count": 6,
   "metadata": {},
   "outputs": [],
   "source": [
    "camera.unobserve_all()\n",
    "camera.stop()"
   ]
  },
  {
   "cell_type": "code",
   "execution_count": null,
   "metadata": {},
   "outputs": [],
   "source": []
  }
 ],
 "metadata": {
  "kernelspec": {
   "display_name": "Python 3",
   "language": "python",
   "name": "python3"
  },
  "language_info": {
   "codemirror_mode": {
    "name": "ipython",
    "version": 3
   },
   "file_extension": ".py",
   "mimetype": "text/x-python",
   "name": "python",
   "nbconvert_exporter": "python",
   "pygments_lexer": "ipython3",
   "version": "3.7.4"
  }
 },
 "nbformat": 4,
 "nbformat_minor": 2
}
