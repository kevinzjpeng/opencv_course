{
 "cells": [
  {
   "cell_type": "markdown",
   "metadata": {},
   "source": [
    "## 通过HSV模式调整色相、饱和度、亮度"
   ]
  },
  {
   "cell_type": "code",
   "execution_count": 1,
   "metadata": {},
   "outputs": [
    {
     "ename": "ImportError",
     "evalue": "cannot import name 'Camera2'",
     "output_type": "error",
     "traceback": [
      "\u001b[0;31m---------------------------------------------------------------------------\u001b[0m",
      "\u001b[0;31mImportError\u001b[0m                               Traceback (most recent call last)",
      "\u001b[0;32m<ipython-input-1-dc6a047ba469>\u001b[0m in \u001b[0;36m<module>\u001b[0;34m\u001b[0m\n\u001b[1;32m      9\u001b[0m \u001b[0;32mimport\u001b[0m \u001b[0msys\u001b[0m\u001b[0;34m\u001b[0m\u001b[0;34m\u001b[0m\u001b[0m\n\u001b[1;32m     10\u001b[0m \u001b[0msys\u001b[0m\u001b[0;34m.\u001b[0m\u001b[0mpath\u001b[0m\u001b[0;34m.\u001b[0m\u001b[0mappend\u001b[0m\u001b[0;34m(\u001b[0m\u001b[0;34m'..'\u001b[0m\u001b[0;34m)\u001b[0m\u001b[0;34m\u001b[0m\u001b[0;34m\u001b[0m\u001b[0m\n\u001b[0;32m---> 11\u001b[0;31m \u001b[0;32mfrom\u001b[0m \u001b[0mopencv_course\u001b[0m\u001b[0;34m.\u001b[0m\u001b[0mvideo\u001b[0m \u001b[0;32mimport\u001b[0m \u001b[0mCamera2\u001b[0m\u001b[0;34m\u001b[0m\u001b[0;34m\u001b[0m\u001b[0m\n\u001b[0m\u001b[1;32m     12\u001b[0m \u001b[0;34m\u001b[0m\u001b[0m\n\u001b[1;32m     13\u001b[0m \u001b[0;31m#Brightness\u001b[0m\u001b[0;34m\u001b[0m\u001b[0;34m\u001b[0m\u001b[0;34m\u001b[0m\u001b[0m\n",
      "\u001b[0;31mImportError\u001b[0m: cannot import name 'Camera2'"
     ]
    }
   ],
   "source": [
    "import traitlets\n",
    "from traitlets.config.configurable import SingletonConfigurable\n",
    "import numpy as np\n",
    "import enum\n",
    "import cv2\n",
    "import ipywidgets as widgets\n",
    "from IPython.display import display\n",
    "\n",
    "import sys\n",
    "sys.path.append('..')\n",
    "from opencv_course.video import Camera\n",
    "\n",
    "#Brightness\n",
    "v_slider = widgets.IntSlider(value=0,min=-180,max=180, step=1, description=\"Brightness\")\n",
    "s_slider = widgets.IntSlider(value=0,min=-100,max=100, step=1, description=\"Saturation\")\n",
    "h_slider = widgets.IntSlider(value=0,min=-100,max=100, step=1, description=\"Hue\")\n",
    "\n",
    "def bgr8_to_jpeg(value, quality=10):\n",
    "    global v_slider\n",
    "    image = cv2.cvtColor(value, cv2.COLOR_BGR2HSV)\n",
    "    h, s, v = cv2.split(image)\n",
    "\n",
    "    if v_slider.value >0:\n",
    "        max = 255 - v_slider.value\n",
    "        v[v > max] = 255\n",
    "        v[v <= max] += v_slider.value\n",
    "    elif v_slider.value < 0:\n",
    "        min = 0 - v_slider.value\n",
    "        v[v < min] = 0\n",
    "        v[v >= min] -= abs(v_slider.value)\n",
    "    \n",
    "    if s_slider.value > 0:\n",
    "        max = 255 - s_slider.value\n",
    "        s[s > max] = 255\n",
    "        s[s <= max] += s_slider.value\n",
    "    elif s_slider.value < 0:\n",
    "        min = 0 - s_slider.value\n",
    "        s[s < min] = 0\n",
    "        s[s >= min] -= abs(s_slider.value)\n",
    "      \n",
    "    if h_slider.value > 0:\n",
    "        max = 255 - h_slider.value\n",
    "        h[h > max] = 255\n",
    "        h[h <= max] += h_slider.value\n",
    "    elif h_slider.value < 0:\n",
    "        min = 0 - h_slider.value\n",
    "        h[h < min] = 0\n",
    "        h[h >= min] -= abs(h_slider.value)\n",
    "    \n",
    "    final_hsv = cv2.merge((h, s, v))\n",
    "    img = cv2.cvtColor(final_hsv, cv2.COLOR_HSV2BGR)\n",
    "    return bytes(cv2.imencode('.jpg', img)[1])"
   ]
  },
  {
   "cell_type": "code",
   "execution_count": null,
   "metadata": {},
   "outputs": [],
   "source": [
    "camera = Camera2(width=500, height=500)\n",
    "\n",
    "image = widgets.Image(format='jpeg', width=500, height=500)  # this width and height doesn't necessarily have to match the camera\n",
    "\n",
    "camera_link = traitlets.dlink((camera, 'value'), (image, 'value'), transform=bgr8_to_jpeg)\n",
    "\n",
    "display(v_slider)\n",
    "display(s_slider)\n",
    "display(h_slider)\n",
    "display(image)"
   ]
  },
  {
   "cell_type": "markdown",
   "metadata": {},
   "source": [
    "## 自动白平衡"
   ]
  },
  {
   "cell_type": "code",
   "execution_count": 1,
   "metadata": {},
   "outputs": [],
   "source": []
  },
  {
   "cell_type": "code",
   "execution_count": null,
   "metadata": {},
   "outputs": [],
   "source": []
  }
 ],
 "metadata": {
  "kernelspec": {
   "display_name": "Python 3",
   "language": "python",
   "name": "python3"
  },
  "language_info": {
   "codemirror_mode": {
    "name": "ipython",
    "version": 3
   },
   "file_extension": ".py",
   "mimetype": "text/x-python",
   "name": "python",
   "nbconvert_exporter": "python",
   "pygments_lexer": "ipython3",
   "version": "3.6.8"
  }
 },
 "nbformat": 4,
 "nbformat_minor": 4
}
