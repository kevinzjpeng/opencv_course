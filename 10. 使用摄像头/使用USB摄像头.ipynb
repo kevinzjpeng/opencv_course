{
 "cells": [
  {
   "cell_type": "code",
   "execution_count": 12,
   "metadata": {},
   "outputs": [
    {
     "data": {
      "application/vnd.jupyter.widget-view+json": {
       "model_id": "600dcf93fd5949259346fbc3993e1230",
       "version_major": 2,
       "version_minor": 0
      },
      "text/plain": [
       "FloatSlider(value=1.0, description='Size', max=5.0, min=1.0, step=0.2)"
      ]
     },
     "metadata": {},
     "output_type": "display_data"
    }
   ],
   "source": [
    "import traitlets\n",
    "import ipywidgets\n",
    "import ipywidgets.widgets as widgets\n",
    "from IPython.display import display\n",
    "from traitlets.config.configurable import SingletonConfigurable\n",
    "import numpy as np\n",
    "import enum\n",
    "import subprocess\n",
    "import cv2\n",
    "import sys\n",
    "sys.path.append('..')\n",
    "from opencv_course.video import Camera\n",
    "\n",
    "size_slider = ipywidgets.FloatSlider(min=1.0, max=5.0, step=0.2, value=1.0, description='Size')\n",
    "\n",
    "def bgr8_to_jpeg(value, quality=10):\n",
    "    global size_slider\n",
    "    size = size_slider.value\n",
    "    (w,h) = value.shape[0:2]\n",
    "    image = value[int(w*(1-1/size)/2):int(w*(1+1/size)/2), int(h*(1-1/size)/2):int(h*(1+1/size)/2)]\n",
    "    \n",
    "    return bytes(cv2.imencode('.jpg', image)[1])\n",
    "\n",
    "display(size_slider)"
   ]
  },
  {
   "cell_type": "markdown",
   "metadata": {},
   "source": [
    "## 测试摄像头支持的分辨率\n",
    "\n",
    "常用的分辨率可以通过在wiki查询，https://en.wikipedia.org/wiki/List_of_common_resolutions<br>\n",
    "如果找到支持的分辨率，则能正常显示图像"
   ]
  },
  {
   "cell_type": "code",
   "execution_count": null,
   "metadata": {},
   "outputs": [],
   "source": [
    "for i in [(2304,1536),\n",
    "            (1920,1080),\n",
    "            (1280,720),\n",
    "            (1024,576),\n",
    "            (960,540),\n",
    "            (848,480),\n",
    "            (800,600),\n",
    "            (640,480),\n",
    "            (640,360),\n",
    "            (320,240),\n",
    "            (160,120)]:\n",
    "    print(\"Trying resulution {}\".format(i))\n",
    "    (w, h) = i\n",
    "    try:\n",
    "        camera = Camera(width=w, height=h, fps=2, is_usb=True)\n",
    "\n",
    "        image = widgets.Image(format='jpeg', width=240, fps=24, height=180)  # this width and height doesn't necessarily have to match the camera\n",
    "\n",
    "        traitlets.dlink((camera, 'value'), (image, 'value'), transform=bgr8_to_jpeg)\n",
    "\n",
    "        display(image)\n",
    "        \n",
    "        camera.unobserve_all()\n",
    "        camera.stop()\n",
    "    except:\n",
    "        print(\"Error {}\".format(i))\n",
    "        pass\n",
    "    "
   ]
  },
  {
   "cell_type": "code",
   "execution_count": null,
   "metadata": {},
   "outputs": [],
   "source": [
    "w=160\n",
    "h=120\n",
    "for i in range(2, 30, 1):\n",
    "    print(\"Trying fps {}\".format(i))\n",
    "    try:\n",
    "        camera = Camera(width=w, height=h, fps=i, is_usb=True)\n",
    "\n",
    "        image = widgets.Image(format='jpeg', width=240, height=180)  # this width and height doesn't necessarily have to match the camera\n",
    "\n",
    "        traitlets.dlink((camera, 'value'), (image, 'value'), transform=bgr8_to_jpeg)\n",
    "\n",
    "        display(image)\n",
    "        \n",
    "        camera.unobserve_all()\n",
    "        camera.stop()\n",
    "    except:\n",
    "        print(\"Error {}\".format(i))\n",
    "        pass"
   ]
  },
  {
   "cell_type": "code",
   "execution_count": null,
   "metadata": {},
   "outputs": [],
   "source": [
    "w = 848\n",
    "h = 480\n",
    "fps =24\n",
    "\n",
    "camera = Camera(width=w, height=h, fps=24, is_usb=True)\n",
    "\n",
    "image = widgets.Image(format='jpeg', width=240, fps=24, height=180)  # this width and height doesn't necessarily have to match the camera\n",
    "\n",
    "traitlets.dlink((camera, 'value'), (image, 'value'), transform=bgr8_to_jpeg)\n",
    "\n",
    "display(image)"
   ]
  },
  {
   "cell_type": "code",
   "execution_count": null,
   "metadata": {
    "jupyter": {
     "source_hidden": true
    }
   },
   "outputs": [],
   "source": [
    "camera.unobserve_all()\n",
    "camera.stop()"
   ]
  },
  {
   "cell_type": "markdown",
   "metadata": {},
   "source": [
    "## 通过命令行修改UVC摄像头参数\n",
    "\n",
    "首先我门要检查一下摄像头有什么参数, 命令是\n",
    "\n",
    "v4l2-ctl -d <video device> -l"
   ]
  },
  {
   "cell_type": "code",
   "execution_count": 4,
   "metadata": {},
   "outputs": [
    {
     "name": "stdout",
     "output_type": "stream",
     "text": [
      "                     brightness 0x00980900 (int)    : min=0 max=255 step=1 default=128 value=191\n",
      "                       contrast 0x00980901 (int)    : min=0 max=255 step=1 default=128 value=157\n",
      "                     saturation 0x00980902 (int)    : min=0 max=255 step=1 default=128 value=136\n",
      " white_balance_temperature_auto 0x0098090c (bool)   : default=1 value=1\n",
      "                           gain 0x00980913 (int)    : min=0 max=255 step=1 default=0 value=203\n",
      "           power_line_frequency 0x00980918 (menu)   : min=0 max=2 default=2 value=2\n",
      "      white_balance_temperature 0x0098091a (int)    : min=2000 max=7500 step=1 default=4000 value=4000 flags=inactive\n",
      "                      sharpness 0x0098091b (int)    : min=0 max=255 step=1 default=128 value=128\n",
      "         backlight_compensation 0x0098091c (int)    : min=0 max=1 step=1 default=0 value=1\n",
      "                  exposure_auto 0x009a0901 (menu)   : min=0 max=3 default=3 value=3\n",
      "              exposure_absolute 0x009a0902 (int)    : min=3 max=2047 step=1 default=250 value=250 flags=inactive\n",
      "         exposure_auto_priority 0x009a0903 (bool)   : default=0 value=1\n",
      "                   pan_absolute 0x009a0908 (int)    : min=-36000 max=36000 step=3600 default=0 value=7200\n",
      "                  tilt_absolute 0x009a0909 (int)    : min=-36000 max=36000 step=3600 default=0 value=0\n",
      "                 focus_absolute 0x009a090a (int)    : min=0 max=255 step=5 default=0 value=0 flags=inactive\n",
      "                     focus_auto 0x009a090c (bool)   : default=1 value=1\n",
      "                  zoom_absolute 0x009a090d (int)    : min=100 max=400 step=1 default=100 value=100\n"
     ]
    }
   ],
   "source": [
    "!v4l2-ctl -d 1 -l"
   ]
  },
  {
   "cell_type": "markdown",
   "metadata": {},
   "source": [
    "我们可以使用subprocess.check_output()来获取当前数值"
   ]
  },
  {
   "cell_type": "code",
   "execution_count": 6,
   "metadata": {},
   "outputs": [
    {
     "data": {
      "text/plain": [
       "b'                     brightness 0x00980900 (int)    : min=0 max=255 step=1 default=128 value=191\\n                       contrast 0x00980901 (int)    : min=0 max=255 step=1 default=128 value=157\\n                     saturation 0x00980902 (int)    : min=0 max=255 step=1 default=128 value=136\\n white_balance_temperature_auto 0x0098090c (bool)   : default=1 value=1\\n                           gain 0x00980913 (int)    : min=0 max=255 step=1 default=0 value=203\\n           power_line_frequency 0x00980918 (menu)   : min=0 max=2 default=2 value=2\\n      white_balance_temperature 0x0098091a (int)    : min=2000 max=7500 step=1 default=4000 value=4000 flags=inactive\\n                      sharpness 0x0098091b (int)    : min=0 max=255 step=1 default=128 value=128\\n         backlight_compensation 0x0098091c (int)    : min=0 max=1 step=1 default=0 value=1\\n                  exposure_auto 0x009a0901 (menu)   : min=0 max=3 default=3 value=3\\n              exposure_absolute 0x009a0902 (int)    : min=3 max=2047 step=1 default=250 value=250 flags=inactive\\n         exposure_auto_priority 0x009a0903 (bool)   : default=0 value=1\\n                   pan_absolute 0x009a0908 (int)    : min=-36000 max=36000 step=3600 default=0 value=7200\\n                  tilt_absolute 0x009a0909 (int)    : min=-36000 max=36000 step=3600 default=0 value=0\\n                 focus_absolute 0x009a090a (int)    : min=0 max=255 step=5 default=0 value=0 flags=inactive\\n                     focus_auto 0x009a090c (bool)   : default=1 value=1\\n                  zoom_absolute 0x009a090d (int)    : min=100 max=400 step=1 default=100 value=100\\n'"
      ]
     },
     "execution_count": 6,
     "metadata": {},
     "output_type": "execute_result"
    }
   ],
   "source": [
    "subprocess.check_output([\"v4l2-ctl\", \"-d\", \"1\", \"-l\" ])"
   ]
  },
  {
   "cell_type": "code",
   "execution_count": 10,
   "metadata": {},
   "outputs": [
    {
     "data": {
      "application/vnd.jupyter.widget-view+json": {
       "model_id": "8bcedbba1e34488ab8b85915f235c032",
       "version_major": 2,
       "version_minor": 0
      },
      "text/plain": [
       "interactive(children=(IntSlider(value=228, description='brightness', max=255), Output()), _dom_classes=('widge…"
      ]
     },
     "metadata": {},
     "output_type": "display_data"
    }
   ],
   "source": [
    "from __future__ import print_function\n",
    "from ipywidgets import interact\n",
    "import subprocess\n",
    "\n",
    "import ipywidgets as widgets\n",
    "\n",
    "def f(brightness):\n",
    "    subprocess.check_output([\"v4l2-ctl\", \"-d\", \"1\", \"-c\", \"brightness={}\".format(brightness)])\n",
    "    return brightness\n",
    "\n",
    "interact(f, brightness=widgets.IntSlider(min=0, max=255, step=1, value=228));\n",
    "        "
   ]
  },
  {
   "cell_type": "code",
   "execution_count": 13,
   "metadata": {},
   "outputs": [
    {
     "name": "stdout",
     "output_type": "stream",
     "text": [
      "w:2304.0, h:1536.0, fps:2.0, brightness:228.0, contrast:157.0, zoom:0.0\n",
      "h, w: 240, 320\n"
     ]
    },
    {
     "data": {
      "application/vnd.jupyter.widget-view+json": {
       "model_id": "e39baf0c487b47ccbb610b186d4e09a0",
       "version_major": 2,
       "version_minor": 0
      },
      "text/plain": [
       "Image(value=b'\\xff\\xd8\\xff\\xe0\\x00\\x10JFIF\\x00\\x01\\x01\\x00\\x00\\x01\\x00\\x01\\x00\\x00\\xff\\xdb\\x00C\\x00\\x02\\x01\\x0…"
      ]
     },
     "metadata": {},
     "output_type": "display_data"
    }
   ],
   "source": [
    "w=320\n",
    "h=240\n",
    "fps=10\n",
    "camera = Camera(width=w, height=h, fps=fps, is_usb=True)\n",
    "\n",
    "image = widgets.Image(format='jpeg', width=240, height=180)  # this width and height doesn't necessarily have to match the camera\n",
    "\n",
    "traitlets.dlink((camera, 'value'), (image, 'value'), transform=bgr8_to_jpeg)\n",
    "\n",
    "display(image)"
   ]
  },
  {
   "cell_type": "code",
   "execution_count": 14,
   "metadata": {},
   "outputs": [],
   "source": [
    "camera.unobserve_all()\n",
    "camera.stop()"
   ]
  },
  {
   "cell_type": "code",
   "execution_count": null,
   "metadata": {},
   "outputs": [],
   "source": []
  }
 ],
 "metadata": {
  "kernelspec": {
   "display_name": "Python 3",
   "language": "python",
   "name": "python3"
  },
  "language_info": {
   "codemirror_mode": {
    "name": "ipython",
    "version": 3
   },
   "file_extension": ".py",
   "mimetype": "text/x-python",
   "name": "python",
   "nbconvert_exporter": "python",
   "pygments_lexer": "ipython3",
   "version": "3.6.8"
  }
 },
 "nbformat": 4,
 "nbformat_minor": 4
}
