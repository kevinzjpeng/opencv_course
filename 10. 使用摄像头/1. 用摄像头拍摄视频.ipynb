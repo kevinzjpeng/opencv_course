{
 "cells": [
  {
   "cell_type": "code",
   "execution_count": 1,
   "metadata": {},
   "outputs": [],
   "source": [
    "import traitlets\n",
    "from traitlets.config.configurable import SingletonConfigurable\n",
    "import numpy as np\n",
    "import enum\n",
    "import cv2\n",
    "import ipywidgets as widgets\n",
    "\n",
    "import sys\n",
    "sys.path.append('..')\n",
    "from opencv_course.video import Camera2\n",
    "\n",
    "#Brightness\n",
    "v_slider = widgets.IntSlider(value=0,min=-180,max=180, step=1, description=\"Brightness\")\n",
    "s_slider = widgets.IntSlider(value=0,min=-100,max=100, step=1, description=\"Saturation\")\n",
    "h_slider = widgets.IntSlider(value=0,min=-100,max=100, step=1, description=\"Hue\")\n",
    "\n",
    "def bgr8_to_jpeg(value, quality=10):\n",
    "    global v_slider\n",
    "    image = cv2.cvtColor(value, cv2.COLOR_BGR2HSV)\n",
    "    h, s, v = cv2.split(image)\n",
    "\n",
    "    if v_slider.value >0:\n",
    "        max = 255 - v_slider.value\n",
    "        v[v > max] = 255\n",
    "        v[v <= max] += v_slider.value\n",
    "    elif v_slider.value < 0:\n",
    "        min = 0 - v_slider.value\n",
    "        v[v < min] = 0\n",
    "        v[v >= min] -= abs(v_slider.value)\n",
    "    \n",
    "    if s_slider.value > 0:\n",
    "        max = 255 - s_slider.value\n",
    "        s[s > max] = 255\n",
    "        s[s <= max] += s_slider.value\n",
    "    elif s_slider.value < 0:\n",
    "        min = 0 - s_slider.value\n",
    "        s[s < min] = 0\n",
    "        s[s >= min] -= abs(s_slider.value)\n",
    "      \n",
    "    if h_slider.value > 0:\n",
    "        max = 255 - h_slider.value\n",
    "        h[h > max] = 255\n",
    "        h[h <= max] += h_slider.value\n",
    "    elif h_slider.value < 0:\n",
    "        min = 0 - h_slider.value\n",
    "        h[h < min] = 0\n",
    "        h[h >= min] -= abs(h_slider.value)\n",
    "    \n",
    "    final_hsv = cv2.merge((h, s, v))\n",
    "    img = cv2.cvtColor(final_hsv, cv2.COLOR_HSV2BGR)\n",
    "    return bytes(cv2.imencode('.jpg', img)[1])"
   ]
  },
  {
   "cell_type": "code",
   "execution_count": 2,
   "metadata": {},
   "outputs": [
    {
     "data": {
      "application/vnd.jupyter.widget-view+json": {
       "model_id": "3a7059ebba6b4676acb83fb49ab32830",
       "version_major": 2,
       "version_minor": 0
      },
      "text/plain": [
       "IntSlider(value=0, description='Brightness', max=180, min=-180)"
      ]
     },
     "metadata": {},
     "output_type": "display_data"
    },
    {
     "data": {
      "application/vnd.jupyter.widget-view+json": {
       "model_id": "53bfedd46b554cf4886b35f51e19123c",
       "version_major": 2,
       "version_minor": 0
      },
      "text/plain": [
       "IntSlider(value=0, description='Saturation', min=-100)"
      ]
     },
     "metadata": {},
     "output_type": "display_data"
    },
    {
     "data": {
      "application/vnd.jupyter.widget-view+json": {
       "model_id": "a526fcb1128947668a25b2c9673e5863",
       "version_major": 2,
       "version_minor": 0
      },
      "text/plain": [
       "IntSlider(value=0, description='Hue', min=-100)"
      ]
     },
     "metadata": {},
     "output_type": "display_data"
    },
    {
     "data": {
      "application/vnd.jupyter.widget-view+json": {
       "model_id": "abf7fd9385834bc9bb8797120d7ecaec",
       "version_major": 2,
       "version_minor": 0
      },
      "text/plain": [
       "Image(value=b'\\xff\\xd8\\xff\\xe0\\x00\\x10JFIF\\x00\\x01\\x01\\x00\\x00\\x01\\x00\\x01\\x00\\x00\\xff\\xdb\\x00C\\x00\\x02\\x01\\x0…"
      ]
     },
     "metadata": {},
     "output_type": "display_data"
    }
   ],
   "source": [
    "import traitlets\n",
    "import ipywidgets.widgets as widgets\n",
    "from IPython.display import display\n",
    "\n",
    "camera = Camera2(width=500, height=500)\n",
    "\n",
    "image = widgets.Image(format='jpeg', width=500, height=500)  # this width and height doesn't necessarily have to match the camera\n",
    "\n",
    "camera_link = traitlets.dlink((camera, 'value'), (image, 'value'), transform=bgr8_to_jpeg)\n",
    "\n",
    "display(v_slider)\n",
    "display(s_slider)\n",
    "display(h_slider)\n",
    "display(image)"
   ]
  },
  {
   "cell_type": "code",
   "execution_count": null,
   "metadata": {
    "scrolled": true
   },
   "outputs": [],
   "source": [
    "camera.unobserve_all()\n",
    "camera.stop()"
   ]
  },
  {
   "cell_type": "code",
   "execution_count": null,
   "metadata": {},
   "outputs": [],
   "source": []
  }
 ],
 "metadata": {
  "kernelspec": {
   "display_name": "Python 3",
   "language": "python",
   "name": "python3"
  },
  "language_info": {
   "codemirror_mode": {
    "name": "ipython",
    "version": 3
   },
   "file_extension": ".py",
   "mimetype": "text/x-python",
   "name": "python",
   "nbconvert_exporter": "python",
   "pygments_lexer": "ipython3",
   "version": "3.6.8"
  }
 },
 "nbformat": 4,
 "nbformat_minor": 4
}
