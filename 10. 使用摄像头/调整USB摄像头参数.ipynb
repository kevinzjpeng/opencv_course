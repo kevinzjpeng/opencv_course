{
 "cells": [
  {
   "cell_type": "code",
   "execution_count": null,
   "metadata": {},
   "outputs": [],
   "source": [
    "!v4l2-ctl -d 1 -l"
   ]
  },
  {
   "cell_type": "code",
   "execution_count": null,
   "metadata": {},
   "outputs": [],
   "source": [
    "import traitlets\n",
    "import ipywidgets\n",
    "import ipywidgets.widgets as widgets\n",
    "from ipywidgets import interact\n",
    "from IPython.display import display\n",
    "import numpy as np\n",
    "import enum\n",
    "import subprocess\n",
    "import cv2\n",
    "\n",
    "import sys\n",
    "sys.path.append('..')\n",
    "from opencv_course.video import Camera"
   ]
  },
  {
   "cell_type": "code",
   "execution_count": null,
   "metadata": {},
   "outputs": [],
   "source": [
    "def bgr8_to_jpeg(value, quality=10):\n",
    "    return bytes(cv2.imencode('.jpg', value)[1])\n",
    "\n",
    "def brightness_change(brightness):\n",
    "    subprocess.check_output([\"v4l2-ctl\", \"-d\", \"1\", \"-c\", \"brightness={}\".format(brightness)])\n",
    "    \n",
    "interact(brightness_change, brightness=widgets.IntSlider(min=0, max=255, step=1, value=128));\n",
    "\n",
    "def contrast_change(contrast):\n",
    "    subprocess.check_output([\"v4l2-ctl\", \"-d\", \"1\", \"-c\", \"contrast={}\".format(contrast)])\n",
    "interact(contrast_change, contrast=widgets.IntSlider(min=0, max=255, step=1, value=128));\n",
    "    \n",
    "\n",
    "w=320\n",
    "h=240\n",
    "fps=10\n",
    "camera = Camera(width=w, height=h, fps=fps, is_usb=True)\n",
    "\n",
    "image = widgets.Image(format='jpeg', width=240, height=180)  # this width and height doesn't necessarily have to match the camera\n",
    "\n",
    "traitlets.dlink((camera, 'value'), (image, 'value'), transform=bgr8_to_jpeg)\n",
    "\n",
    "display(image)"
   ]
  },
  {
   "cell_type": "code",
   "execution_count": null,
   "metadata": {},
   "outputs": [],
   "source": [
    "camera.unobserve_all()\n",
    "camera.stop()"
   ]
  },
  {
   "cell_type": "code",
   "execution_count": null,
   "metadata": {},
   "outputs": [],
   "source": []
  }
 ],
 "metadata": {
  "kernelspec": {
   "display_name": "Python 3",
   "language": "python",
   "name": "python3"
  },
  "language_info": {
   "codemirror_mode": {
    "name": "ipython",
    "version": 3
   },
   "file_extension": ".py",
   "mimetype": "text/x-python",
   "name": "python",
   "nbconvert_exporter": "python",
   "pygments_lexer": "ipython3",
   "version": "3.6.8"
  }
 },
 "nbformat": 4,
 "nbformat_minor": 4
}
