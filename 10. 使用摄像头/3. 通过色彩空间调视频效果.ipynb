{
 "cells": [
  {
   "cell_type": "markdown",
   "metadata": {},
   "source": [
    "## 通过HSV色彩空间调整色相、饱和度、明度"
   ]
  },
  {
   "cell_type": "code",
   "execution_count": 1,
   "metadata": {},
   "outputs": [],
   "source": [
    "import traitlets\n",
    "from traitlets.config.configurable import SingletonConfigurable\n",
    "import numpy as np\n",
    "import enum\n",
    "import cv2\n",
    "import ipywidgets as widgets\n",
    "from IPython.display import display\n",
    "\n",
    "import sys\n",
    "sys.path.append('..')\n",
    "from opencv_course.video import Camera\n",
    "\n",
    "def trancate(v, slider):\n",
    "    if slider.value >0:\n",
    "        max = 255 - slider.value\n",
    "        v[v > max] = 255\n",
    "        v[v <= max] += slider.value\n",
    "    elif slider.value < 0:\n",
    "        min = 0 - slider.value\n",
    "        v[v < min] = 0\n",
    "        v[v >= min] -= abs(slider.value)"
   ]
  },
  {
   "cell_type": "code",
   "execution_count": 2,
   "metadata": {},
   "outputs": [],
   "source": [
    "h_slider = widgets.IntSlider(value=0,min=-100,max=100, step=1, description=\"Hue\")\n",
    "s_slider = widgets.IntSlider(value=0,min=-100,max=100, step=1, description=\"Saturation\")\n",
    "v_slider = widgets.IntSlider(value=0,min=-122,max=122, step=1, description=\"Brightness\")\n",
    "\n",
    "def bgr8_to_jpeg(value, quality=10):\n",
    "    global v_slider\n",
    "    image = cv2.cvtColor(value, cv2.COLOR_BGR2HSV)\n",
    "    h, s, v = cv2.split(image)\n",
    "\n",
    "    trancate(h, h_slider)\n",
    "    trancate(s, s_slider)\n",
    "    trancate(v, v_slider)\n",
    "    \n",
    "    final_hsv = cv2.merge((h, s, v))\n",
    "    img = cv2.cvtColor(final_hsv, cv2.COLOR_HSV2BGR)\n",
    "    return bytes(cv2.imencode('.jpg', img)[1])"
   ]
  },
  {
   "cell_type": "code",
   "execution_count": 3,
   "metadata": {},
   "outputs": [
    {
     "name": "stdout",
     "output_type": "stream",
     "text": [
      "w:500.0, h:500.0, fps:10.0, brightness:0.0, contrast:0.0, zoom:0.0\n",
      "h, w: 500, 500\n"
     ]
    },
    {
     "data": {
      "application/vnd.jupyter.widget-view+json": {
       "model_id": "c84a13d4636b4e31a71964e2f594102e",
       "version_major": 2,
       "version_minor": 0
      },
      "text/plain": [
       "IntSlider(value=0, description='Brightness', max=122, min=-122)"
      ]
     },
     "metadata": {},
     "output_type": "display_data"
    },
    {
     "data": {
      "application/vnd.jupyter.widget-view+json": {
       "model_id": "d6d9c674c8b944b59c57a21f11eb2ddd",
       "version_major": 2,
       "version_minor": 0
      },
      "text/plain": [
       "IntSlider(value=0, description='Saturation', min=-100)"
      ]
     },
     "metadata": {},
     "output_type": "display_data"
    },
    {
     "data": {
      "application/vnd.jupyter.widget-view+json": {
       "model_id": "5dda995bedad4819840a214a8dda5181",
       "version_major": 2,
       "version_minor": 0
      },
      "text/plain": [
       "IntSlider(value=0, description='Hue', min=-100)"
      ]
     },
     "metadata": {},
     "output_type": "display_data"
    },
    {
     "data": {
      "application/vnd.jupyter.widget-view+json": {
       "model_id": "af9966dd5c70465ab5772d4ea3717e25",
       "version_major": 2,
       "version_minor": 0
      },
      "text/plain": [
       "Image(value=b'\\xff\\xd8\\xff\\xe0\\x00\\x10JFIF\\x00\\x01\\x01\\x00\\x00\\x01\\x00\\x01\\x00\\x00\\xff\\xdb\\x00C\\x00\\x02\\x01\\x0…"
      ]
     },
     "metadata": {},
     "output_type": "display_data"
    }
   ],
   "source": [
    "camera = Camera(width=500, height=500, fps=10)\n",
    "\n",
    "image = widgets.Image(format='jpeg', width=500, height=500)  # this width and height doesn't necessarily have to match the camera\n",
    "\n",
    "camera_link = traitlets.dlink((camera, 'value'), (image, 'value'), transform=bgr8_to_jpeg)\n",
    "\n",
    "display(v_slider)\n",
    "display(s_slider)\n",
    "display(h_slider)\n",
    "display(image)"
   ]
  },
  {
   "cell_type": "code",
   "execution_count": null,
   "metadata": {},
   "outputs": [],
   "source": [
    "camera.unobserve_all()\n",
    "camera.stop()"
   ]
  },
  {
   "cell_type": "markdown",
   "metadata": {},
   "source": [
    "## 通过HLS(HSL)色彩空间调整色相、饱和度、亮度"
   ]
  },
  {
   "cell_type": "code",
   "execution_count": null,
   "metadata": {},
   "outputs": [],
   "source": [
    "h_slider = widgets.IntSlider(value=0,min=-100,max=100, step=1, description=\"Hue\")\n",
    "l_slider = widgets.IntSlider(value=0,min=-180,max=180, step=1, description=\"Lightness\")\n",
    "s_slider = widgets.IntSlider(value=0,min=-100,max=100, step=1, description=\"Saturation\")\n",
    "\n",
    "def bgr8_to_jpeg(value, quality=10):\n",
    "    global v_slider\n",
    "    image = cv2.cvtColor(value, cv2.COLOR_BGR2HLS)\n",
    "    h, l, s = cv2.split(image)\n",
    "\n",
    "    trancate(h, h_slider)\n",
    "    trancate(s, s_slider)\n",
    "    trancate(l, l_slider)\n",
    "    \n",
    "    final_hsl = cv2.merge((h, l, s))\n",
    "    img = cv2.cvtColor(final_hsl, cv2.COLOR_HLS2BGR)\n",
    "    return bytes(cv2.imencode('.jpg', img)[1])"
   ]
  },
  {
   "cell_type": "code",
   "execution_count": null,
   "metadata": {},
   "outputs": [],
   "source": [
    "camera = Camera2(width=500, height=500)\n",
    "\n",
    "image = widgets.Image(format='jpeg', width=500, height=500)  # this width and height doesn't necessarily have to match the camera\n",
    "\n",
    "camera_link = traitlets.dlink((camera, 'value'), (image, 'value'), transform=bgr8_to_jpeg)\n",
    "\n",
    "display(h_slider)\n",
    "display(l_slider)\n",
    "display(s_slider)\n",
    "displayd(image)"
   ]
  },
  {
   "cell_type": "code",
   "execution_count": null,
   "metadata": {},
   "outputs": [],
   "source": [
    "camera.unobserve_all()\n",
    "camera.stop()"
   ]
  }
 ],
 "metadata": {
  "kernelspec": {
   "display_name": "Python 3",
   "language": "python",
   "name": "python3"
  },
  "language_info": {
   "codemirror_mode": {
    "name": "ipython",
    "version": 3
   },
   "file_extension": ".py",
   "mimetype": "text/x-python",
   "name": "python",
   "nbconvert_exporter": "python",
   "pygments_lexer": "ipython3",
   "version": "3.6.8"
  }
 },
 "nbformat": 4,
 "nbformat_minor": 4
}
