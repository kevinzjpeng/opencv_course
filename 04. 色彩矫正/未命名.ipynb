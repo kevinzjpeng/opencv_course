{
 "cells": [
  {
   "cell_type": "code",
   "execution_count": null,
   "metadata": {},
   "outputs": [],
   "source": [
    "from __future__ import print_function\n",
    "from __future__ import division\n",
    "import cv2 as cv\n",
    "import numpy as np\n",
    "import sys\n",
    "sys.path.append('..')\n",
    "from opencv_course import ImageUtil\n",
    "\n",
    "alpha = 1.0\n",
    "alpha_max = 500\n",
    "beta = 0\n",
    "beta_max = 200\n",
    "gamma = 1.0\n",
    "gamma_max = 200\n",
    "\n",
    "def basicLinearTransform():\n",
    "    res = cv.convertScaleAbs(img_original, alpha=alpha, beta=beta)\n",
    "    img_corrected = cv.hconcat([img_original, res])\n",
    "    print(\"Brightness and contrast adjustments\")\n",
    "    ImageUtil.imshow([img_corrected])\n",
    "\n",
    "def gammaCorrection():\n",
    "    ## [changing-contrast-brightness-gamma-correction]\n",
    "    lookUpTable = np.empty((1,256), np.uint8)\n",
    "    for i in range(256):\n",
    "        lookUpTable[0,i] = np.clip(pow(i / 255.0, gamma) * 255.0, 0, 255)\n",
    "\n",
    "    res = cv.LUT(img_original, lookUpTable)\n",
    "    ## [changing-contrast-brightness-gamma-correction]\n",
    "\n",
    "    img_gamma_corrected = cv.hconcat([img_original, res]);\n",
    "    print(\"Gamma correction\")\n",
    "    ImageUtil.imshow([img_gamma_corrected]);\n",
    "\n",
    "def on_linear_transform_alpha_trackbar(val):\n",
    "    global alpha\n",
    "    alpha = val / 100\n",
    "    basicLinearTransform()\n",
    "\n",
    "def on_linear_transform_beta_trackbar(val):\n",
    "    global beta\n",
    "    beta = val - 100\n",
    "    basicLinearTransform()\n",
    "\n",
    "def on_gamma_correction_trackbar(val):\n",
    "    global gamma\n",
    "    gamma = val / 100\n",
    "    gammaCorrection()"
   ]
  },
  {
   "cell_type": "code",
   "execution_count": null,
   "metadata": {},
   "outputs": [],
   "source": [
    "\n",
    "img_original = cv.imread(\"picture1.jpg\")\n",
    "if img_original is None:\n",
    "    print('Could not open or find the image: ', args.input)\n",
    "    exit(0)\n",
    "\n",
    "ImageUtil.imshow([img_original])\n",
    "\n"
   ]
  },
  {
   "cell_type": "code",
   "execution_count": null,
   "metadata": {},
   "outputs": [],
   "source": [
    "img_corrected = np.empty((img_original.shape[0], img_original.shape[1]*2, img_original.shape[2]), img_original.dtype)\n",
    "img_gamma_corrected = np.empty((img_original.shape[0], img_original.shape[1]*2, img_original.shape[2]), img_original.dtype)\n",
    "\n",
    "img_corrected = cv.hconcat([img_original, img_original])\n",
    "img_gamma_corrected = cv.hconcat([img_original, img_original])\n",
    "\n",
    "cv.namedWindow('Brightness and contrast adjustments')\n",
    "cv.namedWindow('Gamma correction')\n",
    "\n",
    "alpha_init = int(alpha *100)\n",
    "cv.createTrackbar('Alpha gain (contrast)', 'Brightness and contrast adjustments', alpha_init, alpha_max, on_linear_transform_alpha_trackbar)\n",
    "beta_init = beta + 100\n",
    "cv.createTrackbar('Beta bias (brightness)', 'Brightness and contrast adjustments', beta_init, beta_max, on_linear_transform_beta_trackbar)\n",
    "gamma_init = int(gamma * 100)\n",
    "cv.createTrackbar('Gamma correction', 'Gamma correction', gamma_init, gamma_max, on_gamma_correction_trackbar)\n",
    "\n",
    "on_linear_transform_alpha_trackbar(alpha_init)\n",
    "on_gamma_correction_trackbar(gamma_init)"
   ]
  },
  {
   "cell_type": "code",
   "execution_count": null,
   "metadata": {},
   "outputs": [],
   "source": []
  }
 ],
 "metadata": {
  "kernelspec": {
   "display_name": "Python 3",
   "language": "python",
   "name": "python3"
  },
  "language_info": {
   "codemirror_mode": {
    "name": "ipython",
    "version": 3
   },
   "file_extension": ".py",
   "mimetype": "text/x-python",
   "name": "python",
   "nbconvert_exporter": "python",
   "pygments_lexer": "ipython3",
   "version": "3.7.4"
  }
 },
 "nbformat": 4,
 "nbformat_minor": 2
}
