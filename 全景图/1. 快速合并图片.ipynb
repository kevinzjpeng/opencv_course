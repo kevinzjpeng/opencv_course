{
 "cells": [
  {
   "cell_type": "markdown",
   "metadata": {},
   "source": [
    "## 最简单的方式合并图片"
   ]
  },
  {
   "cell_type": "code",
   "execution_count": 1,
   "metadata": {},
   "outputs": [],
   "source": [
    "from imutils import paths\n",
    "import matplotlib.pyplot as plt\n",
    "import numpy as np\n",
    "import argparse\n",
    "import imutils\n",
    "import cv2\n",
    "\n",
    "import sys\n",
    "sys.path.append('..')\n",
    "from opencv_course import ImageUtil\n",
    "\n",
    "imagePaths = sorted(list(paths.list_images('image1')))\n",
    "images = []\n",
    "\n",
    "# loop over the image paths, load each one, and add them to our\n",
    "# images to stitch list\n",
    "for imagePath in imagePaths:\n",
    "    image = cv2.imread(imagePath)\n",
    "    images.append(image)"
   ]
  },
  {
   "cell_type": "code",
   "execution_count": 2,
   "metadata": {},
   "outputs": [
    {
     "name": "stdout",
     "output_type": "stream",
     "text": [
      "[INFO] stitching images...\n"
     ]
    }
   ],
   "source": [
    "# initialize OpenCV's image stitcher object and then perform the image\n",
    "# stitching\n",
    "print(\"[INFO] stitching images...\")\n",
    "stitcher = cv2.createStitcher() if imutils.is_cv3() else cv2.Stitcher_create()\n",
    "(status, stitched) = stitcher.stitch(images)"
   ]
  },
  {
   "cell_type": "code",
   "execution_count": 3,
   "metadata": {},
   "outputs": [
    {
     "name": "stdout",
     "output_type": "stream",
     "text": [
      "[INFO] image stitching failed (1)\n"
     ]
    }
   ],
   "source": [
    "# if the status is '0', then OpenCV successfully performed image\n",
    "# stitching\n",
    "if status == 0:\n",
    "    # write the output stitched image to disk\n",
    "    cv2.imwrite('result.jpg', stitched)\n",
    "    \n",
    "    # display the output stitched image to our screen\n",
    "    ImageUtil.imshow([stitched])\n",
    " \n",
    "# otherwise the stitching failed, likely due to not enough keypoints)\n",
    "# being detected\n",
    "else:\n",
    "    print(\"[INFO] image stitching failed ({})\".format(status))"
   ]
  },
  {
   "cell_type": "code",
   "execution_count": null,
   "metadata": {},
   "outputs": [],
   "source": []
  }
 ],
 "metadata": {
  "kernelspec": {
   "display_name": "Python 3",
   "language": "python",
   "name": "python3"
  },
  "language_info": {
   "codemirror_mode": {
    "name": "ipython",
    "version": 3
   },
   "file_extension": ".py",
   "mimetype": "text/x-python",
   "name": "python",
   "nbconvert_exporter": "python",
   "pygments_lexer": "ipython3",
   "version": "3.6.8"
  }
 },
 "nbformat": 4,
 "nbformat_minor": 4
}
