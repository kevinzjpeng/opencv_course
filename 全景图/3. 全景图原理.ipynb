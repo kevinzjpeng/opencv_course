{
 "cells": [
  {
   "cell_type": "markdown",
   "metadata": {},
   "source": [
    "## 全景图原理"
   ]
  },
  {
   "cell_type": "code",
   "execution_count": 1,
   "metadata": {},
   "outputs": [],
   "source": [
    "import numpy as np\n",
    "import imutils\n",
    "import cv2\n",
    "\n",
    "import sys\n",
    "sys.path.append('..')\n",
    "from opencv_course import ImageUtil"
   ]
  },
  {
   "cell_type": "markdown",
   "metadata": {},
   "source": [
    "## 自己来编写缝合器\n",
    "\n",
    "![缝合流程](image/StitchingPipeline.jpg)"
   ]
  },
  {
   "cell_type": "markdown",
   "metadata": {},
   "source": [
    "### warpPerspective计算公式\n",
    "![warpPerspective计算公式](https://docs.opencv.org/2.4.9/_images/math/4d8aae9979b955d5a94ac070827113377c052a5a.png)"
   ]
  },
  {
   "cell_type": "code",
   "execution_count": 2,
   "metadata": {},
   "outputs": [],
   "source": [
    "class Stitcher(object):\n",
    "    pass"
   ]
  },
  {
   "cell_type": "code",
   "execution_count": 3,
   "metadata": {},
   "outputs": [],
   "source": [
    "def stitch(self, images, ratio=0.75, reprojThresh=4.0,\n",
    "    showMatches=False):\n",
    "    # unpack the images, then detect keypoints and extract\n",
    "    # local invariant descriptors from them\n",
    "    (imageA, imageB) = images\n",
    "    (kpsA, featuresA) = self.detectAndDescribe(imageA)\n",
    "    (kpsB, featuresB) = self.detectAndDescribe(imageB)\n",
    "\n",
    "    # match features between the two images\n",
    "    M = self.matchKeypoints(kpsA, kpsB,\n",
    "        featuresA, featuresB, ratio, reprojThresh)\n",
    "\n",
    "    # if the match is None, then there aren't enough matched\n",
    "    # keypoints to create a panorama\n",
    "    if M is None:\n",
    "        return None\n",
    "\n",
    "    # otherwise, apply a perspective warp to stitch the images\n",
    "    # together\n",
    "    (matches, H, status) = M\n",
    "    result = cv2.warpPerspective(imageB, H,\n",
    "        (imageA.shape[1] + imageB.shape[1], imageB.shape[0]))\n",
    "    result[0:imageA.shape[0], 0:imageA.shape[1]] = imageA\n",
    "\n",
    "    #计算 图像B的近端x值\n",
    "    x1 = (H[0][0] * imageB.shape[1] + H[0][2]) /(H[2][0] * imageB.shape[1] + H[2][2])\n",
    "    x2 = (H[0][0] * imageB.shape[1] + H[0][1]*imageB.shape[0] + H[0][2]) /(H[2][0] * imageB.shape[1] + H[2][1] * imageB.shape[0] + H[2][2])\n",
    "    x = min(x1, x2)\n",
    "    result = result[0:imageA.shape[0],0:int(x)]\n",
    "\n",
    "\n",
    "    # check to see if the keypoint matches should be visualized\n",
    "    if showMatches:\n",
    "        vis = self.drawMatches(imageA, imageB, kpsA, kpsB, matches, status)\n",
    "\n",
    "        # return a tuple of the stitched image and the\n",
    "        # visualization\n",
    "        return (result, vis)\n",
    "\n",
    "    # return the stitched image\n",
    "    return result\n",
    "Stitcher.stitch = stitch"
   ]
  },
  {
   "cell_type": "code",
   "execution_count": 4,
   "metadata": {},
   "outputs": [],
   "source": [
    "def detectAndDescribe(self, image):\n",
    "    # convert the image to grayscale\n",
    "    gray = cv2.cvtColor(image, cv2.COLOR_BGR2GRAY)\n",
    "\n",
    "    # detect and extract features from the image\n",
    "    descriptor = cv2.xfeatures2d.SIFT_create()\n",
    "    (kps, features) = descriptor.detectAndCompute(image, None)\n",
    "\n",
    "    # convert the keypoints from KeyPoint objects to NumPy\n",
    "    # arrays\n",
    "    kps = np.float32([kp.pt for kp in kps])\n",
    "\n",
    "    # return a tuple of keypoints and features\n",
    "    return (kps, features)\n",
    "Stitcher.detectAndDescribe = detectAndDescribe"
   ]
  },
  {
   "cell_type": "code",
   "execution_count": 5,
   "metadata": {},
   "outputs": [],
   "source": [
    "def matchKeypoints(self, kpsA, kpsB, featuresA, featuresB,\n",
    "    ratio, reprojThresh):\n",
    "    # compute the raw matches and initialize the list of actual\n",
    "    # matches\n",
    "\n",
    "    matcher = cv2.DescriptorMatcher_create(\"BruteForce\")\n",
    "    rawMatches = matcher.knnMatch(featuresA, featuresB, 2)\n",
    "    matches = []\n",
    "\n",
    "    # loop over the raw matches\n",
    "    for m in rawMatches:\n",
    "        # ensure the distance is within a certain ratio of each\n",
    "        # other (i.e. Lowe's ratio test)\n",
    "        if len(m) == 2 and m[0].distance < m[1].distance * ratio:\n",
    "            matches.append((m[0].trainIdx, m[0].queryIdx))\n",
    "\n",
    "    # computing a homography requires at least 4 matches\n",
    "    if len(matches) > 4:\n",
    "        # construct the two sets of points\n",
    "        ptsA = np.float32([kpsA[i] for (_, i) in matches])\n",
    "        ptsB = np.float32([kpsB[i] for (i, _) in matches])\n",
    "\n",
    "        # compute the homography between the two sets of points\n",
    "        (H, status) = cv2.findHomography(ptsB, ptsA, cv2.RANSAC, reprojThresh)\n",
    "\n",
    "        # return the matches along with the homograpy matrix\n",
    "        # and status of each matched point\n",
    "        return (matches, H, status)\n",
    "\n",
    "    # otherwise, no homograpy could be computed\n",
    "    return None\n",
    "Stitcher.matchKeypoints = matchKeypoints"
   ]
  },
  {
   "cell_type": "code",
   "execution_count": 6,
   "metadata": {},
   "outputs": [],
   "source": [
    "def drawMatches(self, imageA, imageB, kpsA, kpsB, matches, status):\n",
    "    # initialize the output visualization image\n",
    "    (hA, wA) = imageA.shape[:2]\n",
    "    (hB, wB) = imageB.shape[:2]\n",
    "    vis = np.zeros((max(hA, hB), wA + wB, 3), dtype=\"uint8\")\n",
    "    vis[0:hA, 0:wA] = imageA\n",
    "    vis[0:hB, wA:] = imageB\n",
    "\n",
    "    # loop over the matches\n",
    "    for ((trainIdx, queryIdx), s) in zip(matches, status):\n",
    "        # only process the match if the keypoint was successfully\n",
    "        # matched\n",
    "        if s == 1:\n",
    "            # draw the match\n",
    "            ptA = (int(kpsA[queryIdx][0]), int(kpsA[queryIdx][1]))\n",
    "            ptB = (int(kpsB[trainIdx][0]) + wA, int(kpsB[trainIdx][1]))\n",
    "            cv2.line(vis, ptA, ptB, (0, 255, 0), 1)\n",
    "\n",
    "    # return the visualization\n",
    "    return vis\n",
    "Stitcher.drawMatches = drawMatches"
   ]
  },
  {
   "cell_type": "markdown",
   "metadata": {},
   "source": [
    "\n",
    "不同版本SIFT create方法不同\n",
    "\n",
    "        if self.isv3:\n",
    "            # detect and extract features from the image\n",
    "            descriptor = cv2.xfeatures2d.SIFT_create()\n",
    "            (kps, features) = descriptor.detectAndCompute(image, None)\n",
    "\n",
    "        # otherwise, we are using OpenCV 2.4.X\n",
    "        else:\n",
    "            # detect keypoints in the image\n",
    "            detector = cv2.FeatureDetector_create(\"SIFT\")\n",
    "            kps = detector.detect(gray)\n",
    "\n",
    "            # extract features from the image\n",
    "            extractor = cv2.DescriptorExtractor_create(\"SIFT\")\n",
    "            (kps, features) = extractor.compute(gray, kps)"
   ]
  },
  {
   "cell_type": "code",
   "execution_count": 8,
   "metadata": {},
   "outputs": [
    {
     "name": "stdout",
     "output_type": "stream",
     "text": [
      "/home/bbot/opencv_course/aa\n"
     ]
    }
   ],
   "source": [
    "!pwd"
   ]
  },
  {
   "cell_type": "code",
   "execution_count": 11,
   "metadata": {},
   "outputs": [
    {
     "name": "stdout",
     "output_type": "stream",
     "text": [
      "[[[ 55  54  59]\n",
      "  [ 54  53  58]\n",
      "  [ 55  52  56]\n",
      "  ...\n",
      "  [251 251 251]\n",
      "  [251 251 251]\n",
      "  [251 251 251]]\n",
      "\n",
      " [[ 54  53  56]\n",
      "  [ 55  54  57]\n",
      "  [ 55  54  57]\n",
      "  ...\n",
      "  [251 251 251]\n",
      "  [251 251 251]\n",
      "  [251 251 251]]\n",
      "\n",
      " [[ 55  54  57]\n",
      "  [ 55  54  57]\n",
      "  [ 57  54  60]\n",
      "  ...\n",
      "  [251 251 251]\n",
      "  [251 251 251]\n",
      "  [251 251 251]]\n",
      "\n",
      " ...\n",
      "\n",
      " [[197 189 157]\n",
      "  [194 186 156]\n",
      "  [188 179 154]\n",
      "  ...\n",
      "  [ 57  58  63]\n",
      "  [ 57  58  63]\n",
      "  [ 57  58  63]]\n",
      "\n",
      " [[197 188 161]\n",
      "  [195 186 161]\n",
      "  [188 179 156]\n",
      "  ...\n",
      "  [ 57  58  63]\n",
      "  [ 57  58  63]\n",
      "  [ 57  58  63]]\n",
      "\n",
      " [[196 188 158]\n",
      "  [195 186 159]\n",
      "  [188 179 156]\n",
      "  ...\n",
      "  [ 55  56  61]\n",
      "  [ 57  58  63]\n",
      "  [ 55  56  61]]]\n"
     ]
    },
    {
     "ename": "error",
     "evalue": "OpenCV(4.1.0) /home/bbot/opencv41/opencv_contrib-4.1.0/modules/xfeatures2d/src/sift.cpp:1207: error: (-213:The function/feature is not implemented) This algorithm is patented and is excluded in this configuration; Set OPENCV_ENABLE_NONFREE CMake option and rebuild the library in function 'create'\n",
     "traceback": [
      "\u001b[0;31m---------------------------------------------------------------------------\u001b[0m",
      "\u001b[0;31merror\u001b[0m                                     Traceback (most recent call last)",
      "\u001b[0;32m<ipython-input-11-f24b9bd95f88>\u001b[0m in \u001b[0;36m<module>\u001b[0;34m\u001b[0m\n\u001b[1;32m      7\u001b[0m \u001b[0;31m# stitch the images together to create a panorama\u001b[0m\u001b[0;34m\u001b[0m\u001b[0;34m\u001b[0m\u001b[0;34m\u001b[0m\u001b[0m\n\u001b[1;32m      8\u001b[0m \u001b[0mstitcher\u001b[0m \u001b[0;34m=\u001b[0m \u001b[0mStitcher\u001b[0m\u001b[0;34m(\u001b[0m\u001b[0;34m)\u001b[0m\u001b[0;34m\u001b[0m\u001b[0;34m\u001b[0m\u001b[0m\n\u001b[0;32m----> 9\u001b[0;31m \u001b[0;34m(\u001b[0m\u001b[0mresult\u001b[0m\u001b[0;34m,\u001b[0m \u001b[0mvis\u001b[0m\u001b[0;34m)\u001b[0m \u001b[0;34m=\u001b[0m \u001b[0mstitcher\u001b[0m\u001b[0;34m.\u001b[0m\u001b[0mstitch\u001b[0m\u001b[0;34m(\u001b[0m\u001b[0;34m[\u001b[0m\u001b[0mimageA\u001b[0m\u001b[0;34m,\u001b[0m \u001b[0mimageB\u001b[0m\u001b[0;34m]\u001b[0m\u001b[0;34m,\u001b[0m \u001b[0mshowMatches\u001b[0m\u001b[0;34m=\u001b[0m\u001b[0;32mTrue\u001b[0m\u001b[0;34m)\u001b[0m\u001b[0;34m\u001b[0m\u001b[0;34m\u001b[0m\u001b[0m\n\u001b[0m\u001b[1;32m     10\u001b[0m \u001b[0;34m\u001b[0m\u001b[0m\n\u001b[1;32m     11\u001b[0m \u001b[0mImageUtil\u001b[0m\u001b[0;34m.\u001b[0m\u001b[0mimshow\u001b[0m\u001b[0;34m(\u001b[0m\u001b[0;34m[\u001b[0m\u001b[0mimageA\u001b[0m\u001b[0;34m,\u001b[0m \u001b[0mimageB\u001b[0m\u001b[0;34m]\u001b[0m\u001b[0;34m,\u001b[0m \u001b[0mcolumns\u001b[0m\u001b[0;34m=\u001b[0m\u001b[0;36m2\u001b[0m\u001b[0;34m,\u001b[0m \u001b[0mrows\u001b[0m\u001b[0;34m=\u001b[0m\u001b[0;36m1\u001b[0m\u001b[0;34m,\u001b[0m\u001b[0mfigsize\u001b[0m\u001b[0;34m=\u001b[0m\u001b[0;34m(\u001b[0m\u001b[0;36m30\u001b[0m\u001b[0;34m,\u001b[0m \u001b[0;36m60\u001b[0m\u001b[0;34m)\u001b[0m\u001b[0;34m)\u001b[0m\u001b[0;34m\u001b[0m\u001b[0;34m\u001b[0m\u001b[0m\n",
      "\u001b[0;32m<ipython-input-3-5bcf13c0229d>\u001b[0m in \u001b[0;36mstitch\u001b[0;34m(self, images, ratio, reprojThresh, showMatches)\u001b[0m\n\u001b[1;32m      4\u001b[0m     \u001b[0;31m# local invariant descriptors from them\u001b[0m\u001b[0;34m\u001b[0m\u001b[0;34m\u001b[0m\u001b[0;34m\u001b[0m\u001b[0m\n\u001b[1;32m      5\u001b[0m     \u001b[0;34m(\u001b[0m\u001b[0mimageA\u001b[0m\u001b[0;34m,\u001b[0m \u001b[0mimageB\u001b[0m\u001b[0;34m)\u001b[0m \u001b[0;34m=\u001b[0m \u001b[0mimages\u001b[0m\u001b[0;34m\u001b[0m\u001b[0;34m\u001b[0m\u001b[0m\n\u001b[0;32m----> 6\u001b[0;31m     \u001b[0;34m(\u001b[0m\u001b[0mkpsA\u001b[0m\u001b[0;34m,\u001b[0m \u001b[0mfeaturesA\u001b[0m\u001b[0;34m)\u001b[0m \u001b[0;34m=\u001b[0m \u001b[0mself\u001b[0m\u001b[0;34m.\u001b[0m\u001b[0mdetectAndDescribe\u001b[0m\u001b[0;34m(\u001b[0m\u001b[0mimageA\u001b[0m\u001b[0;34m)\u001b[0m\u001b[0;34m\u001b[0m\u001b[0;34m\u001b[0m\u001b[0m\n\u001b[0m\u001b[1;32m      7\u001b[0m     \u001b[0;34m(\u001b[0m\u001b[0mkpsB\u001b[0m\u001b[0;34m,\u001b[0m \u001b[0mfeaturesB\u001b[0m\u001b[0;34m)\u001b[0m \u001b[0;34m=\u001b[0m \u001b[0mself\u001b[0m\u001b[0;34m.\u001b[0m\u001b[0mdetectAndDescribe\u001b[0m\u001b[0;34m(\u001b[0m\u001b[0mimageB\u001b[0m\u001b[0;34m)\u001b[0m\u001b[0;34m\u001b[0m\u001b[0;34m\u001b[0m\u001b[0m\n\u001b[1;32m      8\u001b[0m \u001b[0;34m\u001b[0m\u001b[0m\n",
      "\u001b[0;32m<ipython-input-4-71bb9568c3d7>\u001b[0m in \u001b[0;36mdetectAndDescribe\u001b[0;34m(self, image)\u001b[0m\n\u001b[1;32m      4\u001b[0m \u001b[0;34m\u001b[0m\u001b[0m\n\u001b[1;32m      5\u001b[0m     \u001b[0;31m# detect and extract features from the image\u001b[0m\u001b[0;34m\u001b[0m\u001b[0;34m\u001b[0m\u001b[0;34m\u001b[0m\u001b[0m\n\u001b[0;32m----> 6\u001b[0;31m     \u001b[0mdescriptor\u001b[0m \u001b[0;34m=\u001b[0m \u001b[0mcv2\u001b[0m\u001b[0;34m.\u001b[0m\u001b[0mxfeatures2d\u001b[0m\u001b[0;34m.\u001b[0m\u001b[0mSIFT_create\u001b[0m\u001b[0;34m(\u001b[0m\u001b[0;34m)\u001b[0m\u001b[0;34m\u001b[0m\u001b[0;34m\u001b[0m\u001b[0m\n\u001b[0m\u001b[1;32m      7\u001b[0m     \u001b[0;34m(\u001b[0m\u001b[0mkps\u001b[0m\u001b[0;34m,\u001b[0m \u001b[0mfeatures\u001b[0m\u001b[0;34m)\u001b[0m \u001b[0;34m=\u001b[0m \u001b[0mdescriptor\u001b[0m\u001b[0;34m.\u001b[0m\u001b[0mdetectAndCompute\u001b[0m\u001b[0;34m(\u001b[0m\u001b[0mimage\u001b[0m\u001b[0;34m,\u001b[0m \u001b[0;32mNone\u001b[0m\u001b[0;34m)\u001b[0m\u001b[0;34m\u001b[0m\u001b[0;34m\u001b[0m\u001b[0m\n\u001b[1;32m      8\u001b[0m \u001b[0;34m\u001b[0m\u001b[0m\n",
      "\u001b[0;31merror\u001b[0m: OpenCV(4.1.0) /home/bbot/opencv41/opencv_contrib-4.1.0/modules/xfeatures2d/src/sift.cpp:1207: error: (-213:The function/feature is not implemented) This algorithm is patented and is excluded in this configuration; Set OPENCV_ENABLE_NONFREE CMake option and rebuild the library in function 'create'\n"
     ],
     "output_type": "error"
    }
   ],
   "source": [
    "import matplotlib.pyplot as plt\n",
    "\n",
    "imageA = cv2.imread(\"1.jpg\")\n",
    "imageB = cv2.imread(\"2.jpg\")\n",
    "\n",
    "# stitch the images together to create a panorama\n",
    "stitcher = Stitcher()\n",
    "(result, vis) = stitcher.stitch([imageA, imageB], showMatches=True)\n",
    "\n",
    "ImageUtil.imshow([imageA, imageB], columns=2, rows=1,figsize=(30, 60))\n",
    "ImageUtil.imshow([vis], figsize=(50, 40))\n",
    "ImageUtil.imshow([result], figsize=(50, 40))"
   ]
  },
  {
   "cell_type": "code",
   "execution_count": null,
   "metadata": {},
   "outputs": [],
   "source": []
  },
  {
   "cell_type": "code",
   "execution_count": null,
   "metadata": {},
   "outputs": [],
   "source": []
  },
  {
   "cell_type": "code",
   "execution_count": null,
   "metadata": {},
   "outputs": [],
   "source": []
  }
 ],
 "metadata": {
  "kernelspec": {
   "display_name": "Python 3",
   "language": "python",
   "name": "python3"
  },
  "language_info": {
   "codemirror_mode": {
    "name": "ipython",
    "version": 3
   },
   "file_extension": ".py",
   "mimetype": "text/x-python",
   "name": "python",
   "nbconvert_exporter": "python",
   "pygments_lexer": "ipython3",
   "version": "3.6.8"
  }
 },
 "nbformat": 4,
 "nbformat_minor": 4
}
