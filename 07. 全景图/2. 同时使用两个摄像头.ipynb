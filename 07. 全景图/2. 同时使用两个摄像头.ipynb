{
 "cells": [
  {
   "cell_type": "markdown",
   "metadata": {},
   "source": [
    "## 同时使用两个摄像头"
   ]
  },
  {
   "cell_type": "code",
   "execution_count": 1,
   "metadata": {},
   "outputs": [],
   "source": [
    "import traitlets\n",
    "from traitlets.config.configurable import SingletonConfigurable\n",
    "import numpy as np\n",
    "import cv2\n",
    "import ipywidgets.widgets as widgets\n",
    "from IPython.display import display\n",
    "import sys\n",
    "sys.path.append('..')\n",
    "from opencv_course.video import Camera\n",
    "\n",
    "image_left = None\n",
    "image_right = None\n",
    "\n",
    "def bgr8_to_jpeg_left(value, quality=10):\n",
    "    global image_left, image_right\n",
    "    image_left = cv2.imencode('.jpg', value)[1]\n",
    "    if image_right is not None:\n",
    "        images = [image_left, image_right]\n",
    "        stitcher = cv2.Stitcher_create()\n",
    "        (status, stitched) = stitcher.stitch(images)\n",
    "        return bytes(stitched)\n",
    "    return bytes(image_left)\n",
    "\n",
    "def bgr8_to_jpeg_right(value, quality=10):\n",
    "    global image_left, image_right\n",
    "    image_right = cv2.imencode('.jpg', value)[1]\n",
    "    if image_left is not None:\n",
    "        images = [image_left, image_right]\n",
    "        stitcher = cv2.Stitcher_create()\n",
    "        (status, stitched) = stitcher.stitch(images)\n",
    "        return bytes(stitched)\n",
    "    return bytes(image_right)"
   ]
  },
  {
   "cell_type": "markdown",
   "metadata": {},
   "source": [
    "## 打开板载摄像头"
   ]
  },
  {
   "cell_type": "code",
   "execution_count": 2,
   "metadata": {},
   "outputs": [
    {
     "name": "stdout",
     "output_type": "stream",
     "text": [
      "w:320.0, h:240.0, fps:10.0, brightness:0.0, contrast:0.0, zoom:0.0\n",
      "h, w: 240, 320\n"
     ]
    },
    {
     "data": {
      "application/vnd.jupyter.widget-view+json": {
       "model_id": "3c42e219e3a74632b1fca16b363a07fd",
       "version_major": 2,
       "version_minor": 0
      },
      "text/plain": [
       "Image(value=b'\\xff\\xd8\\xff\\xe0\\x00\\x10JFIF\\x00\\x01\\x01\\x00\\x00\\x01\\x00\\x01\\x00\\x00\\xff\\xdb\\x00C\\x00\\x02\\x01\\x0…"
      ]
     },
     "metadata": {},
     "output_type": "display_data"
    }
   ],
   "source": [
    "camera = Camera(width=320, height=240, fps=10, is_usb=False)\n",
    "\n",
    "image = widgets.Image(format='jpeg', width=244, height=244)  # this width and height doesn't necessarily have to match the camera\n",
    "\n",
    "traitlets.dlink((camera, 'value'), (image, 'value'), transform=bgr8_to_jpeg_left)\n",
    "\n",
    "display(image)"
   ]
  },
  {
   "cell_type": "markdown",
   "metadata": {},
   "source": [
    "## 打开USB摄像头"
   ]
  },
  {
   "cell_type": "code",
   "execution_count": 3,
   "metadata": {},
   "outputs": [
    {
     "name": "stdout",
     "output_type": "stream",
     "text": [
      "w:2304.0, h:1536.0, fps:2.0, brightness:131.0, contrast:141.0, zoom:0.0\n",
      "h, w: 240, 320\n"
     ]
    },
    {
     "name": "stderr",
     "output_type": "stream",
     "text": [
      "Exception in thread Thread-4:\n",
      "Traceback (most recent call last):\n",
      "  File \"/usr/lib/python3.6/threading.py\", line 916, in _bootstrap_inner\n",
      "    self.run()\n",
      "  File \"/usr/lib/python3.6/threading.py\", line 864, in run\n",
      "    self._target(*self._args, **self._kwargs)\n",
      "  File \"../opencv_course/video.py\", line 63, in _capture_frames\n",
      "    self.value = image\n",
      "  File \"/usr/local/lib/python3.6/dist-packages/traitlets/traitlets.py\", line 585, in __set__\n",
      "    self.set(obj, value)\n",
      "  File \"/usr/local/lib/python3.6/dist-packages/traitlets/traitlets.py\", line 574, in set\n",
      "    obj._notify_trait(self.name, old_value, new_value)\n",
      "  File \"/usr/local/lib/python3.6/dist-packages/traitlets/traitlets.py\", line 1139, in _notify_trait\n",
      "    type='change',\n",
      "  File \"/usr/local/lib/python3.6/dist-packages/traitlets/traitlets.py\", line 1176, in notify_change\n",
      "    c(change)\n",
      "  File \"/usr/local/lib/python3.6/dist-packages/traitlets/traitlets.py\", line 347, in _update\n",
      "    self._transform(change.new))\n",
      "  File \"<ipython-input-1-510122f4bf2c>\", line 20, in bgr8_to_jpeg_left\n",
      "    (status, stitched) = stitcher.stitch(images)\n",
      "cv2.error: OpenCV(4.1.0) /home/bbot/opencv41/opencv-4.1.0/modules/imgproc/src/resize.cpp:3721: error: (-215:Assertion failed) inv_scale_x > 0 in function 'resize'\n",
      "\n",
      "\n",
      "Exception in thread Thread-5:\n",
      "Traceback (most recent call last):\n",
      "  File \"/usr/lib/python3.6/threading.py\", line 916, in _bootstrap_inner\n",
      "    self.run()\n",
      "  File \"/usr/lib/python3.6/threading.py\", line 864, in run\n",
      "    self._target(*self._args, **self._kwargs)\n",
      "  File \"../opencv_course/video.py\", line 63, in _capture_frames\n",
      "    self.value = image\n",
      "  File \"/usr/local/lib/python3.6/dist-packages/traitlets/traitlets.py\", line 585, in __set__\n",
      "    self.set(obj, value)\n",
      "  File \"/usr/local/lib/python3.6/dist-packages/traitlets/traitlets.py\", line 574, in set\n",
      "    obj._notify_trait(self.name, old_value, new_value)\n",
      "  File \"/usr/local/lib/python3.6/dist-packages/traitlets/traitlets.py\", line 1139, in _notify_trait\n",
      "    type='change',\n",
      "  File \"/usr/local/lib/python3.6/dist-packages/traitlets/traitlets.py\", line 1176, in notify_change\n",
      "    c(change)\n",
      "  File \"/usr/local/lib/python3.6/dist-packages/traitlets/traitlets.py\", line 347, in _update\n",
      "    self._transform(change.new))\n",
      "  File \"<ipython-input-1-510122f4bf2c>\", line 30, in bgr8_to_jpeg_right\n",
      "    (status, stitched) = stitcher.stitch(images)\n",
      "cv2.error: OpenCV(4.1.0) /home/bbot/opencv41/opencv-4.1.0/modules/imgproc/src/resize.cpp:3721: error: (-215:Assertion failed) inv_scale_x > 0 in function 'resize'\n",
      "\n",
      "\n"
     ]
    },
    {
     "ename": "error",
     "evalue": "OpenCV(4.1.0) /home/bbot/opencv41/opencv-4.1.0/modules/imgproc/src/resize.cpp:3721: error: (-215:Assertion failed) inv_scale_x > 0 in function 'resize'\n",
     "output_type": "error",
     "traceback": [
      "\u001b[0;31m---------------------------------------------------------------------------\u001b[0m",
      "\u001b[0;31merror\u001b[0m                                     Traceback (most recent call last)",
      "\u001b[0;32m<ipython-input-3-644dee4a9e44>\u001b[0m in \u001b[0;36m<module>\u001b[0;34m\u001b[0m\n\u001b[1;32m      3\u001b[0m \u001b[0mimage2\u001b[0m \u001b[0;34m=\u001b[0m \u001b[0mwidgets\u001b[0m\u001b[0;34m.\u001b[0m\u001b[0mImage\u001b[0m\u001b[0;34m(\u001b[0m\u001b[0mformat\u001b[0m\u001b[0;34m=\u001b[0m\u001b[0;34m'jpeg'\u001b[0m\u001b[0;34m,\u001b[0m \u001b[0mwidth\u001b[0m\u001b[0;34m=\u001b[0m\u001b[0;36m244\u001b[0m\u001b[0;34m,\u001b[0m \u001b[0mheight\u001b[0m\u001b[0;34m=\u001b[0m\u001b[0;36m244\u001b[0m\u001b[0;34m)\u001b[0m  \u001b[0;31m# this width and height doesn't necessarily have to match the camera\u001b[0m\u001b[0;34m\u001b[0m\u001b[0;34m\u001b[0m\u001b[0m\n\u001b[1;32m      4\u001b[0m \u001b[0;34m\u001b[0m\u001b[0m\n\u001b[0;32m----> 5\u001b[0;31m \u001b[0mtraitlets\u001b[0m\u001b[0;34m.\u001b[0m\u001b[0mdlink\u001b[0m\u001b[0;34m(\u001b[0m\u001b[0;34m(\u001b[0m\u001b[0musb_camera\u001b[0m\u001b[0;34m,\u001b[0m \u001b[0;34m'value'\u001b[0m\u001b[0;34m)\u001b[0m\u001b[0;34m,\u001b[0m \u001b[0;34m(\u001b[0m\u001b[0mimage2\u001b[0m\u001b[0;34m,\u001b[0m \u001b[0;34m'value'\u001b[0m\u001b[0;34m)\u001b[0m\u001b[0;34m,\u001b[0m \u001b[0mtransform\u001b[0m\u001b[0;34m=\u001b[0m\u001b[0mbgr8_to_jpeg_right\u001b[0m\u001b[0;34m)\u001b[0m\u001b[0;34m\u001b[0m\u001b[0;34m\u001b[0m\u001b[0m\n\u001b[0m\u001b[1;32m      6\u001b[0m \u001b[0;34m\u001b[0m\u001b[0m\n\u001b[1;32m      7\u001b[0m \u001b[0mdisplay\u001b[0m\u001b[0;34m(\u001b[0m\u001b[0mimage2\u001b[0m\u001b[0;34m)\u001b[0m\u001b[0;34m\u001b[0m\u001b[0;34m\u001b[0m\u001b[0m\n",
      "\u001b[0;32m/usr/local/lib/python3.6/dist-packages/traitlets/traitlets.py\u001b[0m in \u001b[0;36m__init__\u001b[0;34m(self, source, target, transform)\u001b[0m\n\u001b[1;32m    328\u001b[0m         \u001b[0;32mtry\u001b[0m\u001b[0;34m:\u001b[0m\u001b[0;34m\u001b[0m\u001b[0;34m\u001b[0m\u001b[0m\n\u001b[1;32m    329\u001b[0m             setattr(target[0], target[1],\n\u001b[0;32m--> 330\u001b[0;31m                     self._transform(getattr(source[0], source[1])))\n\u001b[0m\u001b[1;32m    331\u001b[0m         \u001b[0;32mfinally\u001b[0m\u001b[0;34m:\u001b[0m\u001b[0;34m\u001b[0m\u001b[0;34m\u001b[0m\u001b[0m\n\u001b[1;32m    332\u001b[0m             \u001b[0mself\u001b[0m\u001b[0;34m.\u001b[0m\u001b[0msource\u001b[0m\u001b[0;34m[\u001b[0m\u001b[0;36m0\u001b[0m\u001b[0;34m]\u001b[0m\u001b[0;34m.\u001b[0m\u001b[0mobserve\u001b[0m\u001b[0;34m(\u001b[0m\u001b[0mself\u001b[0m\u001b[0;34m.\u001b[0m\u001b[0m_update\u001b[0m\u001b[0;34m,\u001b[0m \u001b[0mnames\u001b[0m\u001b[0;34m=\u001b[0m\u001b[0mself\u001b[0m\u001b[0;34m.\u001b[0m\u001b[0msource\u001b[0m\u001b[0;34m[\u001b[0m\u001b[0;36m1\u001b[0m\u001b[0;34m]\u001b[0m\u001b[0;34m)\u001b[0m\u001b[0;34m\u001b[0m\u001b[0;34m\u001b[0m\u001b[0m\n",
      "\u001b[0;32m<ipython-input-1-510122f4bf2c>\u001b[0m in \u001b[0;36mbgr8_to_jpeg_right\u001b[0;34m(value, quality)\u001b[0m\n\u001b[1;32m     28\u001b[0m         \u001b[0mimages\u001b[0m \u001b[0;34m=\u001b[0m \u001b[0;34m[\u001b[0m\u001b[0mimage_left\u001b[0m\u001b[0;34m,\u001b[0m \u001b[0mimage_right\u001b[0m\u001b[0;34m]\u001b[0m\u001b[0;34m\u001b[0m\u001b[0;34m\u001b[0m\u001b[0m\n\u001b[1;32m     29\u001b[0m         \u001b[0mstitcher\u001b[0m \u001b[0;34m=\u001b[0m \u001b[0mcv2\u001b[0m\u001b[0;34m.\u001b[0m\u001b[0mStitcher_create\u001b[0m\u001b[0;34m(\u001b[0m\u001b[0;34m)\u001b[0m\u001b[0;34m\u001b[0m\u001b[0;34m\u001b[0m\u001b[0m\n\u001b[0;32m---> 30\u001b[0;31m         \u001b[0;34m(\u001b[0m\u001b[0mstatus\u001b[0m\u001b[0;34m,\u001b[0m \u001b[0mstitched\u001b[0m\u001b[0;34m)\u001b[0m \u001b[0;34m=\u001b[0m \u001b[0mstitcher\u001b[0m\u001b[0;34m.\u001b[0m\u001b[0mstitch\u001b[0m\u001b[0;34m(\u001b[0m\u001b[0mimages\u001b[0m\u001b[0;34m)\u001b[0m\u001b[0;34m\u001b[0m\u001b[0;34m\u001b[0m\u001b[0m\n\u001b[0m\u001b[1;32m     31\u001b[0m         \u001b[0;32mreturn\u001b[0m \u001b[0mbytes\u001b[0m\u001b[0;34m(\u001b[0m\u001b[0mstitched\u001b[0m\u001b[0;34m)\u001b[0m\u001b[0;34m\u001b[0m\u001b[0;34m\u001b[0m\u001b[0m\n\u001b[1;32m     32\u001b[0m     \u001b[0;32mreturn\u001b[0m \u001b[0mbytes\u001b[0m\u001b[0;34m(\u001b[0m\u001b[0mimage_right\u001b[0m\u001b[0;34m)\u001b[0m\u001b[0;34m\u001b[0m\u001b[0;34m\u001b[0m\u001b[0m\n",
      "\u001b[0;31merror\u001b[0m: OpenCV(4.1.0) /home/bbot/opencv41/opencv-4.1.0/modules/imgproc/src/resize.cpp:3721: error: (-215:Assertion failed) inv_scale_x > 0 in function 'resize'\n"
     ]
    }
   ],
   "source": [
    "usb_camera = Camera(width=320, height=240, fps=10, is_usb=True)\n",
    "\n",
    "image2 = widgets.Image(format='jpeg', width=244, height=244)  # this width and height doesn't necessarily have to match the camera\n",
    "\n",
    "traitlets.dlink((usb_camera, 'value'), (image2, 'value'), transform=bgr8_to_jpeg_right)\n",
    "\n",
    "display(image2)"
   ]
  },
  {
   "cell_type": "code",
   "execution_count": null,
   "metadata": {},
   "outputs": [],
   "source": [
    "import traitlets\n",
    "import ipywidgets\n",
    "import subprocess\n",
    "import ipywidgets.widgets as widgets\n",
    "from ipywidgets import interact\n",
    "\n",
    "def brightness_change(brightness):\n",
    "    subprocess.check_output([\"v4l2-ctl\", \"-d\", \"1\", \"-c\", \"brightness={}\".format(brightness)])\n",
    "    \n",
    "interact(brightness_change, brightness=widgets.IntSlider(min=0, max=255, step=1, value=128));\n",
    "\n",
    "def contrast_change(contrast):\n",
    "    subprocess.check_output([\"v4l2-ctl\", \"-d\", \"1\", \"-c\", \"contrast={}\".format(contrast)])\n",
    "interact(contrast_change, contrast=widgets.IntSlider(min=0, max=255, step=1, value=128));\n",
    "\n",
    "display(ipywidgets.HBox([image, image2]))"
   ]
  },
  {
   "cell_type": "markdown",
   "metadata": {},
   "source": [
    "## 关闭两个摄像头"
   ]
  },
  {
   "cell_type": "code",
   "execution_count": 4,
   "metadata": {},
   "outputs": [],
   "source": [
    "camera.unobserve_all()\n",
    "camera.stop()\n",
    "\n",
    "usb_camera.unobserve_all()\n",
    "usb_camera.stop()"
   ]
  },
  {
   "cell_type": "code",
   "execution_count": null,
   "metadata": {},
   "outputs": [],
   "source": []
  }
 ],
 "metadata": {
  "kernelspec": {
   "display_name": "Python 3",
   "language": "python",
   "name": "python3"
  },
  "language_info": {
   "codemirror_mode": {
    "name": "ipython",
    "version": 3
   },
   "file_extension": ".py",
   "mimetype": "text/x-python",
   "name": "python",
   "nbconvert_exporter": "python",
   "pygments_lexer": "ipython3",
   "version": "3.6.8"
  }
 },
 "nbformat": 4,
 "nbformat_minor": 4
}
